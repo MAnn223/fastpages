{
 "cells": [
  {
   "cell_type": "markdown",
   "metadata": {},
   "source": [
    "# Boolean Expressions and If Statements Lesson\n",
    "> Week 3 Meena's Ifs Lesson \n",
    "\n",
    "- toc: true \n",
    "- badges: true\n",
    "- comments: true\n",
    "- categories: [jupyter]\n",
    "- image: images/bashPreview.jpg"
   ]
  },
  {
   "cell_type": "markdown",
   "metadata": {},
   "source": [
    "## If statement\n",
    "\n",
    "If statements allow you to run a certain piece of code if a specified condition is true. \n"
   ]
  },
  {
   "cell_type": "code",
   "execution_count": null,
   "metadata": {},
   "outputs": [],
   "source": [
    "if (condition) {\n",
    "    //run this code if the condition is true\n",
    "}"
   ]
  },
  {
   "cell_type": "code",
   "execution_count": 3,
   "metadata": {},
   "outputs": [
    {
     "name": "stdout",
     "output_type": "stream",
     "text": [
      "10 < 20 is true\n"
     ]
    }
   ],
   "source": [
    "// Here is an example\n",
    "int num1 = 10;\n",
    "int num2 = 20;\n",
    "\n",
    "if (num1 < num2) {\n",
    "    System.out.println(\"10 < 20 is true\");\n",
    "}\n",
    "\n",
    "\n",
    "if (num1 > num2) {\n",
    "    //this statement will not be printed as the condition is false\n",
    "    System.out.println(\"10 > 20 is true\");\n",
    "}\n"
   ]
  },
  {
   "cell_type": "markdown",
   "metadata": {},
   "source": [
    "## Else statement \n",
    "\n",
    "Else statements allow you to run a certain piece of code if the specified condition is false."
   ]
  },
  {
   "cell_type": "code",
   "execution_count": null,
   "metadata": {},
   "outputs": [],
   "source": [
    "if (condition) {\n",
    "    //run this code if the condition is true\n",
    "} else {\n",
    "    // run this code if the condition is false\n",
    "}"
   ]
  },
  {
   "cell_type": "code",
   "execution_count": 4,
   "metadata": {},
   "outputs": [
    {
     "name": "stdout",
     "output_type": "stream",
     "text": [
      "10 < 20 is true\n",
      "10 > 20 is false\n"
     ]
    }
   ],
   "source": [
    "// Going back to the previous example\n",
    "int num1 = 10;\n",
    "int num2 = 20;\n",
    "\n",
    "if (num1 < num2) {\n",
    "    System.out.println(\"10 < 20 is true\");\n",
    "} else {\n",
    "    //this statement will not be printed as the condition above was true so this code will never run\n",
    "    System.out.println(\"10 < 20 is false\");\n",
    "}\n",
    "\n",
    "if (num1 > num2) {\n",
    "    System.out.println(\"10 > 20 is true\");\n",
    "} else {\n",
    "    //this statement will  be printed as the condition above was false so this code will run\n",
    "    System.out.println(\"10 > 20 is false\");\n",
    "}\n"
   ]
  },
  {
   "cell_type": "markdown",
   "metadata": {},
   "source": [
    "## Else-if statement\n",
    "\n",
    "Else-if statements allow you to give backup conditions if the previous condition is false and run different pieces of code depending on if each of the conditions are true or false"
   ]
  },
  {
   "cell_type": "code",
   "execution_count": null,
   "metadata": {},
   "outputs": [],
   "source": [
    "if (firstCondition) {\n",
    "    //run this code if firstCondition is true\n",
    "} else if (secondCondition) {\n",
    "    // run this code if firstCondition is false and secondCondition is true\n",
    "} else {\n",
    "    // run this code if firstCondition is false and secondCondition is false\n",
    "}"
   ]
  },
  {
   "cell_type": "code",
   "execution_count": 6,
   "metadata": {},
   "outputs": [
    {
     "name": "stdout",
     "output_type": "stream",
     "text": [
      "10 < 20 is true\n"
     ]
    }
   ],
   "source": [
    "// Going back to the previous example\n",
    "int num1 = 10;\n",
    "int num2 = 20;\n",
    "\n",
    "if (num1 > num2) {\n",
    "    // num1 > num2 is false so this code will not run and will move on to check the next condition\n",
    "    System.out.println(\"10 > 20 is true\");\n",
    "} else if (num1 < num2) {\n",
    "    // this statement will be printed as the condition above was false and this conditions is true \n",
    "    System.out.println(\"10 < 20 is true\");\n",
    "//any number of else-if statements can be used\n",
    "} else {\n",
    "    // this statement will never be printed as the previous condition was true\n",
    "    System.out.println(\"10 = 20 is true\");\n",
    "}\n"
   ]
  },
  {
   "cell_type": "markdown",
   "metadata": {},
   "source": [
    "## switch-case and switch statements\n",
    "\n",
    "switch-case allows you to run certain blocks of code depending on the expression specified."
   ]
  },
  {
   "cell_type": "code",
   "execution_count": null,
   "metadata": {},
   "outputs": [],
   "source": [
    "switch(expression) {\n",
    "    case case1:\n",
    "        //code\n",
    "        break;\n",
    "    case case2:\n",
    "        //code\n",
    "        break;\n",
    "    case case3:\n",
    "        //code\n",
    "        break;\n",
    "    //any number of case statements can be used\n",
    "    default:\n",
    "        //code\n",
    "}"
   ]
  },
  {
   "cell_type": "markdown",
   "metadata": {},
   "source": [
    "The expression specified is checked and compared with each case and if the expression matches a case, the code under that case will run. \n",
    "\n",
    "`break` statements are often used with switch-case. `break` exits the loop it is in and move on to the next part of the code. \n",
    "\n",
    "The code under `default` will run if none of the cases are true. "
   ]
  },
  {
   "cell_type": "markdown",
   "metadata": {},
   "source": [
    "Below is an example of taking an if-elseif-else statement with multiple conditions and converting it to a switch-case statement"
   ]
  },
  {
   "cell_type": "markdown",
   "metadata": {},
   "source": [
    "### If-elseif-else"
   ]
  },
  {
   "cell_type": "code",
   "execution_count": 13,
   "metadata": {},
   "outputs": [
    {
     "name": "stdout",
     "output_type": "stream",
     "text": [
      "It is windy and it is raining\n"
     ]
    }
   ],
   "source": [
    "boolean raining = true;\n",
    "boolean cold = false;\n",
    "boolean windy = true;\n",
    "\n",
    "if (cold) {\n",
    "    //checks if cold is true but it's false so moves on to next condition\n",
    "    System.out.println(\"It is cold\");\n",
    "} else if ( cold && windy ) {\n",
    "    //cold is false and windy is true so the condition is false\n",
    "    System.out.println(\"It is cold and windy\");\n",
    "} else if ( raining && cold) {\n",
    "    // raining true but cold false so condition is false\n",
    "    System.out.println(\"It is raining and it is cold\");\n",
    "} else if ( raining && cold && windy) {\n",
    "    // again, cold is false so the condition is false\n",
    "    System.out.println(\"It is raining, windy, and cold\");\n",
    "} else if ( windy && cold) {\n",
    "    // again, cold is false so the condition is false\n",
    "    System.out.println(\"It is windy and it is cold\");\n",
    "} else if ( raining && windy) {\n",
    "    // prints out this statement since both conditions are true\n",
    "    System.out.println(\"It is windy and it is raining\");\n",
    "}\n",
    "else {\n",
    "    // doesn't get to this part of the code since the previous condition was true\n",
    "    System.out.println(\"It could be raining, cold, and/or windy\");\n",
    "}\n",
    "\n"
   ]
  },
  {
   "cell_type": "markdown",
   "metadata": {},
   "source": [
    "### Switch-case"
   ]
  },
  {
   "cell_type": "code",
   "execution_count": 14,
   "metadata": {},
   "outputs": [
    {
     "name": "stdout",
     "output_type": "stream",
     "text": [
      "It is windy and it is raining\n"
     ]
    }
   ],
   "source": [
    "String weather = \"windy and raining\";\n",
    "switch (weather) {\n",
    "    case \"cold\":\n",
    "        // checks if weather has a value of \"cold\" --> it doesn't so moves on to check next case\n",
    "        System.out.println(\"It is cold\");\n",
    "        break; \n",
    "    case \"raining\":\n",
    "        System.out.println(\"It is raining\");\n",
    "        break;\n",
    "    case \"raining and cold\":\n",
    "        System.out.println(\"It is raining and it is cold\");\n",
    "        break; \n",
    "    case \"raining and cold and windy\":\n",
    "        System.out.println(\"It is raining, windy, and cold\");\n",
    "        break;\n",
    "    case \"windy and cold\":\n",
    "        System.out.println(\"It is windy  and it is cold\");\n",
    "        break;\n",
    "    case \"windy and raining\":\n",
    "        // this case matches the String weather so this statement is printed out\n",
    "        System.out.println(\"It is windy and it is raining\");\n",
    "        break;\n",
    "    default:\n",
    "        // doesn't run this code since a case matched the expression \n",
    "        System.out.println(\"It could be raining, cold, and/or windy\");\n",
    "\n",
    "}"
   ]
  },
  {
   "cell_type": "markdown",
   "metadata": {},
   "source": [
    "## De Morgan's Law\n",
    "\n",
    "De Morgan's Law says that \"the complement of the product of all terms is equal to the sum of the complement of each term\" and shows how the NOT (!) operator can be distributed. For example, `!(A && B)` is the same as `!A || !B`. `!(C > D)` is the same as `C <= D`."
   ]
  },
  {
   "cell_type": "code",
   "execution_count": 1,
   "metadata": {},
   "outputs": [
    {
     "name": "stdout",
     "output_type": "stream",
     "text": [
      "It is not both cold and windy\n",
      "It is not both cold and windy\n"
     ]
    }
   ],
   "source": [
    "boolean cold = false;\n",
    "boolean windy = true;\n",
    "\n",
    "//this first if-else statement checks if both booleans are true and then reverse the result \n",
    "if (!(cold && windy)) {\n",
    "    System.out.println(\"It is not both cold and windy\");\n",
    "} else {\n",
    "    System.out.println(\"The condition is false\");\n",
    "}\n",
    "\n",
    "//this first if-else statement checks if cold is not true or if windy is not true \n",
    "if (!cold || !windy) {\n",
    "    System.out.println(\"It is not both cold and windy\");\n",
    "} else {\n",
    "    System.out.println(\"The condition is false\");\n",
    "}\n",
    "\n",
    "// Based on De Morgan's Law, both if-else statements provide the same output"
   ]
  }
 ],
 "metadata": {
  "kernelspec": {
   "display_name": "Java",
   "language": "java",
   "name": "java"
  },
  "language_info": {
   "codemirror_mode": "java",
   "file_extension": ".jshell",
   "mimetype": "text/x-java-source",
   "name": "java",
   "pygments_lexer": "java",
   "version": "11.0.16+8-post-Ubuntu-0ubuntu120.04"
  },
  "orig_nbformat": 4,
  "vscode": {
   "interpreter": {
    "hash": "916dbcbb3f70747c44a77c7bcd40155683ae19c65e1c03b4aa3499c5328201f1"
   }
  }
 },
 "nbformat": 4,
 "nbformat_minor": 2
}
