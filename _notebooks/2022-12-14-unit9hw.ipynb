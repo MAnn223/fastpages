{
 "cells": [
  {
   "attachments": {},
   "cell_type": "markdown",
   "metadata": {},
   "source": [
    "# Unit 9 HW  - Meena Annamalai\n",
    "> 2D Arrays\n",
    "\n",
    "- toc: true \n",
    "- badges: true\n",
    "- comments: true\n",
    "- categories: [jupyter]"
   ]
  },
  {
   "attachments": {},
   "cell_type": "markdown",
   "metadata": {},
   "source": [
    "## Part 1\n",
    "- Create a world cup superclass with properties of your choice and subclasses for five teams which inherits those properties\n",
    "- Write a constructor for one of those subclasses\n"
   ]
  },
  {
   "cell_type": "code",
   "execution_count": 5,
   "metadata": {
    "vscode": {
     "languageId": "java"
    }
   },
   "outputs": [
    {
     "name": "stdout",
     "output_type": "stream",
     "text": [
      "Team: Brazil, Head Coach: Tite, Captain: Vacant\n",
      "Team: US, Head Coach: Gregg Berhalter, Captain: Tyler Adams\n",
      "Team: France, Head Coach: Didier Deschamps, Captain: Hugo Lloris\n",
      "Team: Argentina, Head Coach: Lionel Scaloni , Captain: Lionel Messi\n",
      "Team: Portugal, Head Coach: Fernando Santos, Captain: Cristiano Ronaldo\n"
     ]
    }
   ],
   "source": [
    "public class worldCup {\n",
    "    public String teamName; \n",
    "    public String headCoach; \n",
    "    public String captain; \n",
    "\n",
    "    public worldCup(String teamName, String headCoach, String captain){\n",
    "        this.teamName = teamName;\n",
    "        this.headCoach = headCoach;\n",
    "        this.captain = captain;\n",
    "    }\n",
    "\n",
    "    public String getTeamInfo(){\n",
    "        String teamInfo = \"Team: \" + teamName + \", Head Coach: \" + headCoach + \", Captain: \" + captain;\n",
    "        return teamInfo;\n",
    "    }\n",
    "    \n",
    "}\n",
    "\n",
    "public class Brazil extends worldCup {\n",
    "    public Brazil(String teamName, String headCoach, String captain) {\n",
    "        super(teamName, headCoach, captain);\n",
    "    }\n",
    "}\n",
    "\n",
    "public class US extends worldCup {\n",
    "    public US(String teamName, String headCoach, String captain) {\n",
    "        super(teamName, headCoach, captain);\n",
    "    }\n",
    "}\n",
    "\n",
    "public class France extends worldCup {\n",
    "    public France(String teamName, String headCoach, String captain) {\n",
    "        super(teamName, headCoach, captain);\n",
    "    }\n",
    "}\n",
    "\n",
    "public class Argentina extends worldCup {\n",
    "    public Argentina(String teamName, String headCoach, String captain) {\n",
    "        super(teamName, headCoach, captain);\n",
    "    }\n",
    "}\n",
    "\n",
    "public class Portugal extends worldCup {\n",
    "    public Portugal(String teamName, String headCoach, String captain) {\n",
    "        super(teamName, headCoach, captain);\n",
    "    }\n",
    "}\n",
    "\n",
    "public class Tester{\n",
    "    public static void main(String [] args){\n",
    "        Brazil brazilTeam = new Brazil(\"Brazil\", \"Tite\", \"Vacant\");\n",
    "        System.out.println(brazilTeam.getTeamInfo());\n",
    "\n",
    "        US usTeam = new US(\"US\", \"Gregg Berhalter\", \"Tyler Adams\");\n",
    "        System.out.println(usTeam.getTeamInfo());\n",
    "\n",
    "        France franceTeam = new France(\"France\", \"Didier Deschamps\", \"Hugo Lloris\");\n",
    "        System.out.println(franceTeam.getTeamInfo());\n",
    "\n",
    "        Argentina argentinaTeam = new Argentina(\"Argentina\", \"Lionel Scaloni \", \"Lionel Messi\");\n",
    "        System.out.println(argentinaTeam.getTeamInfo());\n",
    "\n",
    "        Portugal portugalTeam = new Portugal(\"Portugal\", \"Fernando Santos\", \"Cristiano Ronaldo\");\n",
    "        System.out.println(portugalTeam.getTeamInfo());\n",
    "    }\n",
    "}\n",
    "\n",
    "Tester.main(null);"
   ]
  },
  {
   "attachments": {},
   "cell_type": "markdown",
   "metadata": {},
   "source": [
    "## Inheritance (To do)\n",
    "- Add a getAge method in the Person super class\n",
    "- Create a new subclass Student with additional members of your choice to personalize the Student class\n",
    "- Create a new subclass Teacher with additiona members of your choice\n",
    "- Override the toString method using the @Override to print a Student and teacher object with new members\n",
    "- Print the student and teacher."
   ]
  },
  {
   "cell_type": "code",
   "execution_count": 24,
   "metadata": {
    "vscode": {
     "languageId": "java"
    }
   },
   "outputs": [
    {
     "name": "stdout",
     "output_type": "stream",
     "text": [
      "bob's age: 22\n",
      "name: joe bday: 2003-01-01 grade: 5 gpa: 3.8\n",
      "name: mr. bobby bday: 1983-01-01 subject: English\n"
     ]
    }
   ],
   "source": [
    "import java.time.LocalDate;  \n",
    "import java.time.Period; \n",
    "\n",
    "public class Person {\n",
    "    public String name;\n",
    "    public String birthday;\n",
    " \n",
    "    public Person (String name, String birthday){\n",
    "       this.name = name;\n",
    "       this.birthday = birthday;\n",
    "    }\n",
    " \n",
    "    public String getName(){\n",
    "       return name;\n",
    "    }\n",
    "\n",
    "    public int getAge(){\n",
    "        LocalDate dob = LocalDate.parse(birthday);\n",
    "        LocalDate today = LocalDate.now();  \n",
    "        return Period.between(dob, today).getYears();\n",
    "    }\n",
    " }\n",
    " \n",
    " public class Student extends Person {\n",
    "    private int grade;\n",
    "    private double gpa;\n",
    " \n",
    "    public Student (String name, String birthday, int grade, double gpa) {\n",
    "       super(name, birthday);\n",
    "       this.grade = grade;\n",
    "       this.gpa = gpa;\n",
    "    }\n",
    " \n",
    "    public int getGrade(){\n",
    "       return grade;\n",
    "    }\n",
    "\n",
    "    @Override\n",
    "    public String toString(){\n",
    "        return \"name: \" + name + \" bday: \" + birthday + \" grade: \" + grade + \" gpa: \" + gpa;\n",
    "    }\n",
    " }\n",
    "\n",
    " public class Teacher extends Person {\n",
    "   private String subject;\n",
    "\n",
    "   public Teacher (String name, String birthday, String subject) {\n",
    "      super(name, birthday);\n",
    "      this.subject = subject;\n",
    "   }\n",
    "\n",
    "   @Override\n",
    "   public String toString(){\n",
    "      return \"name: \" + name + \" bday: \" + birthday + \" subject: \" + subject;\n",
    "  }\n",
    " }\n",
    "\n",
    " public class Tester{\n",
    "    public static void main(String [] args){ \n",
    "        Person bob = new Person(\"bob\", \"2000-01-01\");\n",
    "        System.out.println(bob.name + \"'s age: \" +bob.getAge());\n",
    "\n",
    "        Student joe = new Student(\"joe\", \"2003-01-01\", 5, 3.8);\n",
    "        System.out.println(joe.toString());\n",
    "\n",
    "        Teacher bobby = new Teacher(\"mr. bobby\", \"1983-01-01\", \"English\");\n",
    "        System.out.println(bobby.toString());\n",
    "    }\n",
    " }\n",
    "\n",
    " Tester.main(null);"
   ]
  }
 ],
 "metadata": {
  "kernelspec": {
   "display_name": "Java",
   "language": "java",
   "name": "java"
  },
  "language_info": {
   "codemirror_mode": "java",
   "file_extension": ".jshell",
   "mimetype": "text/x-java-source",
   "name": "Java",
   "pygments_lexer": "java",
   "version": "11.0.16+8-post-Ubuntu-0ubuntu120.04"
  },
  "orig_nbformat": 4,
  "vscode": {
   "interpreter": {
    "hash": "31f2aee4e71d21fbe5cf8b01ff0e069b9275f58929596ceb00d14d90e3e16cd6"
   }
  }
 },
 "nbformat": 4,
 "nbformat_minor": 2
}
