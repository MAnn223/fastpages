{
 "cells": [
  {
   "cell_type": "markdown",
   "metadata": {},
   "source": [
    "# Collegeboard Unit Lessons \n",
    "> Unit Lesson Notes from Class Presentations \n",
    "\n",
    "- toc: true \n",
    "- badges: true\n",
    "- comments: true\n",
    "- categories: [jupyter]\n",
    "- image: images/acorn.png"
   ]
  },
  {
   "cell_type": "markdown",
   "metadata": {},
   "source": [
    "## Unit 1: Primitive Types \n",
    "- Primitives Example:\n",
    "- [GPA Calculator](https://mann223.github.io/fastpages/jupyter/2022/08/25/primitiveHacks.html)\n",
    "\n",
    "- Primitive Types\n",
    "    - Boolean\n",
    "    - Numeric\n",
    "        - Character\n",
    "            - char\n",
    "        - Integral\n",
    "            - Integer\n",
    "                - byte\n",
    "                - short\n",
    "                - int\n",
    "                - long\n",
    "            - FLoating-point\n",
    "                - float\n",
    "                - double\n",
    "\n",
    "- Wrapper Classes (Non-Primitive)\n",
    "    - String, Array, etc.\n",
    "    - Like an object so has methods\n",
    "\n",
    "- Additional W1 Notes:\n",
    "    - Input\n",
    "        - `Scanner input;`\n",
    "        - `input = new Scanner(System.in);`\n",
    "        - `System.out.print(\"Enter an integer: \");`\n",
    "        - `input.close();`\n",
    "    - Output\n",
    "        - `System.out.println();`"
   ]
  },
  {
   "cell_type": "markdown",
   "metadata": {},
   "source": [
    "# Unit 2: Using Objects"
   ]
  },
  {
   "cell_type": "markdown",
   "metadata": {},
   "source": [
    "# Unit 3: Booleans Expressions and if Statements\n",
    "\n",
    "## Compound Boolean Expressions \n",
    "- De Morgan's Law - helps simplify boolean expressions\n",
    "- `!(a&&b)= (!a || !b)`\n",
    "- Truth tables to visualize Boolean identities\n",
    "\n",
    "![](../images/booleanLesson.PNG)\n",
    "\n",
    "\n",
    "## Comparing Objects\n",
    "- use `==` to see if two obj references are aliases for the same obj or to see if an obj is null\n",
    "- use `.equals()` to see if the attributes of two obj are the same"
   ]
  },
  {
   "cell_type": "markdown",
   "metadata": {},
   "source": [
    "# Unit 4: Iteration\n",
    "\n",
    "## While Loops\n",
    "- do something while a condition is true\n"
   ]
  },
  {
   "cell_type": "code",
   "execution_count": null,
   "metadata": {
    "vscode": {
     "languageId": "java"
    }
   },
   "outputs": [],
   "source": [
    "int x = 5;\n",
    "\n",
    "// The boolean expression in this case is x > 0\n",
    "while (x > 0) {\n",
    "    System.out.println(x);\n",
    "    x--;\n",
    "}"
   ]
  },
  {
   "cell_type": "markdown",
   "metadata": {},
   "source": [
    "- while loops can be used to iterate over elements"
   ]
  },
  {
   "cell_type": "code",
   "execution_count": null,
   "metadata": {
    "vscode": {
     "languageId": "java"
    }
   },
   "outputs": [],
   "source": [
    "int[] array = {3, 7, 0, 2, 4, 5, 9, 1, 3, 6, 3};\n",
    "int total = 0;\n",
    "int i = 0;\n",
    "\n",
    "while (i < array.length) {\n",
    "    total += array[i];\n",
    "    i++;\n",
    "}\n",
    "\n",
    "System.out.println(total);"
   ]
  },
  {
   "cell_type": "markdown",
   "metadata": {},
   "source": [
    "- infinite while loops - run over and over permanently since boolean condition true at all times"
   ]
  },
  {
   "cell_type": "code",
   "execution_count": null,
   "metadata": {
    "vscode": {
     "languageId": "java"
    }
   },
   "outputs": [],
   "source": [
    "import java.util.Scanner;\n",
    "\n",
    "Scanner input = new Scanner(System.in);\n",
    "String choice;\n",
    "\n",
    "while (true) {\n",
    "    System.out.println(\"Would you like to continue: \");\n",
    "    choice = input.nextLine();\n",
    "    if (choice.equals(\"No\")) {\n",
    "        break;\n",
    "    }\n",
    "}"
   ]
  },
  {
   "cell_type": "markdown",
   "metadata": {},
   "source": [
    "# Unit 5 Writing Classes"
   ]
  },
  {
   "cell_type": "markdown",
   "metadata": {},
   "source": [
    "- Class - blueprint to create objects\n",
    "    - instance variables/attributes (data)\n",
    "    - constructors \n",
    "    - methods\n",
    "        - accessors/getters\n",
    "        - mutators/setters\n",
    "        - main method (tester)\n",
    "\n",
    "- Objects are instances of a class\n",
    "- Methods are what an object can do\n",
    "- `public` means it can be accessed outside the class\n",
    "- `private` means its restricted to accessing it inside the class\n",
    "- Constructors \n",
    "    - initialize instance variables when an object is created"
   ]
  },
  {
   "cell_type": "code",
   "execution_count": null,
   "metadata": {
    "vscode": {
     "languageId": "java"
    }
   },
   "outputs": [],
   "source": [
    "public class Cow {\n",
    "\n",
    "    // instance variables\n",
    "    private String cowType;\n",
    "    private String sound;\n",
    "    private int numMilkings;\n",
    "\n",
    "    // constructor\n",
    "    public Cow (String cowType, String sound){\n",
    "        this.numMilkings = 0;\n",
    "        this.cowType = cowType;\n",
    "        this.sound = sound;\n",
    "    }\n",
    "\n",
    "    public String getSound(){\n",
    "        return sound;\n",
    "    }\n",
    "}    \n",
    "\n",
    "public class CowDriver{\n",
    "    public static void main(String[] args) {\n",
    "        Cow myCow = new Cow(\"holstein\", \"moo\");\n",
    "        System.out.println(myCow.getSound());\n",
    "        // myCow.sound = \"bark!\";\n",
    "    }\n",
    "}\n",
    "\n",
    "\n",
    "CowDriver.main(null);"
   ]
  },
  {
   "cell_type": "code",
   "execution_count": null,
   "metadata": {
    "vscode": {
     "languageId": "java"
    }
   },
   "outputs": [],
   "source": [
    "public class Song\n",
    "{\n",
    "\n",
    "  /** Verse - prints out a verse of the song\n",
    "   * @param number - a String like \"one\", \"two\", etc.\n",
    "   * @param rhyme - a String like \"thumb\", \"shoe\", etc.\n",
    "   */\n",
    "   public void verse(String number, String rhyme)\n",
    "   {\n",
    "     System.out.println(\"This old man, he played \" + number);\n",
    "     System.out.println(\"He played knick knack on my \" + rhyme);\n",
    "   }\n",
    "\n",
    "  // The chorus method\n",
    "  public void chorus()\n",
    "  {\n",
    "     System.out.println(\"With a knick knack paddy whack, give a dog a bone.\");\n",
    "     System.out.println(\"This old man came rolling home.\");\n",
    "  }\n",
    "\n",
    "  public static void main(String args[])\n",
    "  {\n",
    "      Song mySong = new Song();\n",
    "      mySong.verse(\"one\", \"thumb\");\n",
    "      mySong.chorus();\n",
    "      mySong.verse(\"two\", \"shoe\");\n",
    "      mySong.chorus();\n",
    "      mySong.verse(\"three\", \"knee\");\n",
    "      mySong.chorus();\n",
    "      mySong.verse(\"four\", \"door\");\n",
    "      mySong.chorus();\n",
    "  }\n",
    "}\n",
    "\n",
    "Song.main(null);"
   ]
  },
  {
   "cell_type": "markdown",
   "metadata": {},
   "source": [
    "# Unit 6 Arrays\n",
    "- Arrays Team Lesson\n",
    "- [Traversing Arrays 6.2](https://mann223.github.io/fastpages/jupyter/2022/10/24/arrayLesson.html)\n",
    "- [Team Lesson](https://pranaviinukurti.github.io/fastpagescsa/jupyter/2022/10/25/arrays-lesson.html)"
   ]
  }
 ],
 "metadata": {
  "kernelspec": {
   "display_name": "Java",
   "language": "java",
   "name": "java"
  },
  "language_info": {
   "codemirror_mode": "java",
   "file_extension": ".jshell",
   "mimetype": "text/x-java-source",
   "name": "Java",
   "pygments_lexer": "java",
   "version": "11.0.16+8-post-Ubuntu-0ubuntu120.04"
  },
  "orig_nbformat": 4
 },
 "nbformat": 4,
 "nbformat_minor": 2
}
