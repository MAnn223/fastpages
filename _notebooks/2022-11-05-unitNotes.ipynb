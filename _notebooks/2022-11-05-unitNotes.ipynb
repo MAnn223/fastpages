{
 "cells": [
  {
   "cell_type": "markdown",
   "metadata": {},
   "source": [
    "# Collegeboard Unit Lessons \n",
    "> Unit Lesson Notes from Class Presentations \n",
    "\n",
    "- toc: true \n",
    "- badges: true\n",
    "- comments: true\n",
    "- categories: [jupyter]\n",
    "- image: images/acorn.png"
   ]
  },
  {
   "cell_type": "markdown",
   "metadata": {},
   "source": [
    "## Unit 1: Primitive Types \n",
    "- Primitives Example:\n",
    "- [GPA Calculator](https://mann223.github.io/fastpages/jupyter/2022/08/25/primitiveHacks.html)\n",
    "\n",
    "- Primitive Types\n",
    "    - Boolean\n",
    "    - Numeric\n",
    "        - Character\n",
    "            - char\n",
    "        - Integral\n",
    "            - Integer\n",
    "                - byte\n",
    "                - short\n",
    "                - int\n",
    "                - long\n",
    "            - FLoating-point\n",
    "                - float\n",
    "                - double\n",
    "\n",
    "- Wrapper Classes (Non-Primitive)\n",
    "    - String, Array, etc.\n",
    "    - Like an object so has methods\n",
    "\n",
    "- Additional W1 Notes:\n",
    "    - Input\n",
    "        - `Scanner input;`\n",
    "        - `input = new Scanner(System.in);`\n",
    "        - `System.out.print(\"Enter an integer: \");`\n",
    "        - `input.close();`\n",
    "    - Output\n",
    "        - `System.out.println();`\n",
    "        \n",
    "\n",
    "## Casting for Division"
   ]
  },
  {
   "cell_type": "code",
   "execution_count": 1,
   "metadata": {
    "vscode": {
     "languageId": "java"
    }
   },
   "outputs": [
    {
     "name": "stdout",
     "output_type": "stream",
     "text": [
      "0.25\n"
     ]
    }
   ],
   "source": [
    "int num1 = 10;\n",
    "int num2 = 40; \n",
    "// use double to cast the answer to a decimal value since dividing the two integers will result in 0.25\n",
    "double dividedAnswer = (double) num1 / num2;\n",
    "System.out.println(dividedAnswer);\n"
   ]
  },
  {
   "cell_type": "markdown",
   "metadata": {},
   "source": [
    "## Casting for Truncating and Rounding"
   ]
  },
  {
   "cell_type": "code",
   "execution_count": 6,
   "metadata": {
    "vscode": {
     "languageId": "java"
    }
   },
   "outputs": [
    {
     "name": "stdout",
     "output_type": "stream",
     "text": [
      "0\n",
      "0.25\n",
      "1\n",
      "1.5\n"
     ]
    }
   ],
   "source": [
    "int num1 = 10;\n",
    "int num2 = 40; \n",
    "// 0.25 rounds to 0\n",
    "int answerInt = (int) num1 / num2;\n",
    "double answerDub = (double) num1 / num2;\n",
    "System.out.println(answerInt);\n",
    "System.out.println(answerDub);\n",
    "\n",
    "int num1 = 60;\n",
    "int num2 = 40; \n",
    "// 1.5 rounds to 1\n",
    "int answerInt = (int) num1 / num2;\n",
    "double answerDub = (double) num1 / num2;\n",
    "System.out.println(answerInt);\n",
    "System.out.println(answerDub);"
   ]
  },
  {
   "cell_type": "markdown",
   "metadata": {},
   "source": [
    "## Wrapper Classes\n",
    "- way to use primitive data types as objects (ex: use `Integer` instead of `int`)\n",
    "- can now use methods to get info about the object"
   ]
  },
  {
   "cell_type": "code",
   "execution_count": 9,
   "metadata": {
    "vscode": {
     "languageId": "java"
    }
   },
   "outputs": [
    {
     "name": "stdout",
     "output_type": "stream",
     "text": [
      "50\n",
      "50.01\n",
      "M\n",
      "50\n",
      "2\n"
     ]
    }
   ],
   "source": [
    "Integer myInt = 50;\n",
    "Double myDouble = 50.01;\n",
    "Character myChar = 'M';\n",
    "System.out.println(myInt);\n",
    "System.out.println(myDouble);\n",
    "System.out.println(myChar);\n",
    "\n",
    "// can now use methods \n",
    "System.out.println(myInt.intValue());\n",
    "\n",
    "// convert Integer to String and then print length\n",
    "String myString = myInt.toString();\n",
    "System.out.println(myString.length());"
   ]
  },
  {
   "cell_type": "markdown",
   "metadata": {},
   "source": [
    "## Concatenation\n",
    "- combine strings \n",
    "- mixed type concatenation - use `+`"
   ]
  },
  {
   "cell_type": "code",
   "execution_count": 14,
   "metadata": {
    "vscode": {
     "languageId": "java"
    }
   },
   "outputs": [
    {
     "name": "stdout",
     "output_type": "stream",
     "text": [
      "Hello World\n",
      "Hello World 100\n"
     ]
    }
   ],
   "source": [
    "// concatenation\n",
    "String word1 = \"Hello\";\n",
    "String word2 = \"World\";\n",
    "System.out.println(word1 + \" \" + word2);\n",
    "\n",
    "//mixed type concatenation \n",
    "System.out.println(word1 + \" \" + word2 + \" \" + 100);\n"
   ]
  },
  {
   "cell_type": "markdown",
   "metadata": {},
   "source": [
    "## Math Class\n",
    "- methods to perform math tasks on numbers \n",
    "- `random()` returns a random number between 0 (inclusive) and 1"
   ]
  },
  {
   "cell_type": "code",
   "execution_count": 16,
   "metadata": {
    "vscode": {
     "languageId": "java"
    }
   },
   "outputs": [
    {
     "name": "stdout",
     "output_type": "stream",
     "text": [
      "42\n"
     ]
    }
   ],
   "source": [
    "Math.random();\n",
    "// generates random number from 0 to 100\n",
    "int randomNumber = (int)(Math.random() * 101);  // 0 to 100\n",
    "System.out.println(randomNumber);"
   ]
  },
  {
   "cell_type": "markdown",
   "metadata": {},
   "source": [
    "# Unit 2: Using Objects"
   ]
  },
  {
   "cell_type": "markdown",
   "metadata": {},
   "source": [
    "# Unit 3: Booleans Expressions and if Statements\n",
    "\n",
    "## Compound Boolean Expressions \n",
    "- **De Morgan's Law** - helps simplify boolean expressions\n",
    "    - De Morgan's Law says that \"the complement of the product of all terms is equal to the sum of the complement of each term\" and shows how the NOT (!) operator can be distributed. For example, `!(A && B)` is the same as `!A || !B`. `!(C > D)` is the same as `C <= D`.\n",
    "- `!(a&&b)= (!a || !b)`\n",
    "- Truth tables to visualize Boolean identities\n",
    "\n",
    "![](../images/booleanLesson.PNG)\n",
    "\n"
   ]
  },
  {
   "cell_type": "markdown",
   "metadata": {},
   "source": [
    "## De Morgan's Law"
   ]
  },
  {
   "cell_type": "code",
   "execution_count": 17,
   "metadata": {
    "vscode": {
     "languageId": "java"
    }
   },
   "outputs": [
    {
     "name": "stdout",
     "output_type": "stream",
     "text": [
      "It is not both cold and windy\n",
      "It is not both cold and windy\n"
     ]
    }
   ],
   "source": [
    "//De Morgan's Law Example\n",
    "\n",
    "boolean cold = false;\n",
    "boolean windy = true;\n",
    "\n",
    "//this first if-else statement checks if both booleans are true and then reverse the result \n",
    "if (!(cold && windy)) {\n",
    "    System.out.println(\"It is not both cold and windy\");\n",
    "} else {\n",
    "    System.out.println(\"The condition is false\");\n",
    "}\n",
    "\n",
    "//this first if-else statement checks if cold is not true or if windy is not true \n",
    "if (!cold || !windy) {\n",
    "    System.out.println(\"It is not both cold and windy\");\n",
    "} else {\n",
    "    System.out.println(\"The condition is false\");\n",
    "}\n",
    "\n",
    "// Based on De Morgan's Law, both if-else statements provide the same output"
   ]
  },
  {
   "cell_type": "markdown",
   "metadata": {},
   "source": [
    "## Comparing Numbers\n",
    "- use `==` or `.equals()` to see if two numbers are equivalent"
   ]
  },
  {
   "cell_type": "code",
   "execution_count": 29,
   "metadata": {
    "vscode": {
     "languageId": "java"
    }
   },
   "outputs": [
    {
     "name": "stdout",
     "output_type": "stream",
     "text": [
      "num1 != num2\n"
     ]
    }
   ],
   "source": [
    "int num1 = 10;\n",
    "int num2 = 40; \n",
    "if (num1 == num2) {\n",
    "    System.out.println(\"num1 = num2\");\n",
    "}\n",
    "else {\n",
    "    System.out.println(\"num1 != num2\");\n",
    "}"
   ]
  },
  {
   "cell_type": "markdown",
   "metadata": {},
   "source": [
    "## Comparing Strings\n",
    "- use `==` or `.equals()` to see if two strings are equivalent"
   ]
  },
  {
   "cell_type": "code",
   "execution_count": 33,
   "metadata": {
    "vscode": {
     "languageId": "java"
    }
   },
   "outputs": [
    {
     "name": "stdout",
     "output_type": "stream",
     "text": [
      "string1 = string2\n",
      "string1 != string3\n"
     ]
    }
   ],
   "source": [
    "String string1 = \"Hello\";\n",
    "String string2 = \"Bob\"; \n",
    "String string3 = \"Jello\"; \n",
    "if (string1.equals(string2)) {\n",
    "    System.out.println(\"string1 = string2\");\n",
    "}\n",
    "else {\n",
    "    System.out.println(\"string1 = string2\");\n",
    "}\n",
    "\n",
    "if (string1 == string3) {\n",
    "    System.out.println(\"string1 = string3\");\n",
    "}\n",
    "else {\n",
    "    System.out.println(\"string1 != string3\");\n",
    "}\n"
   ]
  },
  {
   "cell_type": "markdown",
   "metadata": {},
   "source": [
    "## Comparing Objects\n",
    "- use `==` to see if two obj references are aliases for the same obj or to see if an obj is null\n",
    "- use `.equals()` to see if the attributes of two obj are the same"
   ]
  },
  {
   "cell_type": "code",
   "execution_count": 27,
   "metadata": {
    "vscode": {
     "languageId": "java"
    }
   },
   "outputs": [
    {
     "name": "stdout",
     "output_type": "stream",
     "text": [
      "dog1 equals cat is false\n",
      "dog1 equals dog2 is false\n",
      "dog1 equals dog1 is true\n"
     ]
    }
   ],
   "source": [
    "// GFG Example\n",
    "class Pet {\n",
    "    // attributes of class1\n",
    "    String name;\n",
    "    int age;\n",
    "    String breed;\n",
    " \n",
    "    // constructor of class 1\n",
    "    Pet(String name, int age, String breed)\n",
    "    {\n",
    "        // Assignment of current attributes\n",
    "        /// using this keyword with same\n",
    "        this.name = name;\n",
    "        this.age = age;\n",
    "        this.breed = breed;\n",
    "    }\n",
    "}\n",
    " \n",
    "\n",
    "\n",
    "    \n",
    " // Objects of class1 (auxiliary class)\n",
    " // are assigned value */\n",
    "Pet dog1 = new Pet(\"Snow\", 3, \"German Shepherd\");\n",
    "Pet cat = new Pet(\"Jack\", 2, \"Tabby\");\n",
    "Pet dog2 = new Pet(\"Snow\", 3, \"German Shepherd\");\n",
    " \n",
    "// Checking objects are equal and printing output- true/false\n",
    "System.out.println(\"dog1 equals cat is \" + dog1.equals(cat));\n",
    "System.out.println(\"dog1 equals dog2 is \" + dog1.equals(dog2));\n",
    "System.out.println(\"dog1 equals dog1 is \" + dog1.equals(dog1));\n",
    "    \n"
   ]
  },
  {
   "cell_type": "markdown",
   "metadata": {},
   "source": [
    "# Unit 4: Iteration\n",
    "\n",
    "## While Loops\n",
    "- do something while a condition is true\n"
   ]
  },
  {
   "cell_type": "code",
   "execution_count": null,
   "metadata": {
    "vscode": {
     "languageId": "java"
    }
   },
   "outputs": [],
   "source": [
    "int x = 5;\n",
    "\n",
    "// The boolean expression in this case is x > 0\n",
    "while (x > 0) {\n",
    "    System.out.println(x);\n",
    "    x--;\n",
    "}"
   ]
  },
  {
   "cell_type": "markdown",
   "metadata": {},
   "source": [
    "- while loops can be used to iterate over elements"
   ]
  },
  {
   "cell_type": "code",
   "execution_count": null,
   "metadata": {
    "vscode": {
     "languageId": "java"
    }
   },
   "outputs": [],
   "source": [
    "int[] array = {3, 7, 0, 2, 4, 5, 9, 1, 3, 6, 3};\n",
    "int total = 0;\n",
    "int i = 0;\n",
    "\n",
    "while (i < array.length) {\n",
    "    total += array[i];\n",
    "    i++;\n",
    "}\n",
    "\n",
    "System.out.println(total);"
   ]
  },
  {
   "cell_type": "markdown",
   "metadata": {},
   "source": [
    "- infinite while loops - run over and over permanently since boolean condition true at all times"
   ]
  },
  {
   "cell_type": "code",
   "execution_count": null,
   "metadata": {
    "vscode": {
     "languageId": "java"
    }
   },
   "outputs": [],
   "source": [
    "import java.util.Scanner;\n",
    "\n",
    "Scanner input = new Scanner(System.in);\n",
    "String choice;\n",
    "\n",
    "while (true) {\n",
    "    System.out.println(\"Would you like to continue: \");\n",
    "    choice = input.nextLine();\n",
    "    if (choice.equals(\"No\")) {\n",
    "        break;\n",
    "    }\n",
    "}"
   ]
  },
  {
   "cell_type": "markdown",
   "metadata": {},
   "source": [
    "# Unit 5 Writing Classes"
   ]
  },
  {
   "cell_type": "markdown",
   "metadata": {},
   "source": [
    "- Class - blueprint to create objects\n",
    "    - instance variables/attributes (data)\n",
    "    - constructors \n",
    "    - methods\n",
    "        - accessors/getters\n",
    "        - mutators/setters\n",
    "        - main method (tester)\n",
    "\n",
    "- Objects are instances of a class\n",
    "- Methods are what an object can do\n",
    "- `public` means it can be accessed outside the class\n",
    "- `private` means its restricted to accessing it inside the class\n",
    "- Constructors \n",
    "    - initialize instance variables when an object is created"
   ]
  },
  {
   "cell_type": "code",
   "execution_count": null,
   "metadata": {
    "vscode": {
     "languageId": "java"
    }
   },
   "outputs": [],
   "source": [
    "public class Cow {\n",
    "\n",
    "    // instance variables\n",
    "    private String cowType;\n",
    "    private String sound;\n",
    "    private int numMilkings;\n",
    "\n",
    "    // constructor\n",
    "    public Cow (String cowType, String sound){\n",
    "        this.numMilkings = 0;\n",
    "        this.cowType = cowType;\n",
    "        this.sound = sound;\n",
    "    }\n",
    "\n",
    "    public String getSound(){\n",
    "        return sound;\n",
    "    }\n",
    "}    \n",
    "\n",
    "public class CowDriver{\n",
    "    public static void main(String[] args) {\n",
    "        Cow myCow = new Cow(\"holstein\", \"moo\");\n",
    "        System.out.println(myCow.getSound());\n",
    "        // myCow.sound = \"bark!\";\n",
    "    }\n",
    "}\n",
    "\n",
    "\n",
    "CowDriver.main(null);"
   ]
  },
  {
   "cell_type": "code",
   "execution_count": null,
   "metadata": {
    "vscode": {
     "languageId": "java"
    }
   },
   "outputs": [],
   "source": [
    "public class Song\n",
    "{\n",
    "\n",
    "  /** Verse - prints out a verse of the song\n",
    "   * @param number - a String like \"one\", \"two\", etc.\n",
    "   * @param rhyme - a String like \"thumb\", \"shoe\", etc.\n",
    "   */\n",
    "   public void verse(String number, String rhyme)\n",
    "   {\n",
    "     System.out.println(\"This old man, he played \" + number);\n",
    "     System.out.println(\"He played knick knack on my \" + rhyme);\n",
    "   }\n",
    "\n",
    "  // The chorus method\n",
    "  public void chorus()\n",
    "  {\n",
    "     System.out.println(\"With a knick knack paddy whack, give a dog a bone.\");\n",
    "     System.out.println(\"This old man came rolling home.\");\n",
    "  }\n",
    "\n",
    "  public static void main(String args[])\n",
    "  {\n",
    "      Song mySong = new Song();\n",
    "      mySong.verse(\"one\", \"thumb\");\n",
    "      mySong.chorus();\n",
    "      mySong.verse(\"two\", \"shoe\");\n",
    "      mySong.chorus();\n",
    "      mySong.verse(\"three\", \"knee\");\n",
    "      mySong.chorus();\n",
    "      mySong.verse(\"four\", \"door\");\n",
    "      mySong.chorus();\n",
    "  }\n",
    "}\n",
    "\n",
    "Song.main(null);"
   ]
  },
  {
   "cell_type": "markdown",
   "metadata": {},
   "source": [
    "# Unit 6 Arrays\n",
    "- Arrays Team Lesson\n",
    "- [Traversing Arrays 6.2](https://mann223.github.io/fastpages/jupyter/2022/10/24/arrayLesson.html)\n",
    "- [Team Lesson](https://pranaviinukurti.github.io/fastpagescsa/jupyter/2022/10/25/arrays-lesson.html)"
   ]
  }
 ],
 "metadata": {
  "kernelspec": {
   "display_name": "Java",
   "language": "java",
   "name": "java"
  },
  "language_info": {
   "codemirror_mode": "java",
   "file_extension": ".jshell",
   "mimetype": "text/x-java-source",
   "name": "Java",
   "pygments_lexer": "java",
   "version": "11.0.16+8-post-Ubuntu-0ubuntu120.04"
  },
  "orig_nbformat": 4
 },
 "nbformat": 4,
 "nbformat_minor": 2
}
