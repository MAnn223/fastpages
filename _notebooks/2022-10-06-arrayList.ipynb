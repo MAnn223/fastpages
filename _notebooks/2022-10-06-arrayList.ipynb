{
 "cells": [
  {
   "cell_type": "markdown",
   "metadata": {},
   "source": [
    "# List and ArrayLists \n",
    "> Lists and ArrayLists Week 7 \n",
    "\n",
    "- toc: true \n",
    "- badges: true\n",
    "- comments: true\n",
    "- categories: [jupyter]\n",
    "- image: images/chart-preview.png"
   ]
  },
  {
   "cell_type": "markdown",
   "metadata": {},
   "source": [
    "> Show usage of Lists interfaces in a Jupyter Notebook example. Try using List interface and making a ArrayList object. Consider using an example that will be part of interest or final projects. This will probably become your favorite Data Structure in Java."
   ]
  },
  {
   "cell_type": "markdown",
   "metadata": {},
   "source": [
    "## List Interface \n",
    "- way to store ordered collection of obj \n",
    "- inherits the Collection interface \n",
    "- Implementation Classes\n",
    "    - ArrayList\n",
    "    - LinkedList\n",
    "    - Stack\n",
    "    - Vector \n",
    "\n",
    "- `List` is an interface so can't create objects with type list but instead use a class that implements List to create an object "
   ]
  },
  {
   "cell_type": "code",
   "execution_count": 2,
   "metadata": {
    "vscode": {
     "languageId": "java"
    }
   },
   "outputs": [],
   "source": [
    "//declaring List interface\n",
    "//public interface List<E> extends Collection<E>; "
   ]
  },
  {
   "cell_type": "code",
   "execution_count": 3,
   "metadata": {
    "vscode": {
     "languageId": "java"
    }
   },
   "outputs": [],
   "source": [
    "//ArrayList (object of List interface)\n",
    "//creates an integer arraylist \n",
    "List<Integer> l1 = new ArrayList<Integer>();"
   ]
  },
  {
   "cell_type": "markdown",
   "metadata": {},
   "source": [
    "## ArrayLists \n",
    "- Elements can be added or removed, resizable "
   ]
  },
  {
   "cell_type": "code",
   "execution_count": 4,
   "metadata": {
    "vscode": {
     "languageId": "java"
    }
   },
   "outputs": [],
   "source": [
    "import java.util.ArrayList;\n",
    "\n",
    "ArrayList<String> dnMarketItems = new ArrayList<String>(); "
   ]
  },
  {
   "cell_type": "markdown",
   "metadata": {},
   "source": [
    "> add(int index, element) This method is used to add an element at a particular index in the list. When a single parameter is passed, it simply adds the element at the end of the list."
   ]
  },
  {
   "cell_type": "code",
   "execution_count": 5,
   "metadata": {
    "vscode": {
     "languageId": "java"
    }
   },
   "outputs": [
    {
     "data": {
      "text/plain": [
       "true"
      ]
     },
     "execution_count": 5,
     "metadata": {},
     "output_type": "execute_result"
    }
   ],
   "source": [
    "dnMarketItems.add(\"AP Physics C Baron's Prep Book\");\n",
    "dnMarketItems.add(\"TI Inspire Calculator\");\n",
    "dnMarketItems.add(\"PE Lock\");"
   ]
  },
  {
   "cell_type": "markdown",
   "metadata": {},
   "source": [
    "> addAll(int index, Collection collection) This method is used to add all the elements in the given collection to the list. When a single parameter is passed, it adds all the elements of the given collection at the end of the list."
   ]
  },
  {
   "cell_type": "code",
   "execution_count": 6,
   "metadata": {
    "vscode": {
     "languageId": "java"
    }
   },
   "outputs": [
    {
     "name": "stdout",
     "output_type": "stream",
     "text": [
      "Del Norte Market Listings: [AP Physics C Baron's Prep Book, TI Inspire Calculator, PE Lock, AP Calc BC Baron's Prep Book, Calc Tutoring 1 hr sessions]\n",
      "\n",
      "Meena's Listings: [AP Calc BC Baron's Prep Book, Calc Tutoring 1 hr sessions]\n"
     ]
    }
   ],
   "source": [
    "ArrayList<String> dnMeenaListings = new ArrayList<String>(); \n",
    "\n",
    "dnMeenaListings.add(\"AP Calc BC Baron's Prep Book\");\n",
    "dnMeenaListings.add(\"Calc Tutoring 1 hr sessions\");\n",
    "\n",
    "\n",
    "dnMarketItems.addAll(dnMeenaListings);\n",
    "System.out.println(\"Del Norte Market Listings: \" + dnMarketItems + \"\\n\");\n",
    "System.out.println(\"Meena's Listings: \" + dnMeenaListings);"
   ]
  },
  {
   "cell_type": "markdown",
   "metadata": {},
   "source": [
    "> size() This method is used to return the size of the list."
   ]
  },
  {
   "cell_type": "code",
   "execution_count": 9,
   "metadata": {
    "vscode": {
     "languageId": "java"
    }
   },
   "outputs": [
    {
     "name": "stdout",
     "output_type": "stream",
     "text": [
      "The number of listings in DN Marketplace is currently 5\n"
     ]
    }
   ],
   "source": [
    "System.out.println(\"The number of listings in DN Marketplace is currently \" + dnMarketItems.size());"
   ]
  },
  {
   "cell_type": "markdown",
   "metadata": {},
   "source": [
    "> clear() This method is used to remove all the elements in the list. However, the reference of the list created is still stored."
   ]
  },
  {
   "cell_type": "code",
   "execution_count": 10,
   "metadata": {
    "vscode": {
     "languageId": "java"
    }
   },
   "outputs": [
    {
     "name": "stdout",
     "output_type": "stream",
     "text": [
      "Meena's Listings: []\n"
     ]
    }
   ],
   "source": [
    "dnMeenaListings.clear();\n",
    "System.out.println(\"Meena's Listings: \" + dnMeenaListings);"
   ]
  },
  {
   "cell_type": "markdown",
   "metadata": {},
   "source": [
    "> remove(int index) This method removes an element from the specified index. It shifts subsequent elements(if any) to left and decreases their indexes by 1."
   ]
  },
  {
   "cell_type": "code",
   "execution_count": 11,
   "metadata": {
    "vscode": {
     "languageId": "java"
    }
   },
   "outputs": [
    {
     "name": "stdout",
     "output_type": "stream",
     "text": [
      "Del Norte Market Listings: [TI Inspire Calculator, PE Lock, AP Calc BC Baron's Prep Book, Calc Tutoring 1 hr sessions]\n",
      "\n"
     ]
    }
   ],
   "source": [
    "// deletes the first item on the list (AP Physics C Prep Book)\n",
    "dnMarketItems.remove(0);\n",
    "System.out.println(\"Del Norte Market Listings: \" + dnMarketItems);"
   ]
  },
  {
   "cell_type": "markdown",
   "metadata": {},
   "source": [
    "> remove(element) This method is used to remove the first occurrence of the given element in the list."
   ]
  },
  {
   "cell_type": "code",
   "execution_count": 12,
   "metadata": {
    "vscode": {
     "languageId": "java"
    }
   },
   "outputs": [
    {
     "name": "stdout",
     "output_type": "stream",
     "text": [
      "Del Norte Market Listings: [TI Inspire Calculator, AP Calc BC Baron's Prep Book, Calc Tutoring 1 hr sessions, AP Physics C Baron's Prep Book]\n"
     ]
    }
   ],
   "source": [
    "dnMarketItems.add(\"AP Physics C Baron's Prep Book\");\n",
    "\n",
    "// removes PE Lock\n",
    "dnMarketItems.remove(\"PE Lock\");\n",
    "System.out.println(\"Del Norte Market Listings: \" + dnMarketItems);"
   ]
  },
  {
   "cell_type": "markdown",
   "metadata": {},
   "source": [
    "> get(int index) This method returns elements at the specified index."
   ]
  },
  {
   "cell_type": "code",
   "execution_count": 13,
   "metadata": {
    "vscode": {
     "languageId": "java"
    }
   },
   "outputs": [
    {
     "name": "stdout",
     "output_type": "stream",
     "text": [
      "The first item listed is TI Inspire Calculator\n"
     ]
    }
   ],
   "source": [
    "System.out.println(\"The first item listed is \" + dnMarketItems.get(0));"
   ]
  },
  {
   "cell_type": "markdown",
   "metadata": {},
   "source": [
    "> set(int index, element) This method replaces elements at a given index with the new element. This function returns the element which was just replaced by a new element."
   ]
  },
  {
   "cell_type": "code",
   "execution_count": 14,
   "metadata": {
    "vscode": {
     "languageId": "java"
    }
   },
   "outputs": [
    {
     "name": "stdout",
     "output_type": "stream",
     "text": [
      "Del Norte Market Listings: [Used TI Inspire Calculator, AP Calc BC Baron's Prep Book, Calc Tutoring 1 hr sessions, AP Physics C Baron's Prep Book]\n"
     ]
    }
   ],
   "source": [
    "// replace the first term (index of 0)\n",
    "dnMarketItems.set(0, \"Used TI Inspire Calculator\");\n",
    "System.out.println(\"Del Norte Market Listings: \" + dnMarketItems);"
   ]
  },
  {
   "cell_type": "markdown",
   "metadata": {},
   "source": [
    "> indexOf(element) This method returns the first occurrence of the given element or -1 if the element is not present in the list."
   ]
  },
  {
   "cell_type": "code",
   "execution_count": 15,
   "metadata": {
    "vscode": {
     "languageId": "java"
    }
   },
   "outputs": [
    {
     "name": "stdout",
     "output_type": "stream",
     "text": [
      "The index for calc tutoring sessions is 2\n"
     ]
    }
   ],
   "source": [
    "System.out.println(\"The index for calc tutoring sessions is \" + dnMarketItems.indexOf(\"Calc Tutoring 1 hr sessions\"));"
   ]
  },
  {
   "cell_type": "markdown",
   "metadata": {},
   "source": [
    "> lastIndexOf(element) This method returns the last occurrence of the given element or -1 if the element is not present in the list."
   ]
  },
  {
   "cell_type": "code",
   "execution_count": 16,
   "metadata": {
    "vscode": {
     "languageId": "java"
    }
   },
   "outputs": [
    {
     "name": "stdout",
     "output_type": "stream",
     "text": [
      "The index for physics tutoring sessions is -1\n"
     ]
    }
   ],
   "source": [
    "// prints negative 1 since the item is not in the list\n",
    "System.out.println(\"The index for physics tutoring sessions is \" + dnMarketItems.indexOf(\"Physics Tutoring 1 hr sessions\"));"
   ]
  },
  {
   "cell_type": "markdown",
   "metadata": {},
   "source": [
    "> equals(element) This method is used to compare the equality of the given element with the elements of the list."
   ]
  },
  {
   "cell_type": "code",
   "execution_count": 17,
   "metadata": {
    "vscode": {
     "languageId": "java"
    }
   },
   "outputs": [
    {
     "name": "stdout",
     "output_type": "stream",
     "text": [
      "The inventory does not match the listings!\n"
     ]
    }
   ],
   "source": [
    "ArrayList<String> dnMarketInventory = new ArrayList<String>(); \n",
    "dnMarketInventory.add(\"Used TI Inspire Calculator\");\n",
    "dnMarketInventory.add(\"AP Calc BC Baron's Prep Book\");\n",
    "dnMarketInventory.add(\"Calc Tutoring 1 hr sessions\");\n",
    "\n",
    "if (dnMarketItems.equals(dnMarketInventory) == true) {\n",
    "    System.out.println(\"The inventory matches the listings!\");\n",
    "}\n",
    "else {\n",
    "    System.out.println(\"The inventory does not match the listings!\");\n",
    "}"
   ]
  },
  {
   "cell_type": "markdown",
   "metadata": {},
   "source": [
    "> hashCode() This method is used to return the hashcode value of the given list."
   ]
  },
  {
   "cell_type": "code",
   "execution_count": 18,
   "metadata": {
    "vscode": {
     "languageId": "java"
    }
   },
   "outputs": [
    {
     "name": "stdout",
     "output_type": "stream",
     "text": [
      "The hashcode for this list is -720605698\n"
     ]
    }
   ],
   "source": [
    "System.out.println(\"The hashcode for this list is \" + dnMarketItems.hashCode());"
   ]
  },
  {
   "cell_type": "markdown",
   "metadata": {},
   "source": [
    "> isEmpty() This method is used to check if the list is empty or not. It returns true if the list is empty, else false."
   ]
  },
  {
   "cell_type": "code",
   "execution_count": 21,
   "metadata": {
    "vscode": {
     "languageId": "java"
    }
   },
   "outputs": [
    {
     "name": "stdout",
     "output_type": "stream",
     "text": [
      "Meena's listings is empty is true\n"
     ]
    }
   ],
   "source": [
    "System.out.println(\"Meena's listings is empty is \" + dnMeenaListings.isEmpty());"
   ]
  },
  {
   "cell_type": "markdown",
   "metadata": {},
   "source": [
    "> contains(element) This method is used to check if the list contains the given element or not. It returns true if the list contains the element."
   ]
  },
  {
   "cell_type": "code",
   "execution_count": 22,
   "metadata": {
    "vscode": {
     "languageId": "java"
    }
   },
   "outputs": [
    {
     "name": "stdout",
     "output_type": "stream",
     "text": [
      "DN Market Items contains PE Lock is false\n"
     ]
    }
   ],
   "source": [
    "System.out.println(\"DN Market Items contains PE Lock is \" + dnMarketItems.contains(\"PE Lock\"));"
   ]
  },
  {
   "cell_type": "markdown",
   "metadata": {},
   "source": [
    "> containsAll(Collection collection) This method is used to check if the list contains all the collection of elements."
   ]
  },
  {
   "cell_type": "code",
   "execution_count": 25,
   "metadata": {
    "vscode": {
     "languageId": "java"
    }
   },
   "outputs": [
    {
     "name": "stdout",
     "output_type": "stream",
     "text": [
      "The inventory has at least everything in the listings!\n"
     ]
    }
   ],
   "source": [
    "if (dnMarketItems.containsAll(dnMarketInventory) == true) {\n",
    "    System.out.println(\"The inventory has at least everything in the listings!\");\n",
    "}\n",
    "else {\n",
    "    System.out.println(\"The inventory does not have everything the listings!\");\n",
    "}"
   ]
  },
  {
   "cell_type": "markdown",
   "metadata": {},
   "source": [
    "> sort(Comparator comp) This method is used to sort the elements of the list on the basis of the given comparator."
   ]
  },
  {
   "cell_type": "code",
   "execution_count": 28,
   "metadata": {
    "vscode": {
     "languageId": "java"
    }
   },
   "outputs": [
    {
     "name": "stdout",
     "output_type": "stream",
     "text": [
      "Sorted DN Market items [AP Calc BC Baron's Prep Book, AP Physics C Baron's Prep Book, Calc Tutoring 1 hr sessions, Used TI Inspire Calculator]\n"
     ]
    }
   ],
   "source": [
    "Collections.sort(dnMarketItems);\n",
    "System.out.println(\"Sorted DN Market items \" + dnMarketItems);"
   ]
  }
 ],
 "metadata": {
  "kernelspec": {
   "display_name": "Java",
   "language": "java",
   "name": "java"
  },
  "language_info": {
   "codemirror_mode": "java",
   "file_extension": ".jshell",
   "mimetype": "text/x-java-source",
   "name": "Java",
   "pygments_lexer": "java",
   "version": "11.0.16+8-post-Ubuntu-0ubuntu120.04"
  },
  "orig_nbformat": 4,
  "vscode": {
   "interpreter": {
    "hash": "31f2aee4e71d21fbe5cf8b01ff0e069b9275f58929596ceb00d14d90e3e16cd6"
   }
  }
 },
 "nbformat": 4,
 "nbformat_minor": 2
}
