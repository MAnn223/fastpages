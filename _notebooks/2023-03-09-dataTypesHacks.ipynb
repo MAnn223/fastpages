{
 "cells": [
  {
   "attachments": {},
   "cell_type": "markdown",
   "metadata": {},
   "source": [
    "# Data Types Hacks - Madhumita, Shraddha, Meena\n",
    "> Completed as a treo \n",
    "\n",
    "- toc: true \n",
    "- badges: true\n",
    "- comments: true\n",
    "- categories: [jupyter]\n",
    "- image: images/acorn.png"
   ]
  },
  {
   "cell_type": "code",
   "execution_count": 30,
   "metadata": {
    "vscode": {
     "languageId": "java"
    }
   },
   "outputs": [
    {
     "name": "stdout",
     "output_type": "stream",
     "text": [
      "once upon a time, there was a person named John who went to a pink mall.\n"
     ]
    }
   ],
   "source": [
    "public class MadLib {\n",
    "\n",
    "    String[] people = {\"Meena\", \"Bob\", \"John\", \"Joe\"};\n",
    "    String[] places = {\"house\", \"school\", \"mall\", \"restaurant\"};\n",
    "    String[] adjectives = {\"slimy\", \"depressed\", \"pink\", \"horrible\"};\n",
    "\n",
    "    // using Math.random and type casting to generate a random integer \n",
    "    int num = (int)(Math.random() * 4);\n",
    "\n",
    "    private String name = people[num];\n",
    "    private String place = places[num];\n",
    "    private String adjective = adjectives[num];\n",
    "\n",
    "    public static void main(String[] args) {\n",
    "    \n",
    "        MadLib lib = new MadLib();\n",
    "        System.out.println(\"once upon a time, there was a person named \" + lib.name + \" who went to a \" + lib.adjective + \" \" + lib.place + \".\");\n",
    "}\n",
    "}\n",
    "MadLib.main(null);"
   ]
  },
  {
   "attachments": {},
   "cell_type": "markdown",
   "metadata": {},
   "source": [
    "The MadLib uses arrays and data types such as String and int to generate a random sentence."
   ]
  },
  {
   "cell_type": "code",
   "execution_count": 45,
   "metadata": {
    "vscode": {
     "languageId": "java"
    }
   },
   "outputs": [
    {
     "name": "stdout",
     "output_type": "stream",
     "text": [
      "once upon a time, there was a person named John who went to a slimy house.\n"
     ]
    }
   ],
   "source": [
    "import java.util.ArrayList;\n",
    "\n",
    "public class MadLibWrapper {\n",
    "\n",
    "    ArrayList<String> people = new ArrayList<String>();\n",
    "    \n",
    "    ArrayList<String> places = new ArrayList<String>();\n",
    "    \n",
    "    ArrayList<String> adjectives = new ArrayList<String>();\n",
    "    int num;\n",
    "    String name;\n",
    "    String place;\n",
    "    String adjective;\n",
    "    \n",
    "    public MadLibWrapper(){\n",
    "        people.add(\"John\");\n",
    "        people.add(\"Bob\");\n",
    "        places.add(\"house\");\n",
    "        places.add(\"mall\");\n",
    "        adjectives.add(\"slimy\");\n",
    "        adjectives.add(\"depressed\");\n",
    "         // using Math.random and type casting to generate a random integer \n",
    "    \n",
    "     name = people.get(num);\n",
    "      place = places.get(num);\n",
    "      adjective = adjectives.get(num);\n",
    "        \n",
    "    }\n",
    "   \n",
    "   \n",
    "\n",
    "    public static void main(String[] args) {\n",
    "    \n",
    "        MadLibWrapper lib = new MadLibWrapper();\n",
    "        System.out.println(\"once upon a time, there was a person named \" + lib.name + \" who went to a \" + lib.adjective + \" \" + lib.place + \".\");\n",
    "}\n",
    "}\n",
    "MadLibWrapper.main(null);"
   ]
  },
  {
   "attachments": {},
   "cell_type": "markdown",
   "metadata": {},
   "source": [
    "The MadLibWrapper class does the same as the MadLib class except it uses ArrayList instead of arrays. Each element in the ArrayList is of the wrapper class rather an a primitive type."
   ]
  },
  {
   "attachments": {},
   "cell_type": "markdown",
   "metadata": {},
   "source": [
    "## Key Takeaways from Lesson\n",
    "\n",
    "**Methods and Control Structures and Data Types from ChatGPT**\n",
    "\n",
    "- Methods are functions that perform specific tasks or operations within a program.\n",
    "- Control structures enable decision-making and repetition in programming.\n",
    "- Examples of control structures include if-else statements, loops, and switch statements.\n",
    "- Data types define the type of data that can be stored in a variable.\n",
    "- Common data types include integers, floats, strings, and booleans.\n",
    "- Proper use of methods, control structures, and data types is essential for writing efficient and effective code.\n",
    "\n",
    "**Mr M's Code**\n",
    "- DoNothingByValue: using parameters in java, local and global variables\n",
    "- IntByReference and IntByValue: difference between local and global variables\n",
    "- Menu code: reviewed as treo\n",
    "\n",
    "\n",
    "\n",
    "\n",
    "\n",
    "\n"
   ]
  },
  {
   "attachments": {},
   "cell_type": "markdown",
   "metadata": {},
   "source": [
    "## FRQ 1 Question\n",
    "\n",
    "[2017 APCSA FRQ](https://apcentral.collegeboard.org/media/pdf/ap-computer-science-a-frq-2017.pdf)\n",
    "\n",
    "This question involves identifying and processing the digits of a non-negative integer. The declaration of the Digits class is shown below. You will write the constructor and one method for the Digits class. \n",
    "\n",
    "a) Write the constructor for the Digits class. The constructor initializes and fills digitList with the digits from the non-negative integer num. The elements in digitList must be Integer objects representing single digits, and appear in the same order as the digits in num. Each of the following examples shows the declaration of a Digits object and the contents of digitList as initialized by\n",
    "the constructor. \n",
    "\n",
    "- `Digits d1 = new Digits(15704);`\n",
    "- `digitList: 1, 5, 7, 0, 4`\n",
    "\n",
    "b) Write the `Digits` method `isStrictlyIncreasing`. The method returns `true` if the elements of\n",
    "`digitList` appear in strictly increasing order; otherwise, it returns `false`. A list is considered strictly increasing if each element after the first is greater than (but not equal to) the preceding element. The following table shows the results of several calls to `isStrictlyIncreasing`"
   ]
  },
  {
   "attachments": {},
   "cell_type": "markdown",
   "metadata": {},
   "source": [
    "## FRQ 1 Treo Solution\n",
    "\n",
    "(Outline for the Digits class given, added code - constructor for Digits and isStrictlyIncreasing method)"
   ]
  },
  {
   "cell_type": "code",
   "execution_count": null,
   "metadata": {
    "vscode": {
     "languageId": "java"
    }
   },
   "outputs": [],
   "source": [
    "public class Digits \n",
    "\n",
    "{ \n",
    "\n",
    "/** The list of digits from the number used to construct this object. \n",
    "\n",
    "* The digits appear in the list in the same order in which they appear in the original number.\n",
    " */ \n",
    "\n",
    "    private ArrayList<Integer> digitList; \n",
    "\n",
    "    /** Constructs a Digits object that represents num.\n",
    "     * Precondition: num >= 0\n",
    "    */ \n",
    "\n",
    "    public Digits(int num) { \n",
    "        // create the array list of integers \n",
    "        digitList = new ArrayList<Integer> ();\n",
    "        // take what is passed into the constructor and convert it to a string\n",
    "        String number = String.valueOf(num);\n",
    "        // Loop through the string and add each character converted integer into the integer array list\n",
    "        for (int i = 0; i < number.length(); i++) {\n",
    "            digitList.add(Integer.parseInt(String.valueOf(number.charAt(i))));\n",
    "        }\n",
    "        // print out the array list\n",
    "        System.out.println(digitList);\n",
    "     }\n",
    "\n",
    "    /** Returns true if the digits in this Digits object are in strictly increasing order;\n",
    "     * false otherwise.\n",
    "     */ \n",
    "\n",
    "    public boolean isStrictlyIncreasing() \n",
    "    {   // loop through the entire array list of integers\n",
    "         for (int i = 0; i < digitList.size(); i++) {\n",
    "            // if the term is not less than (so greater than or equal to) the next term, return false\n",
    "            if (digitList.get(i) >= digitList.get(i+1)) {\n",
    "                return false;\n",
    "            }\n",
    "         }\n",
    "         // if every number is greater than the next and so the prev if statement is false, return true\n",
    "         return true;\n",
    "    } \n",
    "\n",
    "} "
   ]
  },
  {
   "attachments": {},
   "cell_type": "markdown",
   "metadata": {},
   "source": [
    "## Testing the code"
   ]
  },
  {
   "cell_type": "code",
   "execution_count": null,
   "metadata": {
    "vscode": {
     "languageId": "java"
    }
   },
   "outputs": [],
   "source": [
    "private ArrayList<Integer> digitList; \n",
    "digitList = new ArrayList<Integer> ();\n",
    "\n",
    "//expect to get an out put of a list of 12345 and true since the numbers are increasing\n",
    "String number = String.valueOf(12345);\n",
    "\n",
    "for (int i = 0; i < number.length(); i++) {\n",
    "    digitList.add(Integer.parseInt(String.valueOf(number.charAt(i))));\n",
    "}\n",
    "System.out.println(digitList); \n",
    "\n",
    "for (int i = 0; i < digitList.size() - 1; i++) {\n",
    "    if (digitList.get(i) >= digitList.get(i+1)) {\n",
    "        System.out.println(\"false\"); \n",
    "        //note: would be a return statement so would exit out of the loop\n",
    "    }\n",
    " }\n",
    " System.out.println(\"true\");\n",
    " \n",
    " "
   ]
  }
 ],
 "metadata": {
  "kernelspec": {
   "display_name": "Java",
   "language": "java",
   "name": "java"
  },
  "language_info": {
   "codemirror_mode": "java",
   "file_extension": ".jshell",
   "mimetype": "text/x-java-source",
   "name": "Java",
   "pygments_lexer": "java",
   "version": "11.0.18+10-post-Ubuntu-0ubuntu122.04"
  },
  "orig_nbformat": 4
 },
 "nbformat": 4,
 "nbformat_minor": 2
}
