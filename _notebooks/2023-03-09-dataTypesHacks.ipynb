{
 "cells": [
  {
   "attachments": {},
   "cell_type": "markdown",
   "metadata": {},
   "source": [
    "# Data Types Hacks - Madhumita, Shraddha, Meena\n",
    "> Completed as a treo \n",
    "\n",
    "- toc: true \n",
    "- badges: true\n",
    "- comments: true\n",
    "- categories: [jupyter]\n",
    "- image: images/acorn.png"
   ]
  },
  {
   "cell_type": "code",
   "execution_count": 30,
   "metadata": {
    "vscode": {
     "languageId": "java"
    }
   },
   "outputs": [
    {
     "name": "stdout",
     "output_type": "stream",
     "text": [
      "once upon a time, there was a person named John who went to a pink mall.\n"
     ]
    }
   ],
   "source": [
    "public class MadLib {\n",
    "\n",
    "    String[] people = {\"Meena\", \"Bob\", \"John\", \"Joe\"};\n",
    "    String[] places = {\"house\", \"school\", \"mall\", \"restaurant\"};\n",
    "    String[] adjectives = {\"slimy\", \"depressed\", \"pink\", \"horrible\"};\n",
    "\n",
    "    // using Math.random and type casting to generate a random integer \n",
    "    int num = (int)(Math.random() * 4);\n",
    "\n",
    "    private String name = people[num];\n",
    "    private String place = places[num];\n",
    "    private String adjective = adjectives[num];\n",
    "\n",
    "    public static void main(String[] args) {\n",
    "    \n",
    "        MadLib lib = new MadLib();\n",
    "        System.out.println(\"once upon a time, there was a person named \" + lib.name + \" who went to a \" + lib.adjective + \" \" + lib.place + \".\");\n",
    "}\n",
    "}\n",
    "MadLib.main(null);"
   ]
  },
  {
   "attachments": {},
   "cell_type": "markdown",
   "metadata": {},
   "source": [
    "The MadLib uses arrays and data types such as String and int to generate a random sentence."
   ]
  },
  {
   "cell_type": "code",
   "execution_count": 45,
   "metadata": {
    "vscode": {
     "languageId": "java"
    }
   },
   "outputs": [
    {
     "name": "stdout",
     "output_type": "stream",
     "text": [
      "once upon a time, there was a person named John who went to a slimy house.\n"
     ]
    }
   ],
   "source": [
    "import java.util.ArrayList;\n",
    "\n",
    "public class MadLibWrapper {\n",
    "\n",
    "    ArrayList<String> people = new ArrayList<String>();\n",
    "    \n",
    "    ArrayList<String> places = new ArrayList<String>();\n",
    "    \n",
    "    ArrayList<String> adjectives = new ArrayList<String>();\n",
    "    int num;\n",
    "    String name;\n",
    "    String place;\n",
    "    String adjective;\n",
    "    \n",
    "    public MadLibWrapper(){\n",
    "        people.add(\"John\");\n",
    "        people.add(\"Bob\");\n",
    "        places.add(\"house\");\n",
    "        places.add(\"mall\");\n",
    "        adjectives.add(\"slimy\");\n",
    "        adjectives.add(\"depressed\");\n",
    "         // using Math.random and type casting to generate a random integer \n",
    "    \n",
    "     name = people.get(num);\n",
    "      place = places.get(num);\n",
    "      adjective = adjectives.get(num);\n",
    "        \n",
    "    }\n",
    "   \n",
    "   \n",
    "\n",
    "    public static void main(String[] args) {\n",
    "    \n",
    "        MadLibWrapper lib = new MadLibWrapper();\n",
    "        System.out.println(\"once upon a time, there was a person named \" + lib.name + \" who went to a \" + lib.adjective + \" \" + lib.place + \".\");\n",
    "}\n",
    "}\n",
    "MadLibWrapper.main(null);"
   ]
  },
  {
   "attachments": {},
   "cell_type": "markdown",
   "metadata": {},
   "source": [
    "The MadLibWrapper class does the same as the MadLib class except it uses ArrayList instead of arrays. Each element in the ArrayList is of the wrapper class rather an a primitive type."
   ]
  },
  {
   "attachments": {},
   "cell_type": "markdown",
   "metadata": {},
   "source": [
    "## Key Takeaways from Lesson\n",
    "\n",
    "**Methods and Control Structures and Data Types from ChatGPT**\n",
    "\n",
    "- Methods are functions that perform specific tasks or operations within a program.\n",
    "- Control structures enable decision-making and repetition in programming.\n",
    "- Examples of control structures include if-else statements, loops, and switch statements.\n",
    "- Data types define the type of data that can be stored in a variable.\n",
    "- Common data types include integers, floats, strings, and booleans.\n",
    "- Proper use of methods, control structures, and data types is essential for writing efficient and effective code.\n",
    "\n",
    "**Mr M's Code**\n",
    "- DoNothingByValue: using parameters in java, local and global variables\n",
    "- IntByReference and IntByValue: difference between local and global variables\n",
    "- Menu code: reviewed as treo\n",
    "\n",
    "\n",
    "\n",
    "\n",
    "\n",
    "\n"
   ]
  },
  {
   "attachments": {},
   "cell_type": "markdown",
   "metadata": {},
   "source": [
    "## FRQ 1 Question\n",
    "\n",
    "[2017 APCSA FRQ](https://apcentral.collegeboard.org/media/pdf/ap-computer-science-a-frq-2017.pdf)\n",
    "\n",
    "This question involves identifying and processing the digits of a non-negative integer. The declaration of the Digits class is shown below. You will write the constructor and one method for the Digits class. \n",
    "\n",
    "a) Write the constructor for the Digits class. The constructor initializes and fills digitList with the digits from the non-negative integer num. The elements in digitList must be Integer objects representing single digits, and appear in the same order as the digits in num. Each of the following examples shows the declaration of a Digits object and the contents of digitList as initialized by\n",
    "the constructor. \n",
    "\n",
    "- `Digits d1 = new Digits(15704);`\n",
    "- `digitList: 1, 5, 7, 0, 4`\n",
    "\n",
    "b) Write the `Digits` method `isStrictlyIncreasing`. The method returns `true` if the elements of\n",
    "`digitList` appear in strictly increasing order; otherwise, it returns `false`. A list is considered strictly increasing if each element after the first is greater than (but not equal to) the preceding element. The following table shows the results of several calls to `isStrictlyIncreasing`"
   ]
  },
  {
   "attachments": {},
   "cell_type": "markdown",
   "metadata": {},
   "source": [
    "## FRQ 1 Treo Solution\n",
    "\n",
    "(Outline for the Digits class given, added code - constructor for Digits and isStrictlyIncreasing method)"
   ]
  },
  {
   "cell_type": "code",
   "execution_count": null,
   "metadata": {
    "vscode": {
     "languageId": "java"
    }
   },
   "outputs": [],
   "source": [
    "public class Digits \n",
    "\n",
    "{ \n",
    "\n",
    "/** The list of digits from the number used to construct this object. \n",
    "\n",
    "* The digits appear in the list in the same order in which they appear in the original number.\n",
    " */ \n",
    "\n",
    "    private ArrayList<Integer> digitList; \n",
    "\n",
    "    /** Constructs a Digits object that represents num.\n",
    "     * Precondition: num >= 0\n",
    "    */ \n",
    "\n",
    "    public Digits(int num) { \n",
    "        // create the array list of integers \n",
    "        digitList = new ArrayList<Integer> ();\n",
    "        // take what is passed into the constructor and convert it to a string\n",
    "        String number = String.valueOf(num);\n",
    "        // Loop through the string and add each character converted integer into the integer array list\n",
    "        for (int i = 0; i < number.length(); i++) {\n",
    "            digitList.add(Integer.parseInt(String.valueOf(number.charAt(i))));\n",
    "        }\n",
    "        // print out the array list\n",
    "        System.out.println(digitList);\n",
    "     }\n",
    "\n",
    "    /** Returns true if the digits in this Digits object are in strictly increasing order;\n",
    "     * false otherwise.\n",
    "     */ \n",
    "\n",
    "    public boolean isStrictlyIncreasing() \n",
    "    {   // loop through the entire array list of integers\n",
    "         for (int i = 0; i < digitList.size(); i++) {\n",
    "            // if the term is not less than (so greater than or equal to) the next term, return false\n",
    "            if (digitList.get(i) >= digitList.get(i+1)) {\n",
    "                return false;\n",
    "            }\n",
    "         }\n",
    "         // if every number is greater than the next and so the prev if statement is false, return true\n",
    "         return true;\n",
    "    } \n",
    "\n",
    "} "
   ]
  },
  {
   "attachments": {},
   "cell_type": "markdown",
   "metadata": {},
   "source": [
    "## Testing the code"
   ]
  },
  {
   "cell_type": "code",
   "execution_count": null,
   "metadata": {
    "vscode": {
     "languageId": "java"
    }
   },
   "outputs": [],
   "source": [
    "private ArrayList<Integer> digitList; \n",
    "digitList = new ArrayList<Integer> ();\n",
    "\n",
    "//expect to get an out put of a list of 12345 and true since the numbers are increasing\n",
    "String number = String.valueOf(12345);\n",
    "\n",
    "for (int i = 0; i < number.length(); i++) {\n",
    "    digitList.add(Integer.parseInt(String.valueOf(number.charAt(i))));\n",
    "}\n",
    "System.out.println(digitList); \n",
    "\n",
    "for (int i = 0; i < digitList.size() - 1; i++) {\n",
    "    if (digitList.get(i) >= digitList.get(i+1)) {\n",
    "        System.out.println(\"false\"); \n",
    "        //note: would be a return statement so would exit out of the loop\n",
    "    }\n",
    " }\n",
    " System.out.println(\"true\");\n",
    " \n",
    " "
   ]
  },
  {
   "cell_type": "code",
   "execution_count": 1,
   "metadata": {
    "vscode": {
     "languageId": "java"
    }
   },
   "outputs": [
    {
     "name": "stdout",
     "output_type": "stream",
     "text": [
      "Empty Queue\n",
      "John\n",
      "Jane\n",
      "Bob\n",
      "Iterate over Array\n",
      "John\n",
      "Jane\n",
      "Bob\n"
     ]
    }
   ],
   "source": [
    "Queue<String> queue = new LinkedList<>();  // Queue interface uses LL implementation\n",
    "queue.add(\"John\");\n",
    "queue.add(\"Jane\");\n",
    "queue.add(\"Bob\");\n",
    "\n",
    "Queue<String> queue = new LinkedList<>();  // Queue interface uses LL implementation\n",
    "queue.add(\"John\");\n",
    "queue.add(\"Jane\");\n",
    "queue.add(\"Bob\");\n",
    "// Collections has a toArray convertion\n",
    "Object[] arr = queue.toArray();\n",
    "\n",
    "// Empty queue\n",
    "System.out.println(\"Empty Queue\");\n",
    "while (queue.size() > 0) // Interate while size\n",
    "    System.out.println(queue.remove());\n",
    "\n",
    "// Iterate of array\n",
    "System.out.println(\"Iterate over Array\");\n",
    "for (Object a : arr) // Type is Object from convertion\n",
    "    System.out.println(a);"
   ]
  },
  {
   "cell_type": "code",
   "execution_count": 2,
   "metadata": {
    "vscode": {
     "languageId": "java"
    }
   },
   "outputs": [],
   "source": [
    "/* This is wrapper class...\n",
    " Objective would be to push more functionality into this Class to enforce consistent definition\n",
    " */\n",
    "//static applies to all the objects\n",
    "public abstract class Generics {\n",
    "\tpublic final String masterType = \"Generic\";\n",
    "\tprivate String type;\t// extender should define their data type\n",
    "\n",
    "\t// generic enumerated interface\n",
    "\tpublic interface KeyTypes {\n",
    "\t\tString name();\n",
    "\t}\n",
    "\tprotected abstract KeyTypes getKey();  \t// this method helps force usage of KeyTypes\n",
    "\n",
    "\t// getter\n",
    "\tpublic String getMasterType() {\n",
    "\t\treturn masterType;\n",
    "\t}\n",
    "\n",
    "\t// getter\n",
    "\tpublic String getType() {\n",
    "\t\treturn type;\n",
    "\t}\n",
    "\n",
    "\t// setter\n",
    "\tpublic void setType(String type) {\n",
    "\t\tthis.type = type;\n",
    "\t}\n",
    "\t\n",
    "\t// this method is used to establish key order\n",
    "\tpublic abstract String toString();\n",
    "\n",
    "\t// static print method used by extended classes\n",
    "\tpublic static void print(Generics[] objs) {\n",
    "\t\t// print 'Object' properties\n",
    "\t\tSystem.out.println(objs.getClass() + \" \" + objs.length);\n",
    "\n",
    "\t\t// print 'Generics' properties\n",
    "\t\tif (objs.length > 0) {\n",
    "\t\t\tGenerics obj = objs[0];\t// Look at properties of 1st element\n",
    "\t\t\tSystem.out.println(\n",
    "\t\t\t\t\tobj.getMasterType() + \": \" + \n",
    "\t\t\t\t\tobj.getType() +\n",
    "\t\t\t\t\t\" listed by \" +\n",
    "\t\t\t\t\tobj.getKey());\n",
    "\t\t}\n",
    "\n",
    "\t\t// print \"Generics: Objects'\n",
    "\t\tfor(Object o : objs)\t// observe that type is Opaque\n",
    "\t\t\tSystem.out.println(o);\n",
    "\n",
    "\t\tSystem.out.println();\n",
    "\t}\n",
    "}"
   ]
  },
  {
   "cell_type": "code",
   "execution_count": 3,
   "metadata": {
    "vscode": {
     "languageId": "java"
    }
   },
   "outputs": [
    {
     "name": "stdout",
     "output_type": "stream",
     "text": [
      "class [LREPL.$JShell$25$Alphabet; 26\n",
      "Generic: Alphabet listed by title\n",
      "Alphabet: A\n",
      "Alphabet: B\n",
      "Alphabet: C\n",
      "Alphabet: D\n",
      "Alphabet: E\n",
      "Alphabet: F\n",
      "Alphabet: G\n",
      "Alphabet: H\n",
      "Alphabet: I\n",
      "Alphabet: J\n",
      "Alphabet: K\n",
      "Alphabet: L\n",
      "Alphabet: M\n",
      "Alphabet: N\n",
      "Alphabet: O\n",
      "Alphabet: P\n",
      "Alphabet: Q\n",
      "Alphabet: R\n",
      "Alphabet: S\n",
      "Alphabet: T\n",
      "Alphabet: U\n",
      "Alphabet: V\n",
      "Alphabet: W\n",
      "Alphabet: X\n",
      "Alphabet: Y\n",
      "Alphabet: Z\n",
      "\n",
      "class [LREPL.$JShell$25$Alphabet; 26\n",
      "Generic: Alphabet listed by letter\n",
      "A\n",
      "B\n",
      "C\n",
      "D\n",
      "E\n",
      "F\n",
      "G\n",
      "H\n",
      "I\n",
      "J\n",
      "K\n",
      "L\n",
      "M\n",
      "N\n",
      "O\n",
      "P\n",
      "Q\n",
      "R\n",
      "S\n",
      "T\n",
      "U\n",
      "V\n",
      "W\n",
      "X\n",
      "Y\n",
      "Z\n",
      "\n"
     ]
    }
   ],
   "source": [
    "public class Alphabet extends Generics {\n",
    "\t// Class data\n",
    "\tpublic static KeyTypes key = KeyType.title;  // static initializer\n",
    "\tpublic static void setOrder(KeyTypes key) {Alphabet.key = key;}\n",
    "\tpublic enum KeyType implements KeyTypes {title, letter}\n",
    "\tprivate static final int size = 26;  // constant used in data initialization\n",
    "\n",
    "\t// Instance data\n",
    "\tprivate final char letter;\n",
    "\t\n",
    "\t/*\n",
    "\t * single letter object\n",
    "\t */\n",
    "\tpublic Alphabet(char letter)\n",
    "\t{\n",
    "\t\tthis.setType(\"Alphabet\");\n",
    "\t\tthis.letter = letter;\n",
    "\t}\n",
    "\n",
    "\t/* 'Generics' requires getKey to help enforce KeyTypes usage */\n",
    "\t@Override\n",
    "\tprotected KeyTypes getKey() { return Alphabet.key; }\n",
    "\n",
    "\t/* 'Generics' requires toString override\n",
    "\t * toString provides data based off of Static Key setting\n",
    "\t */\n",
    "\t@Override\n",
    "\tpublic String toString()\n",
    "\t{\n",
    "\t\tString output=\"\";\n",
    "\t\tif (KeyType.letter.equals(this.getKey())) {\n",
    "\t\t\toutput += this.letter;\n",
    "\t\t} else {\n",
    "\t\t\toutput += super.getType() + \": \" + this.letter;\n",
    "\t\t}\n",
    "\t\treturn output;\n",
    "\t}\n",
    "\n",
    "\t// Test data initializer for upper case Alphabet\n",
    "\tpublic static Alphabet[] alphabetData()\n",
    "\t{\n",
    "\t\tAlphabet[] alphabet = new Alphabet[Alphabet.size];\n",
    "\t\tfor (int i = 0; i < Alphabet.size; i++)\n",
    "\t\t{\n",
    "\t\t\talphabet[i] = new Alphabet( (char)('A' + i) );\n",
    "\t\t} \t\n",
    "\t\treturn alphabet;\n",
    "\t}\n",
    "\t\n",
    "\t/* \n",
    "\t * main to test Animal class\n",
    "\t */\n",
    "\tpublic static void main(String[] args)\n",
    "\t{\n",
    "\t\t// Inheritance Hierarchy\n",
    "\t\tAlphabet[] objs = alphabetData();\n",
    "\n",
    "\t\t// print with title\n",
    "\t\tAlphabet.setOrder(KeyType.title);\n",
    "\t\tAlphabet.print(objs);\n",
    "\n",
    "\t\t// print letter only\n",
    "\t\tAlphabet.setOrder(KeyType.letter);\n",
    "\t\tAlphabet.print(objs);\n",
    "\t}\n",
    "\t\n",
    "}\n",
    "Alphabet.main(null);"
   ]
  }
 ],
 "metadata": {
  "kernelspec": {
   "display_name": "Java",
   "language": "java",
   "name": "java"
  },
  "language_info": {
   "codemirror_mode": "java",
   "file_extension": ".jshell",
   "mimetype": "text/x-java-source",
   "name": "Java",
   "pygments_lexer": "java",
   "version": "11.0.18+10-post-Ubuntu-0ubuntu122.04"
  },
  "orig_nbformat": 4
 },
 "nbformat": 4,
 "nbformat_minor": 2
}
