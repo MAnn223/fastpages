{
 "cells": [
  {
   "cell_type": "code",
   "execution_count": 4,
   "metadata": {},
   "outputs": [],
   "source": [
    "String[] people = {\"Meena\", \"Bob\", \"Mort\", \"Joe\"};\n",
    "String[] place = {\"house\", \"school\", \"mall\", \"restaurant\"};\n",
    "String[] adjective = {\"slimy\", \"depressed\", \"pink\"};\n",
    "\n",
    "public class MadLib {\n",
    "    private String names;\n",
    "    private String places;\n",
    "    private String adjectives;\n",
    "\n",
    "    public String \n",
    "}"
   ]
  },
  {
   "cell_type": "code",
   "execution_count": null,
   "metadata": {},
   "outputs": [],
   "source": []
  }
 ],
 "metadata": {
  "kernelspec": {
   "display_name": "Java",
   "language": "java",
   "name": "java"
  },
  "language_info": {
   "codemirror_mode": "java",
   "file_extension": ".jshell",
   "mimetype": "text/x-java-source",
   "name": "java",
   "pygments_lexer": "java",
   "version": "11.0.18+10-post-Ubuntu-0ubuntu122.04"
  },
  "orig_nbformat": 4
 },
 "nbformat": 4,
 "nbformat_minor": 2
}
