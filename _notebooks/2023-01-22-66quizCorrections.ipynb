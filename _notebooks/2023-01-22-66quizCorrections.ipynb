{
 "cells": [
  {
   "attachments": {},
   "cell_type": "markdown",
   "metadata": {},
   "source": [
    "# 66 Question Collegeboard Quiz Corrections\n",
    "> Quiz Corrections \n",
    "\n",
    "- toc: true \n",
    "- badges: true\n",
    "- comments: true\n",
    "- categories: [jupyter]\n",
    "- image: images/acorn.png"
   ]
  },
  {
   "attachments": {},
   "cell_type": "markdown",
   "metadata": {},
   "source": [
    "## Question 4\n",
    "Assume that a, b, and c are boolean variables that have been properly declared and initialized. Which of the following boolean expressions is equivalent to !(a && b) || c ?\n",
    "\n",
    "A\n",
    "a && b && c\n",
    "\n",
    "B\n",
    "a || b || c\n",
    "\n",
    "C\n",
    "!a && !b || c\n",
    "\n",
    "D\n",
    "!a && !b && c\n",
    "\n",
    "E\n",
    "!a || !b || c\n",
    "\n",
    "- I didn't realize that B is not equivalent to the given expression when all the values are false. So E is the right answer by De Morgan's laws. "
   ]
  },
  {
   "attachments": {},
   "cell_type": "markdown",
   "metadata": {},
   "source": [
    "## Question 27\n",
    "![q27](../images/q27.PNG)\n",
    "\n",
    "For the option I chose, the method does work as intended since it removes the elements that were initially at indexes 0 and 3. In option B, the variable j is sometimes increased by 1 twice."
   ]
  },
  {
   "attachments": {},
   "cell_type": "markdown",
   "metadata": {},
   "source": [
    "## Question 32\n",
    "![q32](../images/q32.PNG)\n",
    "\n",
    "\n",
    "I misunderstood how the findLongest method worked. If lenCount = 0 is added between lines 12 and 13, then the method will find the longest consecutive block of the value target occurring in the array."
   ]
  },
  {
   "attachments": {},
   "cell_type": "markdown",
   "metadata": {},
   "source": [
    "## Question 33\n",
    "![q33](../images/q331.PNG)\n",
    "\n",
    "If the largest value occurs more than once, the method would still work since the maxVal would already be set to the max value. However, if the largest value is negative, then 0 will be returned. This could be fixed if maxVal was initialized to the first element in the array."
   ]
  },
  {
   "attachments": {},
   "cell_type": "markdown",
   "metadata": {},
   "source": [
    "## Question 34\n",
    "![q34](../images/q34.PNG)\n",
    "\n",
    "The selected code would print a value that is twice the sum. The right answer uses a regular loop as opposed to an enhanced loop to give the same answer as the code above."
   ]
  },
  {
   "attachments": {},
   "cell_type": "markdown",
   "metadata": {},
   "source": [
    "## Question 35\n",
    "![q35](../images/q35.PNG)\n",
    "\n",
    "The selected code would print 10 while we want to print 11. The right answer increases count by 1 each time the loop runs so count will be 10 at the end since it started at 0."
   ]
  },
  {
   "attachments": {},
   "cell_type": "markdown",
   "metadata": {},
   "source": [
    "## Question 36\n",
    "![q36](../images/q36.PNG)\n",
    "\n",
    "For this question, I need to learn more about the GridWorld case study."
   ]
  },
  {
   "attachments": {},
   "cell_type": "markdown",
   "metadata": {},
   "source": [
    "## Question 53\n",
    "![q53](../images/q53.PNG)\n",
    "\n",
    "If the variable total is initialized to 1, then mystery2 will return the same value as mystery1. Variable x should be initialized to 1."
   ]
  },
  {
   "attachments": {},
   "cell_type": "markdown",
   "metadata": {},
   "source": [
    "## Question 54\n",
    "![q54](../images/q54.PNG)\n",
    "\n",
    "The selected option would return false since a is lexicographically less than b. But in option D,  there is no  character pair where the first character of str is lexicographically less than or equal to the second character of str so the value returned is true."
   ]
  },
  {
   "attachments": {},
   "cell_type": "markdown",
   "metadata": {},
   "source": [
    "## Reflection\n",
    "- I got 57 out of 66. Taking this quiz was helpful in practicing AP questions and getting an idea of what areas I need to work on.\n",
    "\n",
    "- This quiz took me a couple of hours and I got stuck on some of the questions so I need to work on my timing. I worked on the quiz at different times and found that I got more questions wrong near the end of the times I worked on the quiz.\n",
    "\n",
    "- One area I could work on more is recursion by looking at Unit 10. I could also review Unit 6 Arrays and Unit 9 Polymorphism. "
   ]
  }
 ],
 "metadata": {
  "kernelspec": {
   "display_name": "Python 3",
   "language": "python",
   "name": "python3"
  },
  "language_info": {
   "name": "python",
   "version": "3.8.10 (default, Jun 22 2022, 20:18:18) \n[GCC 9.4.0]"
  },
  "orig_nbformat": 4,
  "vscode": {
   "interpreter": {
    "hash": "31f2aee4e71d21fbe5cf8b01ff0e069b9275f58929596ceb00d14d90e3e16cd6"
   }
  }
 },
 "nbformat": 4,
 "nbformat_minor": 2
}
