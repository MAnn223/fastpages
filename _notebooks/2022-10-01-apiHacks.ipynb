{
 "cells": [
  {
   "cell_type": "markdown",
   "metadata": {},
   "source": [
    "# Java RapidAPI Hacks \n",
    "> Using RapidAPI and building a web service\n",
    "\n",
    "- toc: true \n",
    "- badges: true\n",
    "- comments: true\n",
    "- categories: [jupyter]\n",
    "- image: images/chart-preview.png"
   ]
  },
  {
   "cell_type": "markdown",
   "metadata": {},
   "source": [
    "## Fetch and Backend RapidAPI\n",
    "> Find an API and implement Fetch following Covid example. "
   ]
  },
  {
   "cell_type": "code",
   "execution_count": 5,
   "metadata": {},
   "outputs": [
    {
     "name": "stdout",
     "output_type": "stream",
     "text": [
      "{\"categories\":[{\"category\":\"\"},{\"category\":\"supplements\"},{\"category\":\"Stationery\"},{\"category\":\"Office Supplies\"},{\"category\":\"Test\"},{\"category\":\"Accessories\"},{\"category\":\"Bike\"},{\"category\":\"nill\"},{\"category\":null},{\"category\":\"Wallet\"},{\"category\":\"Watches\"},{\"category\":\"Travel Gear\"},{\"category\":\"Software\"},{\"category\":\"Clothing\"},{\"category\":\"asa\"},{\"category\":\"books\"},{\"category\":\"dsas\"},{\"category\":\"zx\"},{\"category\":\"25\"},{\"category\":\"appliance\"},{\"category\":\"velit elit in\"},{\"category\":\"Furniture\"},{\"category\":\"kategoria\"},{\"category\":\"  meble\"},{\"category\":\"hth\"},{\"category\":\"string\"},{\"category\":\"laptop\"},{\"category\":\"Technology\"},{\"category\":\"Baby\"},{\"category\":\"Movies\"},{\"category\":\"Automotive\"},{\"category\":\"Computers\"},{\"category\":\"Music\"},{\"category\":\"Sports\"},{\"category\":\"Beauty\"},{\"category\":\"Health\"},{\"category\":\"Electronics\"},{\"category\":\"Industrial\"},{\"category\":\"Home\"},{\"category\":\"Shoes\"},{\"category\":\"Grocery\"},{\"category\":\"Kids\"},{\"category\":\"Garden\"},{\"category\":\"Toys\"},{\"category\":\"Tools\"},{\"category\":\"Games\"},{\"category\":\"Jewelery\"},{\"category\":\"computer\"},{\"category\":\"Outdoors\"},{\"category\":\"Appliances\"},{\"category\":\"Calsado\"},{\"category\":\"Deportiva\"},{\"category\":\"Moviles\"},{\"category\":\"computers.\"},{\"category\":\"Asado\"},{\"category\":\"Movil\"},{\"category\":\"computeir\"},{\"category\":\" \"},{\"category\":\" cocinca\"},{\"category\":\"shirt\"},{\"category\":\"Snacks\"},{\"category\":\"Computers    \"},{\"category\":\"Smart TV\"},{\"category\":\"Bebidas\"},{\"category\":\"Creator Expert\"},{\"category\":\"argentina\"},{\"category\":\"China\"},{\"category\":\"Gaming\"},{\"category\":\"PC\"},{\"category\":\"Tecnologie\"},{\"category\":\"{{category}}\"},{\"category\":\"string1\"},{\"category\":\"COMPUTERS PRUEBA\"},{\"category\":\"SEDAN2\"},{\"category\":\"Electronicos\"},{\"category\":\"SEDAN\"},{\"category\":\"PRUEBA3\"},{\"category\":\"tecnology\"},{\"category\":\"Accesorio\"},{\"category\":\"computappliancesers\"},{\"category\":\"cumputer\"},{\"category\":\"accesorios\"},{\"category\":\"electro\"},{\"category\":\"adsadadsad\"},{\"category\":\"Limpieza\"},{\"category\":\"Celulares\"},{\"category\":\"Juguetes\"},{\"category\":\"calzado\"},{\"category\":\"sombrero\"},{\"category\":\"Laptot\"},{\"category\":\"omputers\"},{\"category\":\"suplements\"},{\"category\":\"Accesories\"},{\"category\":\"X\"},{\"category\":\"leche\"},{\"category\":\"Electrodomesticos\"},{\"category\":\"accesoros\"},{\"category\":\"teste\"},{\"category\":\"Viveres\"},{\"category\":\"videogames\"},{\"category\":\"sport\"},{\"category\":\"iphone\"},{\"category\":\"tecnilogy\"},{\"category\":\"Computadora\"},{\"category\":\"Wiper blade\"},{\"category\":\"Pen\"},{\"category\":\"autos\"},{\"category\":\"Stationary items\"},{\"category\":\"Udemy\"},{\"category\":\"tv\"},{\"category\":\"Audio\"},{\"category\":\"harum\"},{\"category\":\"voluptatem\"},{\"category\":\"maiores\"},{\"category\":\"molestiae\"},{\"category\":\"fugiat\"},{\"category\":\"Electrodomestico\"},{\"category\":\"vitae\"},{\"category\":\"distinctio\"},{\"category\":\"Tecnología\"},{\"category\":\"Automatizacion\"},{\"category\":\"taom\"},{\"category\":\"Laptop dell intel i7 8gb ram\"},{\"category\":\"computadoras\"},{\"category\":\"TV de alta calidad\"},{\"category\":\"products\"},{\"category\":\"Categoria 1\"},{\"category\":\"CarnePre\"},{\"category\":\"perro\"},{\"category\":\"mi_category\"},{\"category\":\"Frituras\"},{\"category\":\"telefono\"},{\"category\":\"proteina\"},{\"category\":\"refresco\"},{\"category\":\"Juguete\"},{\"category\":\"papeleria\"},{\"category\":\"Alimentos\"},{\"category\":\"console\"},{\"category\":\"hombres\"},{\"category\":\"Verduras\"},{\"category\":\"karateDSL\"},{\"category\":\"dolore\"},{\"category\":\"Verduras_pichincha\"},{\"category\":\"cars\"},{\"category\":\"clothes\"},{\"category\":\"comida\"},{\"category\":\"hogar\"},{\"category\":\"Venta\"},{\"category\":\"Baja676\"},{\"category\":\"Abc\"},{\"category\":\" Accessories\"},{\"category\":\"<category>\"},{\"category\":\"insumo\"},{\"category\":\"zapatos\"},{\"category\":\"<categoria>\"},{\"category\":\"Categoria1\"},{\"category\":\"ROCA\"},{\"category\":\"Categoria 2\"},{\"category\":\"Tomates_pichincha\"},{\"category\":\"Pruebas\"},{\"category\":\"cocina\"},{\"category\":\"ropa\"},{\"category\":\"perrito\"},{\"category\":\"deportes\"},{\"category\":\"manifestaciones\"},{\"category\":\"tacones\"},{\"category\":\"Prueba\"},{\"category\":\"shirts\"},{\"category\":\"tecnlogia\"},{\"category\":\"insumo para el hogar\"},{\"category\":\"Apliances\"},{\"category\":\"ELectronica\"},{\"category\":\"phone\"},{\"category\":\"Sistemas\"},{\"category\":\"Electric guitar\"},{\"category\":\"a\"},{\"category\":\"RPOA\"},{\"category\":\"Applianes\"},{\"category\":\"Bike2\"},{\"category\":\"zapatillas\"},{\"category\":\"xxx\"},{\"category\":\"Person\"},{\"category\":\"Electro2\"},{\"category\":\" Juego\"},{\"category\":\"hombre\"},{\"category\":\"49 pulgadas\"},{\"category\":\"Telefono Movil\"},{\"category\":\"Telefono Movil 2T\"},{\"category\":\"Movil 2T\"},{\"category\":\"categoria\"},{\"category\":\"Sex\"},{\"category\":\"gff\"},{\"category\":\"Cel\"},{\"category\":\"action figures\"},{\"category\":\"Informatica\"},{\"category\":\"Casa\"},{\"category\":\"Vehicles\"},{\"category\":\"Televisores\"},{\"category\":\"comúters\"},{\"category\":\"ppa\"},{\"category\":\"consolas\"},{\"category\":\"COMPUTADOR\"},{\"category\":\"Televisor\"},{\"category\":\"Running\"},{\"category\":\"IT\"},{\"category\":\"automovil\"},{\"category\":\"Videojuegos\"},{\"category\":\"Consola\"},{\"category\":\"lindo\"},{\"category\":\"CellPhones\"},{\"category\":\"Streamer\"},{\"category\":\"lacteo\"},{\"category\":\"string123\"},{\"category\":\"cursos\"},{\"category\":\"pasta\"},{\"category\":\"Pie\"},{\"category\":\"Value Meal 1\"},{\"category\":\"Value Meal 2\"},{\"category\":\"Value Meal 3\"},{\"category\":\"Food\"},{\"category\":\"App\"},{\"category\":\"Smartphones\"},{\"category\":\"Ancient Technology\"},{\"category\":\"Appliences\"},{\"category\":\"Mobile Phone\"},{\"category\":\"c1\"},{\"category\":\"Dawa\"},{\"category\":\"sdfsfd\"},{\"category\":\"N/A\"},{\"category\":\"NA\"},{\"category\":\"AntiAge\"},{\"category\":\"ciencia\"},{\"category\":\"terror\"},{\"category\":\"cupidatat pariatur laborum occaecat\"},{\"category\":\"informatico\"},{\"category\":\"2\"},{\"category\":\"09\"},{\"category\":\"category_test\"},{\"category\":\"{{$randomDepartment}}\"},{\"category\":\"asd\"},{\"category\":\"Cmoputación\"},{\"category\":\"jabon\"},{\"category\":\"Ripley\"},{\"category\":\"Toyota\"},{\"category\":\"APPLE\"},{\"category\":\"card\"},{\"category\":\"Mobiles\"},{\"category\":\"abrigos\"},{\"category\":\"alimentos organicos\"},{\"category\":\"minim nisi commodo laborum\"},{\"category\":\"camaras\"},{\"category\":\"TShirt\"},{\"category\":\"adult\"},{\"category\":\"TEJIDO\"},{\"category\":\"Bazzar\"},{\"category\":\"video juegos\"},{\"category\":\"capunters\"},{\"category\":\"Colombia\"},{\"category\":\"Appilances\"},{\"category\":\"Armadura\"},{\"category\":\"Mouse\"},{\"category\":\"Arma blanca\"},{\"category\":\"TRANSPORTE\"},{\"category\":\"ARTESANIA\"},{\"category\":\"ROPAS\"},{\"category\":\"cosmos\"},{\"category\":\"tech\"},{\"category\":\"Celular\"},{\"category\":\"rico\"},{\"category\":\"hola\"},{\"category\":\"fotomoso\"},{\"category\":\"congas\"},{\"category\":\"reprehenderit consectetur nostrud in\"},{\"category\":\"spc\"},{\"category\":\"smart\"},{\"category\":\"fruta\"},{\"category\":\"notebook\"},{\"category\":\"succesfull\"},{\"category\":\"Tinta\"},{\"category\":\"Hardware\"},{\"category\":\"MONITOR\"},{\"category\":\"ullamco Excepteur aliqua\"},{\"category\":\"Interior\"},{\"category\":\"Animalitos\"},{\"category\":\"Animales\"},{\"category\":\"animal\"},{\"category\":\"comida rapida\"},{\"category\":\"postres helados\"},{\"category\":\"perritos\"},{\"category\":\"Smart Man\"},{\"category\":\"portatiles\"},{\"category\":\"chocolates\"},{\"category\":\"cookies\"},{\"category\":\"coputers\"},{\"category\":\"Category\"},{\"category\":\"laptos\"},{\"category\":\"Lenovo\"}]}\n"
     ]
    }
   ],
   "source": [
    "import java.net.URI;\n",
    "import java.net.http.HttpClient;\n",
    "import java.net.http.HttpRequest;\n",
    "import java.net.http.HttpResponse;\n",
    "\n",
    "//RapidAPI header  https://rapidapi.com/iddogino1/api/my-store2/\n",
    "HttpRequest request = HttpRequest.newBuilder()\n",
    "    .uri(URI.create(\"https://my-store2.p.rapidapi.com/catalog/categories\"))\n",
    "    .header(\"x-rapidapi-key\", \"c59b416554mshfcef455148b1cd9p158ddejsn959d7b9ce755\")\n",
    "    .header(\"x-rapidapi-host\", \"my-store2.p.rapidapi.com\")\n",
    "    .method(\"GET\", HttpRequest.BodyPublishers.noBody())\n",
    "    .build();\n",
    "\n",
    "//RapidAPI request and response\n",
    "HttpResponse<String> response = HttpClient.newHttpClient().send(request, HttpResponse.BodyHandlers.ofString());\n",
    "\n",
    "//RapidAPI Body\n",
    "System.out.println(response.body());"
   ]
  },
  {
   "cell_type": "code",
   "execution_count": 2,
   "metadata": {},
   "outputs": [
    {
     "ename": "CompilationException",
     "evalue": "",
     "output_type": "error",
     "traceback": [
      "\u001b[1m\u001b[30m|   \u001b[1m\u001b[30m\u001b[0m\u001b[1m\u001b[30m\u001b[41m\u001b[0m\u001b[1m\u001b[30mpackage com.nighthawk.spring_java_project.mvc.store;\u001b[0m",
      "\u001b[1m\u001b[31millegal start of expression\u001b[0m",
      ""
     ]
    }
   ],
   "source": [
    "package com.nighthawk.spring_java_project.mvc.store;\n",
    "\n",
    "import java.net.URI;\n",
    "import java.net.http.HttpClient;\n",
    "import java.net.http.HttpRequest;\n",
    "import java.net.http.HttpResponse;\n",
    "import java.util.Date;\n",
    "import java.util.HashMap;\n",
    "\n",
    "import org.json.simple.JSONObject;\n",
    "import org.json.simple.parser.JSONParser;\n",
    "import org.springframework.http.HttpStatus;\n",
    "import org.springframework.http.ResponseEntity;\n",
    "import org.springframework.web.bind.annotation.*;\n",
    "\n",
    "@RestController // annotation to create a RESTful web services\n",
    "@RequestMapping(\"/api/store\")  //prefix of API\n",
    "public class CovidApiController {\n",
    "    private JSONObject body; //last run result\n",
    "    private HttpStatus status; //last run status\n",
    "    String last_run = null; //last run day of month\n",
    "\n",
    "    // GET Covid 19 Stats\n",
    "    @GetMapping(\"/categories\")   //added to end of prefix as endpoint\n",
    "    public ResponseEntity<JSONObject> getStore() {\n",
    "\n",
    "        //calls API once a day, sets body and status properties\n",
    "        String today = new Date().toString().substring(0,10); \n",
    "        if (last_run == null || !today.equals(last_run))\n",
    "        {\n",
    "            try {  //APIs can fail (ie Internet or Service down)\n",
    "\n",
    "                //RapidAPI header\n",
    "                HttpRequest request = HttpRequest.newBuilder()\n",
    "                    .uri(URI.create(\"https://my-store2.p.rapidapi.com/catalog/products\"))\n",
    "                    .header(\"x-rapidapi-key\", \"c59b416554mshfcef455148b1cd9p158ddejsn959d7b9ce755\")\n",
    "                    .header(\"x-rapidapi-host\", \"my-store2.p.rapidapi.com\")\n",
    "                    .method(\"GET\", HttpRequest.BodyPublishers.noBody())\n",
    "                    .build();\n",
    "\n",
    "                //RapidAPI request and response\n",
    "                HttpResponse<String> response = HttpClient.newHttpClient().send(request, HttpResponse.BodyHandlers.ofString());\n",
    "\n",
    "                //JSONParser extracts text body and parses to JSONObject\n",
    "                this.body = (JSONObject) new JSONParser().parse(response.body());\n",
    "                this.status = HttpStatus.OK;  //200 success\n",
    "                this.last_run = today;\n",
    "            }\n",
    "            catch (Exception e) {  //capture failure info\n",
    "                HashMap<String, String> status = new HashMap<>();\n",
    "                status.put(\"status\", \"RapidApi failure: \" + e);\n",
    "\n",
    "                //Setup object for error\n",
    "                this.body = (JSONObject) status;\n",
    "                this.status = HttpStatus.INTERNAL_SERVER_ERROR; //500 error\n",
    "                this.last_run = null;\n",
    "            }\n",
    "        }\n",
    "\n",
    "        //return JSONObject in RESTful style\n",
    "        return new ResponseEntity<>(body, status);\n",
    "    }\n",
    "}"
   ]
  },
  {
   "cell_type": "markdown",
   "metadata": {},
   "source": [
    "## Questions\n",
    "1. Benefit of using and API?\n",
    "2. Benefit(s) of backend implementation?"
   ]
  }
 ],
 "metadata": {
  "kernelspec": {
   "display_name": "Java",
   "language": "java",
   "name": "java"
  },
  "language_info": {
   "codemirror_mode": "java",
   "file_extension": ".jshell",
   "mimetype": "text/x-java-source",
   "name": "java",
   "pygments_lexer": "java",
   "version": "11.0.16+8-post-Ubuntu-0ubuntu120.04"
  },
  "orig_nbformat": 4
 },
 "nbformat": 4,
 "nbformat_minor": 2
}
