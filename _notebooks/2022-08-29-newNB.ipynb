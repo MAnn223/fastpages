{
 "cells": [
  {
   "cell_type": "markdown",
   "metadata": {},
   "source": [
    "# Codeorg Notes Lesson 1-5\n",
    "> Week 1 \n",
    "\n",
    "- toc: true \n",
    "- badges: true\n",
    "- comments: true\n",
    "- categories: [jupyter]\n",
    "- image: images/codeOrgL15.PNG"
   ]
  },
  {
   "cell_type": "markdown",
   "metadata": {},
   "source": [
    "# Codeorg Week 1 Notes\n",
    "\n",
    "![]({{ site.baseurl }}/images/codeOrgL15.PNG)"
   ]
  },
  {
   "cell_type": "markdown",
   "metadata": {},
   "source": [
    "## Lesson 2 Java Lab\n",
    "\n",
    "- Class header and main method \n",
    "- \"ClassName\" should be replaced with the filename"
   ]
  },
  {
   "cell_type": "code",
   "execution_count": null,
   "metadata": {},
   "outputs": [],
   "source": [
    "public class ClassName {\n",
    "    public static void main(String[] args) {\n",
    "    \n",
    "    }\n",
    " }"
   ]
  },
  {
   "cell_type": "markdown",
   "metadata": {},
   "source": [
    "## Lesson 3 The Neighborhood"
   ]
  },
  {
   "cell_type": "markdown",
   "metadata": {},
   "source": [
    "- Defining an object\n",
    "    - `ClassName objectName = new ClassName()`\n",
    "    - Example:\n",
    "        - `Painter myPainter = new Painter();`\n",
    "\n",
    "- Objects have **attributes** which are characteristics of an object\n",
    "- A **class** is the blueprint that **objects** are created from. **Instantiating** an object calls the constrcutor to create an object.\n",
    "- A **constructor** is code that has the same name as the class and tells the computer how to create a new object "
   ]
  },
  {
   "cell_type": "markdown",
   "metadata": {},
   "source": [
    "## Lesson 4 Navigating and Printing"
   ]
  },
  {
   "cell_type": "markdown",
   "metadata": {},
   "source": [
    "- **Parameter**: a variable in the method/constructor signature that defines the type of value to receive when the method or constructor is called\n",
    "    - in the definition of a function\n",
    "- **Argument**: a value passed to a method/constructor when the method or constructor is called\n",
    "    - when calling the function"
   ]
  },
  {
   "cell_type": "markdown",
   "metadata": {},
   "source": [
    "## Lesson 5 One-Way Selection Statements"
   ]
  },
  {
   "cell_type": "code",
   "execution_count": null,
   "metadata": {},
   "outputs": [],
   "source": [
    "//if statement syntax\n",
    "if (condition) {\n",
    "    //do this\n",
    "}"
   ]
  }
 ],
 "metadata": {
  "kernelspec": {
   "display_name": "Java",
   "language": "java",
   "name": "java"
  },
  "language_info": {
   "name": "java",
   "version": "3.8.10"
  },
  "orig_nbformat": 4,
  "vscode": {
   "interpreter": {
    "hash": "916dbcbb3f70747c44a77c7bcd40155683ae19c65e1c03b4aa3499c5328201f1"
   }
  }
 },
 "nbformat": 4,
 "nbformat_minor": 2
}
