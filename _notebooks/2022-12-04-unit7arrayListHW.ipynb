{
 "cells": [
  {
   "cell_type": "markdown",
   "metadata": {},
   "source": [
    "# Unit 7 ArrayList HW \n",
    "> HW for Unit 7\n",
    "\n",
    "- toc: true \n",
    "- badges: true\n",
    "- comments: true\n",
    "- categories: [jupyter]\n",
    "- image: images/acorn.png"
   ]
  },
  {
   "cell_type": "markdown",
   "metadata": {},
   "source": [
    "- Do two hacks of the 4\n",
    "- Sort an ArrayList in descending order and swap the first and last elements (Completed)\n",
    "- Find and display the hashCode of an Arraylist before and after being sorted (Completed)\n",
    "- Return \"ascending\" if the list is sorted in ascending order, return \"descending\" if it is descending, and return \"neither\" if neither\n",
    "- Replace 3 elements in an ArrayList with another ArrayList and reverse the order of the new list"
   ]
  },
  {
   "cell_type": "code",
   "execution_count": 14,
   "metadata": {
    "vscode": {
     "languageId": "java"
    }
   },
   "outputs": [
    {
     "data": {
      "text/plain": [
       "true"
      ]
     },
     "execution_count": 14,
     "metadata": {},
     "output_type": "execute_result"
    }
   ],
   "source": [
    "ArrayList<Integer> numbers = new ArrayList<Integer>();\n",
    "numbers.add(1);\n",
    "numbers.add(4);\n",
    "numbers.add(2);\n",
    "numbers.add(3);\n"
   ]
  },
  {
   "cell_type": "markdown",
   "metadata": {},
   "source": [
    "# Sort an ArrayList in descending order and swap the first and last elements and \n",
    "# Find and display the hashCode of an Arraylist before and after being sorted"
   ]
  },
  {
   "cell_type": "code",
   "execution_count": 16,
   "metadata": {
    "vscode": {
     "languageId": "java"
    }
   },
   "outputs": [
    {
     "name": "stdout",
     "output_type": "stream",
     "text": [
      "Before Sorting: [1, 4, 2, 3], the hashcode is 957221\n",
      "After Sorting: [4, 3, 2, 1], the hashcode is 1045631\n",
      "After Sorting and Swapping first and last numbers: [1, 3, 2, 4], the hashcode is 956261\n"
     ]
    }
   ],
   "source": [
    "System.out.println(\"Before Sorting: \"+ numbers + \", the hashcode is \" + numbers.hashCode());\n",
    "Collections.sort(numbers, Collections.reverseOrder());\n",
    "System.out.println(\"After Sorting: \"+ numbers + \", the hashcode is \" + numbers.hashCode());\n",
    "Collections.swap(numbers, 0, numbers.size()-1);\n",
    "System.out.println(\"After Sorting and Swapping first and last numbers: \"+ numbers + \", the hashcode is \" + numbers.hashCode());"
   ]
  }
 ],
 "metadata": {
  "kernelspec": {
   "display_name": "Java",
   "language": "java",
   "name": "java"
  },
  "language_info": {
   "codemirror_mode": "java",
   "file_extension": ".jshell",
   "mimetype": "text/x-java-source",
   "name": "Java",
   "pygments_lexer": "java",
   "version": "11.0.16+8-post-Ubuntu-0ubuntu120.04"
  },
  "orig_nbformat": 4
 },
 "nbformat": 4,
 "nbformat_minor": 2
}
