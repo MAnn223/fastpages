{
 "cells": [
  {
   "attachments": {},
   "cell_type": "markdown",
   "metadata": {},
   "source": [
    "# Sorting Notes\n",
    "> Sorting Notes\n",
    "\n",
    "- toc: true \n",
    "- badges: true\n",
    "- comments: true\n",
    "- categories: [jupyter]\n",
    "- image: images/acorn.png"
   ]
  },
  {
   "attachments": {},
   "cell_type": "markdown",
   "metadata": {},
   "source": [
    "- toString()\n",
    "- Selection sort\n",
    "    - Linear sort algorithm as it moves from index of 0 to index of n-1\n",
    "    - In the inner loop which is a second linear loop it compares two elements and notes which is smallest, after cycling to the end it swaps the smallest number to beginning position in the round.\n",
    "    - Big O Complexity n squared\n",
    "- Insertion Sort\n",
    "- Sorts loop partially at a time until the whole list is sorted"
   ]
  }
 ],
 "metadata": {
  "language_info": {
   "name": "python"
  },
  "orig_nbformat": 4
 },
 "nbformat": 4,
 "nbformat_minor": 2
}
