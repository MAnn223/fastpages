{
 "cells": [
  {
   "cell_type": "markdown",
   "metadata": {},
   "source": [
    "# Iteration Mini Lab\n",
    "> Week 4\n",
    "\n",
    "- toc: true \n",
    "- badges: true\n",
    "- comments: true\n",
    "- categories: [jupyter]\n",
    "- image: images/gpaCalcPreview.PNG"
   ]
  },
  {
   "cell_type": "code",
   "execution_count": 34,
   "metadata": {
    "vscode": {
     "languageId": "java"
    }
   },
   "outputs": [
    {
     "name": "stdout",
     "output_type": "stream",
     "text": [
      "\n",
      "Monkey Jumpers Poem in Java Loopy\n",
      "4 little monkeys jumping on the bed...\n",
      "       w  c(..)o   (                  w  c(..)o   (                  w  c(..)o   (                  w  c(..)o   (           \n",
      "       \\__(-)    __)                  \\__(-)    __)                  \\__(-)    __)                  \\__(-)    __)           \n",
      "           /\\   (                        /\\   (                         /\\   (                         /\\   (           \n",
      "           /(_)___)                      /(_)___)                      /(_)___)                      /(_)___)           \n",
      "           w /|                          w /|                          w /|                          w /|           \n",
      "           | \\                           | \\                           | \\                           | \\           \n",
      "           a  a                          b  b                          c  c                          d  d             \n",
      "One fell off and bumped his head\n",
      "Mama called the doctor and the doctor sai\n",
      "No more monkeys jumping on the bed\n",
      "\n",
      "3 little monkeys jumping on the bed...\n",
      "       w  c(..)o   (                  w  c(..)o   (                  w  c(..)o   (           \n",
      "       \\__(-)    __)                  \\__(-)    __)                  \\__(-)    __)           \n",
      "           /\\   (                        /\\   (                         /\\   (           \n",
      "           /(_)___)                      /(_)___)                      /(_)___)           \n",
      "           w /|                          w /|                          w /|           \n",
      "           | \\                           | \\                           | \\           \n",
      "           a  a                          b  b                          c  c             \n",
      "One fell off and bumped his head\n",
      "Mama called the doctor and the doctor sai\n",
      "No more monkeys jumping on the bed\n",
      "\n",
      "2 little monkeys jumping on the bed...\n",
      "       w  c(..)o   (                  w  c(..)o   (           \n",
      "       \\__(-)    __)                  \\__(-)    __)           \n",
      "           /\\   (                        /\\   (           \n",
      "           /(_)___)                      /(_)___)           \n",
      "           w /|                          w /|           \n",
      "           | \\                           | \\           \n",
      "           a  a                          b  b             \n",
      "One fell off and bumped his head\n",
      "Mama called the doctor and the doctor sai\n",
      "No more monkeys jumping on the bed\n",
      "\n",
      "1 little monkeys jumping on the bed...\n",
      "       w  c(..)o   (           \n",
      "       \\__(-)    __)           \n",
      "           /\\   (           \n",
      "           /(_)___)           \n",
      "           w /|           \n",
      "           | \\           \n",
      "           a  a             \n",
      "One fell off and bumped his head\n",
      "Mama called the doctor and the doctor sai\n",
      "No more monkeys jumping on the bed\n",
      "\n",
      "No more monkeys jumping on the bed\n",
      "0000000000000000000000000000000000\n",
      "             THE END              \n"
     ]
    }
   ],
   "source": [
    "/*\n",
    " * Creator: Nighthawk Coding Society\n",
    " * Mini Lab Name: Hello Series,featuring Monkey Jumpers\n",
    " */\n",
    "\n",
    "/**\n",
    " * Class for Monkeys: a 2D array of Monkeys\n",
    " * As well as method to print the Poem\n",
    " */\n",
    "class MonkeyLoop {\n",
    "    //The area between class definition and the 1st method is where we keep data for object in Java\n",
    "    String [][] monkeys;    //2D Array: AP CSA Unit 8: 2D array of strings\n",
    "                            //2D array is like a grid [x][y]\n",
    "                            // or like a spreadsheet [row][column]\n",
    "\n",
    "    /**\n",
    "     * Constructor initializes a 2D array of Monkeys\n",
    "     */\n",
    "    public MonkeyLoop() {\n",
    "        //Storing Data in 2D arrays\n",
    "        monkeys = new String[][]{   //2D array above is just a name, \"new\" makes a container (\"object\")\n",
    "                //Changed the monkeys\n",
    "                //Monkey 1\n",
    "                {\n",
    "                    \"w  c(..)o   (\",\n",
    "                     \"\\\\__(-)    __)\",\n",
    "                     \"    /\\\\   (\",\n",
    "                     \"    /(_)___)\",\n",
    "                     \"    w /|\",\n",
    "                     \"    | \\\\\",\n",
    "                     \"    a  a  \"       \n",
    "                },\n",
    "                //Monkey 2\n",
    "                {\n",
    "                    \"w  c(..)o   (\",\n",
    "                    \"\\\\__(-)    __)\",\n",
    "                    \"      /\\\\   (\",\n",
    "                    \"    /(_)___)\",\n",
    "                    \"        w /|\",\n",
    "                    \"         | \\\\\",\n",
    "                    \"      b  b  \"       \n",
    "                },\n",
    "                //Monkey 3\n",
    "                {\n",
    "                    \"w  c(..)o   (\",\n",
    "                    \"\\\\__(-)    __)\",\n",
    "                    \"       /\\\\   (\",\n",
    "                    \"    /(_)___)\",\n",
    "                    \"        w /|\",\n",
    "                    \"         | \\\\\",\n",
    "                    \"      c  c  \"  \n",
    "                },\n",
    "                //Monkey 4\n",
    "                {\n",
    "                    \"w  c(..)o   (\",\n",
    "                    \"\\\\__(-)    __)\",\n",
    "                    \"       /\\\\   (\",\n",
    "                    \"    /(_)___)\",\n",
    "                    \"        w /|\",\n",
    "                    \"         | \\\\\",\n",
    "                    \"      d  d  \"     \n",
    "                },\n",
    "\n",
    "        };\n",
    "    }\n",
    "\n",
    "    /**\n",
    "     * Loop and print monkeys in array\n",
    "     * ... repeat until you reach zero  ...\n",
    "     */\n",
    "    public void printPoem() {\n",
    "        //begin the poem\n",
    "        System.out.println();\n",
    "        System.out.println(\"Monkey Jumpers Poem in Java Loopy\");\n",
    "\n",
    "        // monkeys (non-primitive) defined in constructor knows its length\n",
    "        int monkeyCount = monkeys.length;\n",
    "        for (int i = monkeyCount; i >= 1; i--)  //loops through 2D array length backwards\n",
    "        {\n",
    "     \n",
    "            //this print statement shows current count of Monkeys\n",
    "            //  concatenation (+) of the loop variable and string to form a countdown message\n",
    "            System.out.println(i + \" little monkeys jumping on the bed...\");\n",
    "\n",
    "            //Loop through column then row to print out the monkeys horizontally \n",
    "            for (int col = 0; col < 7; col++) {  //cycles through \"cells\" of 2d array\n",
    "\n",
    "                /*cycles through columns to print\n",
    "                each monkey part by part, will eventually print entire column*/\n",
    "                for (int row = 0; row < monkeyCount; row++) {\n",
    "\n",
    "                    // prints specific part of the monkey from the column\n",
    "                    System.out.print(\"       \" + monkeys[row][col] + \"           \");\n",
    "\n",
    "                    //this is new line between separate parts\n",
    "                    //System.out.println();\n",
    "                }\n",
    "\n",
    "                //this new line gives separation between stanza of poem\n",
    "                System.out.println();\n",
    "            }\n",
    "            //Finish the rhyme \n",
    "            System.out.println(\"One fell off and bumped his head\");\n",
    "            System.out.println(\"Mama called the doctor and the doctor said\");\n",
    "            System.out.println(\"No more monkeys jumping on the bed\\n\");\n",
    "\n",
    "\n",
    "            //countdown for poem, decrementing monkeyCount variable by 1\n",
    "            monkeyCount -= 1;\n",
    "        }\n",
    "\n",
    "        //out of all the loops, prints finishing messages\n",
    "        System.out.println(\"No more monkeys jumping on the bed\");\n",
    "        System.out.println(\"0000000000000000000000000000000000\");\n",
    "        System.out.println(\"             THE END              \");\n",
    "    }\n",
    "\n",
    "    /**\n",
    "    * A Java Driver/Test method that is the entry point for execution\n",
    "    */\n",
    "    public static void main(String[] args)  {\n",
    "        new MonkeyLoop().printPoem();   //a new monkey list and output in one step\n",
    "    }\n",
    "\n",
    "}\n",
    "MonkeyLoop.main(null);"
   ]
  },
  {
   "cell_type": "markdown",
   "metadata": {},
   "source": [
    "> Is this program in more of an Imperative Programming Style or OOP style? Explain.\n",
    "\n",
    "This program is more of an imperative programming style since here each monkey is not an object but rather elements in a 2D array with the 4 monkeys being the 4 rows and each part of the monkey (head, mouth, etc) being columns. Each monkey does not have methods/attributes. "
   ]
  },
  {
   "cell_type": "markdown",
   "metadata": {},
   "source": [
    "> Build an where the monkey is an object versus two-dimensional array."
   ]
  },
  {
   "cell_type": "code",
   "execution_count": 1,
   "metadata": {
    "vscode": {
     "languageId": "java"
    }
   },
   "outputs": [
    {
     "name": "stdout",
     "output_type": "stream",
     "text": [
      "The first monkey's name is Curious George\n",
      "The monkey is 4 years old!\n"
     ]
    }
   ],
   "source": [
    "public class monkey {\n",
    "\n",
    "    String[] body;\n",
    "    String name;\n",
    "    int age;\n",
    "}\n",
    "    \n",
    "        \n",
    "monkey curiousGeorge = new monkey();\n",
    "curiousGeorge.body = new String[]{\n",
    "            \"w  c(..)o   (\",\n",
    "            \"\\\\__(-)    __)\",\n",
    "            \"    /\\\\   (\",\n",
    "            \"    /(_)___)\",\n",
    "            \"    w /|\",\n",
    "            \"    | \\\\\",\n",
    "            \"    a  a  \"    \n",
    "        };\n",
    "        \n",
    "curiousGeorge.name = \"Curious George\";\n",
    "curiousGeorge.age = 4;\n",
    "System.out.println(\"The first monkey's name is \" + curiousGeorge.name);\n",
    "System.out.println(\"The monkey is \" + String.valueOf(curiousGeorge.age) + \" years old!\");\n",
    "\n",
    "    "
   ]
  },
  {
   "cell_type": "markdown",
   "metadata": {},
   "source": [
    "## 2D Arrays\n",
    "> Study loops and zero based counting\n",
    "    - Study two-dimensional (2D) array references\n",
    "    - Explain different way you can access a 2D array\n",
    "\n",
    "\n",
    "- To access an element from the 2D array, use the syntax `arrayName[row][column]`\n",
    "- For example, to print out the number `4` from the 2D array, you would use `System.out.println(numbers[1][1])`\n",
    "- Note: index starts from 0 so the first row (in this case odd numbers) would have an index of 0 and the second row (even numbers) would have an index of 1 and same for columns.\n"
   ]
  },
  {
   "cell_type": "markdown",
   "metadata": {},
   "source": [
    "- You can also loop through a 2D array to see every element"
   ]
  },
  {
   "cell_type": "code",
   "execution_count": 57,
   "metadata": {
    "vscode": {
     "languageId": "java"
    }
   },
   "outputs": [
    {
     "name": "stdout",
     "output_type": "stream",
     "text": [
      "1\n",
      "3\n",
      "5\n",
      "7\n",
      "9\n",
      "2\n",
      "4\n",
      "6\n",
      "8\n",
      "10\n",
      "\n",
      "Modified array\n",
      "100\n",
      "3\n",
      "5\n",
      "7\n",
      "9\n",
      "2\n",
      "4\n",
      "6\n",
      "8\n",
      "10\n"
     ]
    }
   ],
   "source": [
    "//2D array of odd and even integers\n",
    "\n",
    "\n",
    "//loop throw every row in the array \n",
    "for (int row = 0; row < numbers.length; row++) {\n",
    "    //loop through every column in each row\n",
    "    for(int column = 0; column < numbers[row].length; column++) {\n",
    "    // will print out every element in the array in order\n",
    "      System.out.println(numbers[row][column]);\n",
    "    }\n",
    "  }\n",
    "\n",
    "// can also change the values\n",
    "numbers[0][0] = 100; \n",
    "System.out.println(\"\\nModified array\");\n",
    "for (int row = 0; row < numbers.length; row++) {\n",
    "    //loop through every column in each row\n",
    "    for(int column = 0; column < numbers[row].length; column++) {\n",
    "    // will print out every element in the array in order\n",
    "      System.out.println(numbers[row][column]);\n",
    "    }\n",
    "  }"
   ]
  }
 ],
 "metadata": {
  "kernelspec": {
   "display_name": "Java",
   "language": "java",
   "name": "java"
  },
  "language_info": {
   "codemirror_mode": "java",
   "file_extension": ".jshell",
   "mimetype": "text/x-java-source",
   "name": "Java",
   "pygments_lexer": "java",
   "version": "11.0.16+8-post-Ubuntu-0ubuntu120.04"
  },
  "orig_nbformat": 4,
  "vscode": {
   "interpreter": {
    "hash": "916dbcbb3f70747c44a77c7bcd40155683ae19c65e1c03b4aa3499c5328201f1"
   }
  }
 },
 "nbformat": 4,
 "nbformat_minor": 2
}
