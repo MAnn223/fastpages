{
 "cells": [
  {
   "cell_type": "markdown",
   "metadata": {},
   "source": [
    "# Unit Lessons Team HW \n",
    "> HW from class lessons on Collegeboard Units \n",
    "\n",
    "- toc: true \n",
    "- badges: true\n",
    "- comments: true\n",
    "- categories: [jupyter]\n",
    "- image: images/acorn.png"
   ]
  },
  {
   "cell_type": "markdown",
   "metadata": {},
   "source": [
    "## Unit 1 HW\n",
    "- Grade Calculator"
   ]
  },
  {
   "cell_type": "code",
   "execution_count": 4,
   "metadata": {
    "vscode": {
     "languageId": "java"
    }
   },
   "outputs": [
    {
     "name": "stdout",
     "output_type": "stream",
     "text": [
      "Do you want separate categories? true\n",
      "Enter current grade? 91.0\n",
      "Enter desired grade? 95.0\n",
      "Enter percent of grade that is final? 20.0\n",
      "91.2\n"
     ]
    }
   ],
   "source": [
    "import java.util.Scanner;\n",
    " \n",
    "    Scanner input;\n",
    "    boolean separateCategory;\n",
    "    float currentGrade;\n",
    "    float desiredGrade; \n",
    "    float percentOfFinal; \n",
    "    \n",
    "    input = new Scanner(System.in);\n",
    "    System.out.print(\"Do you want separate categories? \");\n",
    "    separateCategory = input.nextBoolean();\n",
    "    System.out.println(separateCategory);\n",
    "\n",
    "    if(separateCategory == true) {\n",
    "        System.out.print(\"Enter current grade? \");\n",
    "        currentGrade = input.nextInt();\n",
    "        System.out.println(currentGrade);\n",
    "\n",
    "        System.out.print(\"Enter desired grade? \");\n",
    "        desiredGrade = input.nextInt();\n",
    "        System.out.println(desiredGrade);\n",
    "\n",
    "        System.out.print(\"Enter percent of grade that is final? \");\n",
    "        percentOfFinal = input.nextFloat();\n",
    "        System.out.println(percentOfFinal);\n",
    "\n",
    "        input.close();\n",
    "        \n",
    "        float gradeNeeded = (desiredGrade - currentGrade * (1-percentOfFinal))/percentOfFinal;\n",
    "        System.out.println(gradeNeeded);\n",
    "    }\n"
   ]
  },
  {
   "cell_type": "markdown",
   "metadata": {},
   "source": [
    "# Unit 2 HW\n",
    "- 2021 FRQ"
   ]
  },
  {
   "cell_type": "markdown",
   "metadata": {},
   "source": [
    "## Problem 1\n",
    "\n",
    "a) Write the WordMatch method scoreGuess. To determine the score to be returned, scoreGuess finds the number of times that guess occurs as a substring of secret and then multiplies that number by the square of the length of guess. Occurrences of guess may overlap\n",
    "within secret.\n",
    "Assume that the length of guess is less than or equal to the length of secret and that guess is not an empty string. "
   ]
  },
  {
   "cell_type": "code",
   "execution_count": null,
   "metadata": {
    "vscode": {
     "languageId": "java"
    }
   },
   "outputs": [],
   "source": [
    "public class WordMatch\n",
    "{\n",
    "/** The secret string. */\n",
    "private String secret;\n",
    "/** Constructs a WordMatch object with the given secret string of lowercase letters. */\n",
    "\n",
    "public WordMatch(String word)\n",
    "{\n",
    "/* implementation not shown */\n",
    "}\n",
    "/** Returns a score for guess, as described in part (a).\n",
    "* Precondition: 0 < guess.length() <= secret.length()\n",
    "*/\n",
    "public int scoreGuess(String guess)\n",
    "{\n",
    "    int result = 0;\n",
    "\n",
    "    for (int a = 0; a < secret.length(); a++)\n",
    "    {\n",
    "        if(secret.substring(a).indexOf(guess) == 0)\n",
    "        {\n",
    "            result++; \n",
    "        }\n",
    "    }\n",
    "\n",
    "    return result * guess.length() * guess.length();\n",
    "}\n",
    "}\n"
   ]
  },
  {
   "cell_type": "markdown",
   "metadata": {},
   "source": [
    "b) Write the WordMatch method findBetterGuess, which returns the better guess of its two String parameters, guess1 and guess2. If the scoreGuess method returns different values for guess1 and guess2, then the guess with the higher score is returned. If the scoreGuess method returns the same value for guess1 and guess2, then the alphabetically greater guess is returned.\n",
    "The following example shows a declaration of a WordMatch object and the outcomes of some possible calls to the scoreGuess and findBetterGuess methods.\n",
    "WordMatch game = new WordMatch(\"concatenation\"); "
   ]
  },
  {
   "cell_type": "code",
   "execution_count": null,
   "metadata": {
    "vscode": {
     "languageId": "java"
    }
   },
   "outputs": [],
   "source": [
    "// public int scoreGuess(String guess)\n",
    "// { /* to be implemented in part (a) */ }\n",
    "/** Returns the better of two guesses, as determined by scoreGuess and the rules for a\n",
    "* tie-breaker that are described in part (b).\n",
    "* Precondition: guess1 and guess2 contain all lowercase letters.\n",
    "* guess1 is not the same as guess2.\n",
    "*/\n",
    "public String findBetterGuess(String guess1, String guess2)\n",
    "{\n",
    "    if(scoreGuess(guess1)>scoreGuess(guess2))\n",
    "    {\n",
    "        return guess1; \n",
    "    } \n",
    "\n",
    "    if(scoreGuess(guess2) > scoreGuess(guess1))\n",
    "    {\n",
    "        return guess2; \n",
    "    }\n",
    "    \n",
    "    if(guess1.compareTo(guess2) > 0 )\n",
    "    {\n",
    "        return guess1;\n",
    "    }\n",
    "    \n",
    "    return guess2; \n",
    "}\n"
   ]
  },
  {
   "cell_type": "markdown",
   "metadata": {},
   "source": [
    "## Scoring Guidelines\n",
    "\n",
    "**Part A**\n",
    "- compare guess to substring of secret\n",
    "- Uses of substring secret with correct length for comparison with guess\n",
    "- Loops through all necessary substrings of secret \n",
    "- Counts number of identified occurences of guess within secret \n",
    "- Calculate and returns correct final score (algorithm)\n",
    "\n",
    "- Notes: We believe we would earn a 5/5, full credit, for this part because we completed all of the elements of the point guidlines. At first, we forgot the return statement, but we were able to problem solve and fix this. It was also hard to get the correct syntax down while we were working with new elements in Java \n",
    "\n",
    "**Part B**\n",
    "- Calls scoreGuess to get scores for guess1 and guess2\n",
    "- Compares the scores\n",
    "- Determines which guess1 and guess2 is alphabetically greater\n",
    "- Returns the identified guess1 or guess2 (algorithm)\n",
    "\n",
    "- Notes: After some problem solving we believe we earned full credit. We found this part to be a little easier since it was simple if statements that we had learned previously. "
   ]
  },
  {
   "cell_type": "markdown",
   "metadata": {},
   "source": [
    "# Unit 3 HW\n",
    "\n",
    "[Unit 3 HW (Quiz Completion and Conditional Exercises)](https://mann223.github.io/fastpages/jupyter/2022/11/07/unit3teamhw.html)\n"
   ]
  },
  {
   "cell_type": "markdown",
   "metadata": {},
   "source": [
    "# Unit 4 HW\n",
    "- Caesar Cipher Program \n",
    "Try to write a caesar cipher program that shifts each letter in a message 3 letters forward. Use any of the methods you learned today. Use it to decode the 3 messages we've given you!"
   ]
  },
  {
   "cell_type": "code",
   "execution_count": 1,
   "metadata": {
    "vscode": {
     "languageId": "java"
    }
   },
   "outputs": [
    {
     "name": "stdout",
     "output_type": "stream",
     "text": [
      "Decrypted Message1 : Nice job!\n",
      "Decrypted Message2 : code code code\n",
      "Decrypted Message3 : supercalifragilisticexpialidocious\n"
     ]
    }
   ],
   "source": [
    "public class CaesarCipher {\n",
    "\n",
    "    public static void main(String[] args) {\n",
    "\n",
    "        String[] letters = {\"a\", \"b\", \"c\", \"d\", \"e\", \"f\", \"g\", \"h\", \"i\", \"j\", \"k\", \"l\", \"m\", \"n\", \"o\", \"p\", \"q\", \"r\", \"s\", \"t\", \"u\", \"v\", \"w\", \"x\", \"y\", \"z\"};\n",
    "        String message1 = \"Kfzb gly!\";\n",
    "        String message2 = \"zlab zlab zlab\";\n",
    "        String message3 = \"prmbozxifcoxdfifpqfzbumfxifalzflrp\";\n",
    "\n",
    "        int shiftBy = 3 ; // showing how much to shift by\n",
    "\n",
    "        CaesarCipher caesarCipher = new CaesarCipher(); // instantiating CaesarCipher class\n",
    "\n",
    "        System.out.println(\"Decrypted Message1 : \" + caesarCipher.decryptMessage(message1, shiftBy));\n",
    "        System.out.println(\"Decrypted Message2 : \" + caesarCipher.decryptMessage(message2, shiftBy));\n",
    "        System.out.println(\"Decrypted Message3 : \" + caesarCipher.decryptMessage(message3, shiftBy));\n",
    "    }\n",
    "\n",
    "    // method for decrypting given message by the shift int value \n",
    "    String decryptMessage(String input, int shiftBy){ \n",
    "\n",
    "        int asciia =(int) 'a'; // assigning ascii values for a \n",
    "\n",
    "        String decryptMessage = \"\";\n",
    "        for(int i=0 ; i < input.length(); i++){\n",
    "                char c = input.charAt(i) ; \n",
    "                char newChar = c ;\n",
    "                // does decryption only for letters (not the exclamation mark, not spaces, etc.)\n",
    "                if( Character.isLetter(c) ){\n",
    "                    int intValue = (int) c ; // finds the ascii value for given letter\n",
    "                    int newValue = (intValue - asciia + shiftBy ) % 26 ; // assiging deciphered ascii value by subtracting the ascii value and adding the shift value\n",
    "                    newValue = newValue + asciia ;\n",
    "                    newChar = (char) newValue; // converting ascii value to new character\n",
    "                }\n",
    "                decryptMessage += newChar ;\n",
    "        }\n",
    "        return decryptMessage;\n",
    "    }\n",
    "\n",
    "}\n",
    "CaesarCipher.main(null);"
   ]
  },
  {
   "cell_type": "markdown",
   "metadata": {},
   "source": [
    "# Unit 5 HW\n",
    "- 2019 FRQ Q2"
   ]
  },
  {
   "cell_type": "markdown",
   "metadata": {},
   "source": [
    "his question involves the implementation of a fitness tracking system that is represented by the StepTracker class. A StepTracker object is created with a parameter that defines the minimum number of steps that must be taken for a day to be considered active.\n",
    "\n",
    "The StepTracker class provides a constructor and the following methods.\n",
    "\n",
    "- addDailySteps, which accumulates information about steps, in readings taken once per day\n",
    "- activeDays, which returns the number of active days\n",
    "averageSteps, which returns the average number of steps per day, calculated by dividing the total number of steps taken by the number of days tracked\n",
    "- Write the complete StepTracker class, including the constructor and any required instance variables and methods. Your implementation must meet all specifications and conform to the example."
   ]
  },
  {
   "cell_type": "code",
   "execution_count": 2,
   "metadata": {
    "vscode": {
     "languageId": "java"
    }
   },
   "outputs": [],
   "source": [
    "public class StepTracker {\n",
    "\n",
    "    // accessing and showing our private instance variables\n",
    "     private int totalSteps;\n",
    "     private int minimumSteps;\n",
    "     private int daysActive;\n",
    "     private int days;\n",
    "     \n",
    "     // constructor with the parameter \n",
    "     public StepTracker(int least){\n",
    "         minimumSteps = least;\n",
    "         totalSteps = 0; // values to initialize variables\n",
    "         daysActive = 0;\n",
    "         days = 0;\n",
    "     }\n",
    " \n",
    "     //added the dailySteps method as the \"AddDailySteps\"\n",
    "     public void AddDailySteps(int steps){\n",
    "         totalSteps += steps; //shows active days and the incremental counting\n",
    "         days++;\n",
    "         if (steps >= minSteps){\n",
    "             daysActive++; // updates the other instance variables\n",
    "         }\n",
    "     }\n",
    " \n",
    "     //the activeDays method\n",
    "     public int getdaysActive(){ // declared and implemented into program\n",
    "         return days;\n",
    "     }\n",
    " \n",
    "     public double avgSteps(){\n",
    "         if (days == 0){\n",
    "             return 0.0;\n",
    "         } \n",
    "         else{\n",
    " \n",
    "             //returns the calculated double of the average number of steps walked\n",
    "             return (double) totalSteps / days; \n",
    "         }\n",
    "     }\n",
    " \n",
    " }"
   ]
  },
  {
   "cell_type": "markdown",
   "metadata": {},
   "source": [
    "# Unit 6\n",
    "- Team Lesson about Arrays \n",
    "- [Traversing Arrays 6.2](https://mann223.github.io/fastpages/jupyter/2022/10/24/arrayLesson.html)\n",
    "- [Team Lesson](https://pranaviinukurti.github.io/fastpagescsa/jupyter/2022/10/25/arrays-lesson.html)"
   ]
  }
 ],
 "metadata": {
  "kernelspec": {
   "display_name": "Java",
   "language": "java",
   "name": "java"
  },
  "language_info": {
   "codemirror_mode": "java",
   "file_extension": ".jshell",
   "mimetype": "text/x-java-source",
   "name": "Java",
   "pygments_lexer": "java",
   "version": "11.0.16+8-post-Ubuntu-0ubuntu120.04"
  },
  "orig_nbformat": 4,
  "vscode": {
   "interpreter": {
    "hash": "31f2aee4e71d21fbe5cf8b01ff0e069b9275f58929596ceb00d14d90e3e16cd6"
   }
  }
 },
 "nbformat": 4,
 "nbformat_minor": 2
}
