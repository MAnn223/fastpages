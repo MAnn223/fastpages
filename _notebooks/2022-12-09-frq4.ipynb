{
 "cells": [
  {
   "attachments": {},
   "cell_type": "markdown",
   "metadata": {},
   "source": [
    "# 2019 FRQ 4  - Meena Annamalai\n",
    "> 2D Arrays\n",
    "\n",
    "- toc: true \n",
    "- badges: true\n",
    "- comments: true\n",
    "- categories: [jupyter]\n",
    "- image: images/acorn.png"
   ]
  },
  {
   "attachments": {},
   "cell_type": "markdown",
   "metadata": {},
   "source": [
    "The LightBoard class models a two-dimensional display of lights, where each light is either on or off, as represented by a Boolean value. You will implement a constructor to initialize the display and a method to evaluate a light"
   ]
  },
  {
   "cell_type": "code",
   "execution_count": null,
   "metadata": {},
   "outputs": [],
   "source": [
    "public class LightBoard\n",
    "{\n",
    "    /** The lights on the board, where true represents on and false represents off.\n",
    "     */\n",
    "    private boolean[][] lights;\n",
    "    /** Constructs a LightBoard object having numRows rows and numCols columns.\n",
    "     * Precondition: numRows > 0, numCols > 0\n",
    "     * Postcondition: each light has a 40% probability of being set to on.\n",
    "     */\n",
    "    public LightBoard(int numRows, int numCols)\n",
    "        { /* to be implemented in part (a) */ }\n",
    "    /** Evaluates a light in row index row and column index col and returns a status\n",
    "     * as described in part (b).\n",
    "     * Precondition: row and col are valid indexes in lights.\n",
    "     */\n",
    "    public boolean evaluateLight(int row, int col)\n",
    "        { /* to be implemented in part (b) */ }\n",
    "    // There may be additional instance variables, constructors, and methods not shown.\n",
    "} "
   ]
  },
  {
   "attachments": {},
   "cell_type": "markdown",
   "metadata": {},
   "source": [
    "## Part A"
   ]
  },
  {
   "attachments": {},
   "cell_type": "markdown",
   "metadata": {},
   "source": [
    "a) Write the constructor for the LightBoard class, which initializes lights so that each light is set to\n",
    "on with a 40% probability. The notation lights[r][c] represents the array element at row r and\n",
    "column c.\n",
    "Complete the LightBoard constructor below.\n",
    "- Constructs a LightBoard object having numRows rows and numCols columns.\n",
    "* Precondition: numRows > 0, numCols > 0\n",
    "* Postcondition: each light has a 40% probability of being set to on.\n",
    "\n",
    "`public LightBoard(int numRows, int numCols)`"
   ]
  },
  {
   "cell_type": "code",
   "execution_count": null,
   "metadata": {},
   "outputs": [],
   "source": [
    "public class LightBoard\n",
    "{\n",
    "    /** The lights on the board, where true represents on and false represents off.\n",
    "     */\n",
    "    private boolean[][] lights;\n",
    "    /** Constructs a LightBoard object having numRows rows and numCols columns.\n",
    "     * Precondition: numRows > 0, numCols > 0\n",
    "     * Postcondition: each light has a 40% probability of being set to on.\n",
    "     */\n",
    "    public LightBoard(int numRows, int numCols)\n",
    "        { \n",
    "            this.numRows = numRows;\n",
    "            this.numCols = numCols;\n",
    "            lights = new boolean[numRows][numCols];\n",
    "            for(int i = 0; i < lights.length;i++){\n",
    "                for(int j = 0; j <lights[i].length;j++){ \n",
    "                    double random = Math.random();\n",
    "                    lights[i][j] = random < 0.4;\n",
    "                    System.out.print(numbers[i][j]+\" \");\n",
    "                }\n",
    "        }\n",
    "\n",
    "    /** Evaluates a light in row index row and column index col and returns a status\n",
    "     * as described in part (b).\n",
    "     * Precondition: row and col are valid indexes in lights.\n",
    "     */\n",
    "    public boolean evaluateLight(int row, int col)\n",
    "        { /* to be implemented in part (b) */ }\n",
    "    // There may be additional instance variables, constructors, and methods not shown.\n",
    "} \n",
    "}"
   ]
  },
  {
   "attachments": {},
   "cell_type": "markdown",
   "metadata": {},
   "source": [
    "## Part B"
   ]
  },
  {
   "attachments": {},
   "cell_type": "markdown",
   "metadata": {},
   "source": [
    "Write the method evaluateLight, which computes and returns the status of a light at a given row and\n",
    "column based on the following rules.\n",
    "1. If the light is on, return false if the number of lights in its column that are on is even, including\n",
    "the current light.\n",
    "2. If the light is off, return true if the number of lights in its column that are on is divisible by three.\n",
    "3. Otherwise, return the light’s current status.\n",
    "For example, suppose that `LightBoard sim = new LightBoard(7, 5)` creates a light board\n",
    "with the initial state shown below, where true represents a light that is on and false represents a light that is off. Lights that are off are shaded. "
   ]
  },
  {
   "cell_type": "code",
   "execution_count": null,
   "metadata": {},
   "outputs": [],
   "source": [
    "public class LightBoard\n",
    "{\n",
    "    /** The lights on the board, where true represents on and false represents off.\n",
    "     */\n",
    "    private boolean[][] lights;\n",
    "    /** Constructs a LightBoard object having numRows rows and numCols columns.\n",
    "     * Precondition: numRows > 0, numCols > 0\n",
    "     * Postcondition: each light has a 40% probability of being set to on.\n",
    "     */\n",
    "    public LightBoard(int numRows, int numCols)\n",
    "        { \n",
    "            this.numRows = numRows;\n",
    "            this.numCols = numCols;\n",
    "            lights = new boolean[numRows][numCols];\n",
    "            for(int i = 0; i < lights.length;i++){\n",
    "                for(int j = 0; j <lights[i].length;j++){ \n",
    "                    double random = Math.random();\n",
    "                    lights[i][j] = random < 0.4;\n",
    "                    System.out.print(numbers[i][j]+\" \");\n",
    "                }\n",
    "        }\n",
    "    }\n",
    "\n",
    "    /** Evaluates a light in row index row and column index col and returns a status\n",
    "     * as described in part (b).\n",
    "     * Precondition: row and col are valid indexes in lights.\n",
    "     */\n",
    "    public boolean evaluateLight(int row, int col)\n",
    "        {\n",
    "            int numColOn = 0;\n",
    "            if (lights[row][col]){\n",
    "                for(int j = 0; j <lights[row].length;j++){ \n",
    "                    if (lights[row][j]) {\n",
    "                        numColOn += 1;\n",
    "                    }\n",
    "                    if (numColOn % 2 == 0) {\n",
    "                        return true;\n",
    "                    }\n",
    "            }\n",
    "\n",
    "            else-if (lights[row][col] == false) {\n",
    "                for(int j = 0; j <lights[row].length;j++){ \n",
    "                    if (lights[row][j]) {\n",
    "                        numColOn += 1;\n",
    "                    }\n",
    "                    if (numColOn % 3 == 0) {\n",
    "                        return true;\n",
    "                    } \n",
    "            }\n",
    "            else {\n",
    "                return light[row][column];\n",
    "            }\n",
    "            \n",
    "        }\n",
    "    // There may be additional instance variables, constructors, and methods not shown.\n",
    "} \n",
    "}\n",
    "}"
   ]
  }
 ],
 "metadata": {
  "kernelspec": {
   "display_name": "Java",
   "language": "java",
   "name": "java"
  },
  "language_info": {
   "name": "java"
  },
  "orig_nbformat": 4
 },
 "nbformat": 4,
 "nbformat_minor": 2
}
