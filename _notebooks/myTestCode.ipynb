{
 "cells": [
  {
   "attachments": {},
   "cell_type": "markdown",
   "metadata": {},
   "source": [
    "# Test - Meena Annamalai\n",
    "> Period 1 \n",
    "\n",
    "- toc: true \n",
    "- badges: true\n",
    "- comments: true\n",
    "- categories: [jupyter]\n",
    "- image: images/acorn.png"
   ]
  },
  {
   "cell_type": "code",
   "execution_count": 39,
   "metadata": {
    "vscode": {
     "languageId": "java"
    }
   },
   "outputs": [
    {
     "name": "stdout",
     "output_type": "stream",
     "text": [
      "this is the title: grapes of wrath\n",
      "490\n",
      "this is the title: harry potter\n",
      "639\n",
      "This is the total number of books 4\n",
      "1682099808088\n"
     ]
    }
   ],
   "source": [
    "public class Book {\n",
    "    private String title; \n",
    "    int uniqueID = (int)(Math.random() * 987);\n",
    "    String bookInfo;\n",
    "    public static int bookCount = 0;\n",
    "    String listOfBooks;\n",
    "    //public static long currentTimeMillis();\n",
    "    \n",
    "    \n",
    "    public Book (String title) {\n",
    "        this.title = title;\n",
    "        //this.uniqueID = uniqueID;\n",
    "        this.bookCount = bookCount;\n",
    "\n",
    "    }\n",
    "\n",
    "    public String toString() {\n",
    "        return \"The title of this book is \" + this.title;\n",
    "    }\n",
    "\n",
    "    public String getTitle() {\n",
    "        return \"this is the book title: \" + this.title;\n",
    "    }\n",
    "\n",
    "    public int getUniqueID() {\n",
    "        return this.uniqueID;\n",
    "    }\n",
    "\n",
    "    public long getTime() {\n",
    "        return System.currentTimeMillis();\n",
    "    }\n",
    "\n",
    "    public int bookCount() {\n",
    "        //listOfBooks.append(this.Book);\n",
    "        return bookCount;\n",
    "    }\n",
    "\n",
    "    public static void main (String[] args) {\n",
    "\n",
    "    \n",
    "        Book myBook = new Book(\"grapes of wrath\");\n",
    "        System.out.println(\"this is the title: \" + myBook.title);\n",
    "        myBook.getTitle();\n",
    "        System.out.println(myBook.getUniqueID());\n",
    "        \n",
    "    \n",
    "        Book myOtherBook = new Book(\"harry potter\");\n",
    "        System.out.println(\"this is the title: \" + myOtherBook.title);\n",
    "        myOtherBook.getTitle();\n",
    "        System.out.println(myOtherBook.getUniqueID());\n",
    "    \n",
    "        myOtherBook.toString();\n",
    "    \n",
    "        Book[] bookCounter = {myBook, myOtherBook};\n",
    "        for(int i=0; i < bookCounter.length; i++) {\n",
    "            bookCount++;\n",
    "        }\n",
    "        System.out.println(\"This is the total number of books \" + bookCount);\n",
    "        System.out.println(System.currentTimeMillis());\n",
    "\n",
    "        //tester\n",
    "    }\n",
    "}\n",
    "Book.main(null);"
   ]
  },
  {
   "cell_type": "code",
   "execution_count": 42,
   "metadata": {
    "vscode": {
     "languageId": "java"
    }
   },
   "outputs": [
    {
     "name": "stdout",
     "output_type": "stream",
     "text": [
      "hello library member\n",
      "this is the book title: saumya's life story novel\n",
      "Time book entered library 1682100066193\n",
      "this is the novel author: saumya\n",
      "hello library member\n",
      "this is the book title: AP CSA Textbook\n",
      "Time book entered library 1682100066196\n",
      "this is the textbook company: collegeboard\n"
     ]
    }
   ],
   "source": [
    "public class Novel extends Book {\n",
    "    public String author;\n",
    "    Novel(String title) {\n",
    "        super(title);\n",
    "        this.author = author;\n",
    "    }\n",
    "\n",
    "    public String Display() {\n",
    "        System.out.println(\"hello library member\");\n",
    "        System.out.println(super.getTitle());\n",
    "        System.out.println(\"Time book entered library \" + super.getTime());\n",
    "        return super.getTitle();\n",
    "    }\n",
    "\n",
    "    public String getAuthor() {\n",
    "        return \"this is the novel author: \" + this.author;\n",
    "    }\n",
    "\n",
    "    public void setAuthor(String newAuthor) {\n",
    "        this.author = newAuthor;\n",
    "    }\n",
    "    \n",
    "   \n",
    "}\n",
    "\n",
    "public class Textbook extends Book {\n",
    "    public String company;\n",
    "    Textbook(String title) {\n",
    "        super(title);\n",
    "        this.company = company;\n",
    "    }\n",
    "\n",
    "    public String Display() {\n",
    "        System.out.println(\"hello library member\");\n",
    "        System.out.println(super.getTitle());\n",
    "        System.out.println(\"Time book entered library \" + super.getTime());\n",
    "        return super.getTitle();\n",
    "    }\n",
    "\n",
    "    public String getCompany() {\n",
    "        return \"this is the textbook company: \" + this.company;\n",
    "    }\n",
    "    \n",
    "    public void setCompany(String newCompany) {\n",
    "        this.company = newCompany;\n",
    "    }\n",
    "   \n",
    "}\n",
    "public class Tester{\n",
    "    public static void main(String[] args)\n",
    "    {\n",
    "        Novel myNovel = new Novel(\"saumya's life story novel\");\n",
    "        myNovel.setAuthor(\"saumya\");\n",
    "        myNovel.Display();\n",
    "        System.out.println(myNovel.getAuthor());\n",
    "\n",
    "        Textbook myAPCSATextbook = new Textbook(\"AP CSA Textbook\");\n",
    "        myAPCSATextbook.setCompany(\"collegeboard\");\n",
    "        myAPCSATextbook.Display();\n",
    "        System.out.println(myAPCSATextbook.getCompany());\n",
    "    }\n",
    "}\n",
    "Tester.main(null);"
   ]
  }
 ],
 "metadata": {
  "kernelspec": {
   "display_name": "Java",
   "language": "java",
   "name": "java"
  },
  "language_info": {
   "codemirror_mode": "java",
   "file_extension": ".jshell",
   "mimetype": "text/x-java-source",
   "name": "Java",
   "pygments_lexer": "java",
   "version": "11.0.18+10-post-Ubuntu-0ubuntu122.04"
  },
  "orig_nbformat": 4,
  "vscode": {
   "interpreter": {
    "hash": "916dbcbb3f70747c44a77c7bcd40155683ae19c65e1c03b4aa3499c5328201f1"
   }
  }
 },
 "nbformat": 4,
 "nbformat_minor": 2
}
