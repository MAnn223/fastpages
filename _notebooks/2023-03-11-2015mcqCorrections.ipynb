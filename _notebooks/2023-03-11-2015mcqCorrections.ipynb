{
 "cells": [
  {
   "attachments": {},
   "cell_type": "markdown",
   "metadata": {},
   "source": [
    "# 2015 Practice Exam MCQ Corrections\n",
    "> Quiz Corrections \n",
    "\n",
    "- toc: true \n",
    "- badges: true\n",
    "- comments: true\n",
    "- categories: [jupyter]\n",
    "- image: images/acorn.png"
   ]
  },
  {
   "attachments": {},
   "cell_type": "markdown",
   "metadata": {},
   "source": [
    "Score: 37/39\n",
    "It was helpful to work on the quiz as a team. In the future, I need to work on timing as well as work on certain areas like 2D arrays."
   ]
  },
  {
   "attachments": {},
   "cell_type": "markdown",
   "metadata": {},
   "source": [
    "## Question 9\n",
    "A pair of number cubes is used in a game of chance. Each number cube has six sides, numbered from 1 to 6, inclusive, and there is an equal probability for each of the numbers to appear on the top side (indicating the cube's value) when the number cube is rolled. The following incomplete statement appears in a program that computes the sum of the values produced by rolling two number cubes.\n",
    "\n",
    "int sum = / * missing code * / ;\n",
    "\n",
    "Which of the following replacements for /* missing code */ would best simulate the value produced as a result of rolling two number cubes?\n",
    "\n",
    "A\n",
    "2 * (int) (Math.random() * 6)\n",
    "\n",
    "B\n",
    "2 * (int) (Math.random() * 7)\n",
    "\n",
    "C\n",
    "(int) (Math.random() * 6) + (int) (Math.random() * 6)\n",
    "\n",
    "D\n",
    "(int) (Math.random() * 13)\n",
    "\n",
    "E\n",
    "2 + (int) (Math.random() * 6) + (int) (Math.random() * 6)\n",
    "\n",
    "I put A but this would lead to an integer between 0 and 10 inclusive. Instead the correct answer would be E which would simulate the value produced by rolling two number cubes. \n",
    "\n",
    "Topic 2.9 - Using the Math Class"
   ]
  },
  {
   "attachments": {},
   "cell_type": "markdown",
   "metadata": {},
   "source": [
    "## Question 22\n",
    "Consider the following definition.\n",
    "\n",
    "![arrayQ22](../images/arrayQ22.PNG)\n",
    "\n",
    "Which of the following code segments produces the output 123456 ?\n",
    "\n",
    "I chose E but this would be incorrect since the loop would iterate over the array in columns so it would print 142536. The correct answer would be A which would iterate over every row and then each column in that row to print out 12356.\n",
    "\n",
    "Topic 8.2 - Traversing 2D Arrays"
   ]
  }
 ],
 "metadata": {
  "language_info": {
   "name": "python"
  },
  "orig_nbformat": 4
 },
 "nbformat": 4,
 "nbformat_minor": 2
}
