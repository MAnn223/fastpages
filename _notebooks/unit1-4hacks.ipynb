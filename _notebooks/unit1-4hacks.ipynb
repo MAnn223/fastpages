{
 "cells": [
  {
   "attachments": {},
   "cell_type": "markdown",
   "metadata": {},
   "source": [
    "# Unit 1-4 Hacks - Shraddha Kadaba, Meena Annamalai, Madhumita Narayan\n",
    "> done as a treo\n",
    "\n",
    "- toc: true \n",
    "- badges: true\n",
    "- comments: true\n",
    "- categories: [jupyter]\n",
    "- image: images/acorn.png"
   ]
  },
  {
   "attachments": {},
   "cell_type": "markdown",
   "metadata": {},
   "source": [
    "## Hack 1"
   ]
  },
  {
   "cell_type": "code",
   "execution_count": 1,
   "metadata": {
    "vscode": {
     "languageId": "java"
    }
   },
   "outputs": [
    {
     "name": "stdout",
     "output_type": "stream",
     "text": [
      "Number of cars on highway: 2\n",
      "Number of cars on highway: 4\n",
      "Number of cars on highway: 6\n",
      "Number of cars on highway: 8\n",
      "Number of cars on highway: 10\n",
      "40\n"
     ]
    }
   ],
   "source": [
    "public class Hack1 {\n",
    "    public static void main(String[] args) {\n",
    "        int cars = 0; // starting number of cars\n",
    "        int numCarsEntering = 2; // number of cars entering at a time\n",
    "        int numIterations = 5; // number of times to loop\n",
    "        for (int i = 0; i < numIterations; i++) {\n",
    "            cars += numCarsEntering; // use compound operator to add cars\n",
    "            System.out.println(\"Number of cars on highway: \" + cars);\n",
    "        }\n",
    "        System.out.println(cars * 4);\n",
    "    }\n",
    "}\n",
    "Hack1.main(null);"
   ]
  },
  {
   "attachments": {},
   "cell_type": "markdown",
   "metadata": {},
   "source": [
    "## Hack 2"
   ]
  },
  {
   "cell_type": "code",
   "execution_count": 7,
   "metadata": {
    "vscode": {
     "languageId": "java"
    }
   },
   "outputs": [
    {
     "name": "stdout",
     "output_type": "stream",
     "text": [
      "Make = Toyota, Model = Corolla, Year = 2022, Price = 24999.99 Used car? false\n",
      "Make = Honda, Model = Accord, Year = 2018, Price = 18999.99 Used car? true\n",
      "Make = Ford, Model = Mustang, Year = 2020, Price = 34999.99 Used car? true\n"
     ]
    }
   ],
   "source": [
    "public class Car {\n",
    "    private String name;\n",
    "    private int year;\n",
    "    private double price;\n",
    "    private boolean isUsed;\n",
    "    private String make;\n",
    "    private String model;\n",
    "    private int budget = 20000;\n",
    "    public Car(String make, int year, String model, double price, boolean isUsed) {\n",
    "        //this.name = name;\n",
    "        this.year = year;\n",
    "        this.price = price;\n",
    "        this.isUsed = isUsed;\n",
    "        this.model = model;\n",
    "        this.make = make;\n",
    "    }\n",
    "    public String getName() {\n",
    "        return name;\n",
    "    }\n",
    "    public double getPrice() {\n",
    "        return price;\n",
    "    }\n",
    "    public int getYear() {\n",
    "        return year;\n",
    "    }\n",
    "    public boolean getIsUsed() {\n",
    "        return isUsed;\n",
    "    }\n",
    "    public String getMake() {\n",
    "        return make;\n",
    "    }\n",
    "    public String getModel() {\n",
    "        return model;\n",
    "    }\n",
    "\n",
    "    public boolean isAffordable(){\n",
    "        if (price <= budget) {\n",
    "            return true;\n",
    "        } else {\n",
    "            return false;\n",
    "        }\n",
    "    }\n",
    "    public void printCarDetails() {\n",
    "        System.out.println(\"Make = \" + this.getMake() + \", Model = \" + this.getModel() + \", Year = \" + this.getYear() + \", \" + \"Price = \" + this.getPrice() + \" Used car? \" + this.getIsUsed());\n",
    "    }\n",
    "    public static void main(String[] args) {\n",
    "        Car[] listOfCars = new Car[3];\n",
    "\n",
    "        Car Toyota = new Car(\"Toyota\", 2022, \"Corolla\", 24999.99, false);\n",
    "        Car Honda = new Car(\"Honda\", 2018, \"Accord\", 18999.99, true);\n",
    "        Car Ford = new Car(\"Ford\", 2020, \"Mustang\", 34999.99, true);\n",
    "\n",
    "        listOfCars[0] = Toyota;\n",
    "        listOfCars[1] = Honda;\n",
    "        listOfCars[2] = Ford;\n",
    "    for (int i = 0; i < listOfCars.length; i++)\n",
    "    {\n",
    "        listOfCars[i].printCarDetails();\n",
    "    }\n",
    "\n",
    "        //System.out.println(\"The cheaper car is: \" + cheaperCarName);\n",
    "    }\n",
    "}\n",
    "Car.main(null);"
   ]
  },
  {
   "attachments": {},
   "cell_type": "markdown",
   "metadata": {},
   "source": [
    "## Hack 3"
   ]
  },
  {
   "cell_type": "code",
   "execution_count": 18,
   "metadata": {
    "vscode": {
     "languageId": "java"
    }
   },
   "outputs": [
    {
     "name": "stdout",
     "output_type": "stream",
     "text": [
      "Make = Toyota, Model = Camry, Year = 2019, Price = 25000.0 Used car? false\n",
      "This car is within the budget of 20000: false\n",
      "This car is an affordable car\n"
     ]
    }
   ],
   "source": [
    "public static void main(String[] args) {\n",
    "    Car[] listOfCars = new Car[1];\n",
    "\n",
    "    Car Toyota2 = new Car(\"Toyota\", 2019, \"Camry\", 25000.0, false);\n",
    "    \n",
    "\n",
    "    listOfCars[0] = Toyota2;\n",
    "\n",
    "for (int i = 0; i < listOfCars.length; i++)\n",
    "{\n",
    "    listOfCars[i].printCarDetails();\n",
    "}\n",
    "\n",
    "//isAfordable method defined in Hack 2 Code\n",
    "System.out.println(\"This car is within the budget of 20000: \" + Toyota2.isAffordable());\n",
    "\n",
    "if (Toyota2.getPrice() > 50000) {\n",
    "    System.out.println(\"This car is a luxury car\");\n",
    "}\n",
    "else if (Toyota2.getPrice() > 30000) {\n",
    "    System.out.println(\"This car is a mid-range car\");\n",
    "}\n",
    "else {\n",
    "    System.out.println(\"This car is an affordable car\");\n",
    "}\n",
    "}\n",
    "main(null);"
   ]
  },
  {
   "attachments": {},
   "cell_type": "markdown",
   "metadata": {},
   "source": [
    "## Hack 4"
   ]
  },
  {
   "cell_type": "code",
   "execution_count": null,
   "metadata": {
    "vscode": {
     "languageId": "java"
    }
   },
   "outputs": [],
   "source": [
    "import java.util.Scanner;\n",
    "\n",
    "public static void main(String[] args) {\n",
    "    Scanner myObj = new Scanner(System.in);  // Create a Scanner object\n",
    "    System.out.println(\"Enter number of cars you own: \");\n",
    "    int numCars = myObj.nextLine(); \n",
    "    //System.out.println(numCars); \n",
    "\n",
    "    for (int i = 0; i < numCars; i++){\n",
    "        System.out.println(\"Enter car model for car\" + );\n",
    "        String carModel = myObj.nextLine(); \n",
    "        //System.out.println(numCars); \n",
    "\n",
    "    }\n",
    "    \n",
    "\n",
    "try {\n",
    "    Car car = new Car(\"Toyota\", 2020); // Creating a car object\n",
    "    car.displayCarInfo(); // Displaying car information\n",
    "    int speed = 100 / 0; // Trying to divide by zero to simulate an error\n",
    "} catch (ArithmeticException e) {\n",
    "    System.out.println(\"Error: Division by zero!\"); // Catching and handling the exception\n",
    "}\n",
    "}\n",
    "main(null);"
   ]
  }
 ],
 "metadata": {
  "kernelspec": {
   "display_name": "Java",
   "language": "java",
   "name": "java"
  },
  "language_info": {
   "codemirror_mode": "java",
   "file_extension": ".jshell",
   "mimetype": "text/x-java-source",
   "name": "Java",
   "pygments_lexer": "java",
   "version": "11.0.16+8-post-Ubuntu-0ubuntu120.04"
  },
  "orig_nbformat": 4,
  "vscode": {
   "interpreter": {
    "hash": "31f2aee4e71d21fbe5cf8b01ff0e069b9275f58929596ceb00d14d90e3e16cd6"
   }
  }
 },
 "nbformat": 4,
 "nbformat_minor": 2
}
