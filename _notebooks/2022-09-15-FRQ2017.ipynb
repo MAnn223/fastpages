{
 "cells": [
  {
   "cell_type": "markdown",
   "metadata": {},
   "source": [
    "# FRQ 2017 1\n",
    "> Week 4\n",
    "\n",
    "- toc: true \n",
    "- badges: true\n",
    "- comments: true\n",
    "- categories: [jupyter]\n",
    "- image: images/gpaCalcPreview.PNG"
   ]
  },
  {
   "cell_type": "markdown",
   "metadata": {},
   "source": [
    "This question involves identifying and processing the digits of a non-negative integer. The declaration of the Digits class is shown below. You will write the constructor and one method for the Digits class. "
   ]
  },
  {
   "cell_type": "markdown",
   "metadata": {},
   "source": [
    "Write the constructor for the\t Digits class. The constructor initializes and fills digitList with the digits from the non-negative integer num. The elements in digitList must be Integer objects representing single digits, and appear in the same order as the digits in num. Each of the following examples shows the declaration of a Digits object and the contents of digitList as initialized by\n",
    "the constructor. \n",
    "\n",
    "`Digits d1 = new Digits(15704);`\n",
    "`digitList: 1, 5, 7, 0, 4`"
   ]
  },
  {
   "cell_type": "code",
   "execution_count": 42,
   "metadata": {
    "vscode": {
     "languageId": "java"
    }
   },
   "outputs": [],
   "source": [
    "public class Digits \n",
    "\n",
    "{ \n",
    "\n",
    "/** The list of digits from the number used to construct this object. \n",
    "\n",
    "* The digits appear in the list in the same order in which they appear in the original number.\n",
    " */ \n",
    "\n",
    "    private ArrayList<Integer> digitList; \n",
    "\n",
    "    /** Constructs a Digits object that represents num.\n",
    "     * Precondition: num >= 0\n",
    "    */ \n",
    "\n",
    "    public Digits(int num) { \n",
    "        digitList = new ArrayList<Integer> ();\n",
    "        String number = String.valueOf(num);\n",
    "        for (int i = 0; i < number.length(); i++) {\n",
    "            digitList.add(Integer.parseInt(String.valueOf(number.charAt(i))));\n",
    "        }\n",
    "        System.out.println(digitList);\n",
    "     }\n",
    "\n",
    "    /** Returns true if the digits in this Digits object are in strictly increasing order;\n",
    "     * false otherwise.\n",
    "     */ \n",
    "\n",
    "    public boolean isStrictlyIncreasing() \n",
    "    {\n",
    "         for (int i = 0; i < digitList.size(); i++) {\n",
    "            if (digitList.get(i) >= digitList.get(i+1)) {\n",
    "                return false;\n",
    "            }\n",
    "         }\n",
    "         return true;\n",
    "    } \n",
    "\n",
    "} "
   ]
  },
  {
   "cell_type": "markdown",
   "metadata": {},
   "source": [
    "## Testing the code"
   ]
  },
  {
   "cell_type": "code",
   "execution_count": 41,
   "metadata": {
    "vscode": {
     "languageId": "java"
    }
   },
   "outputs": [
    {
     "name": "stdout",
     "output_type": "stream",
     "text": [
      "[1, 2, 3, 4, 5]\n",
      "true\n"
     ]
    }
   ],
   "source": [
    "private ArrayList<Integer> digitList; \n",
    "digitList = new ArrayList<Integer> ();\n",
    "\n",
    "//expect to get an out put of a list of 12345 and true since the numbers are increasing\n",
    "String number = String.valueOf(12345);\n",
    "\n",
    "for (int i = 0; i < number.length(); i++) {\n",
    "    digitList.add(Integer.parseInt(String.valueOf(number.charAt(i))));\n",
    "}\n",
    "System.out.println(digitList);\n",
    "\n",
    "for (int i = 0; i < digitList.size() - 1; i++) {\n",
    "    if (digitList.get(i) >= digitList.get(i+1)) {\n",
    "        System.out.println(\"false\"); \n",
    "        //note: would be a return statement so would exit out of the loop\n",
    "    }\n",
    " }\n",
    " System.out.println(\"true\");\n",
    " \n",
    " "
   ]
  }
 ],
 "metadata": {
  "kernelspec": {
   "display_name": "Java",
   "language": "java",
   "name": "java"
  },
  "language_info": {
   "codemirror_mode": "java",
   "file_extension": ".jshell",
   "mimetype": "text/x-java-source",
   "name": "Java",
   "pygments_lexer": "java",
   "version": "11.0.16+8-post-Ubuntu-0ubuntu120.04"
  },
  "orig_nbformat": 4,
  "vscode": {
   "interpreter": {
    "hash": "916dbcbb3f70747c44a77c7bcd40155683ae19c65e1c03b4aa3499c5328201f1"
   }
  }
 },
 "nbformat": 4,
 "nbformat_minor": 2
}
