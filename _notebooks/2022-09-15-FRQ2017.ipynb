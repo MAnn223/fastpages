{
 "cells": [
  {
   "cell_type": "markdown",
   "metadata": {},
   "source": [
    "# FRQ 2017 1A\n",
    "> Week 4\n",
    "\n",
    "- toc: true \n",
    "- badges: true\n",
    "- comments: true\n",
    "- categories: [jupyter]\n",
    "- image: images/gpaCalcPreview.PNG"
   ]
  },
  {
   "cell_type": "code",
   "execution_count": null,
   "metadata": {},
   "outputs": [],
   "source": [
    "public class Digits \n",
    "\n",
    "{ \n",
    "\n",
    "/** The list of digits from the number used to construct this object. \n",
    "\n",
    "* The digits appear in the list in the same order in which they appear in the original number.\n",
    " */ \n",
    "\n",
    "    private ArrayList<Integer> digitList; \n",
    "\n",
    "    /** Constructs a Digits object that represents num.\n",
    "     * Precondition: num >= 0\n",
    "    */ \n",
    "\n",
    "    public Digits(int num) { \n",
    "        \n",
    "    }\n",
    "\n",
    "    /** Returns true if the digits in this Digits object are in strictly increasing order;\n",
    "     * false otherwise.\n",
    "     */ \n",
    "\n",
    "    public boolean isStrictlyIncreasing() \n",
    "\n",
    "    { /* to be implemented in part (b) */ } \n",
    "\n",
    "} "
   ]
  }
 ],
 "metadata": {
  "kernelspec": {
   "display_name": "Java",
   "language": "java",
   "name": "java"
  },
  "language_info": {
   "name": "java",
   "version": "3.8.10"
  },
  "orig_nbformat": 4,
  "vscode": {
   "interpreter": {
    "hash": "916dbcbb3f70747c44a77c7bcd40155683ae19c65e1c03b4aa3499c5328201f1"
   }
  }
 },
 "nbformat": 4,
 "nbformat_minor": 2
}
