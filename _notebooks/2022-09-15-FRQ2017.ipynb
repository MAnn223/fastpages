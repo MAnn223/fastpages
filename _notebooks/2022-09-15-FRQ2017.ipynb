{
 "cells": [
  {
   "cell_type": "markdown",
   "metadata": {},
   "source": [
    "# FRQ 2017 1\n",
    "> Week 4\n",
    "\n",
    "- toc: true \n",
    "- badges: true\n",
    "- comments: true\n",
    "- categories: [jupyter]\n",
    "- image: images/gpaCalcPreview.PNG"
   ]
  },
  {
   "cell_type": "markdown",
   "metadata": {},
   "source": [
    "## FRQ 1 Question"
   ]
  },
  {
   "cell_type": "markdown",
   "metadata": {},
   "source": [
    "[2017 APCSA FRQ](https://apcentral.collegeboard.org/media/pdf/ap-computer-science-a-frq-2017.pdf)\n",
    "\n",
    "This question involves identifying and processing the digits of a non-negative integer. The declaration of the Digits class is shown below. You will write the constructor and one method for the Digits class. "
   ]
  },
  {
   "cell_type": "markdown",
   "metadata": {},
   "source": [
    "a) Write the constructor for the Digits class. The constructor initializes and fills digitList with the digits from the non-negative integer num. The elements in digitList must be Integer objects representing single digits, and appear in the same order as the digits in num. Each of the following examples shows the declaration of a Digits object and the contents of digitList as initialized by\n",
    "the constructor. \n",
    "\n",
    "- `Digits d1 = new Digits(15704);`\n",
    "- `digitList: 1, 5, 7, 0, 4`\n",
    "\n",
    "b) ) Write the `Digits` method `isStrictlyIncreasing`. The method returns `true` if the elements of\n",
    "`digitList` appear in strictly increasing order; otherwise, it returns `false`. A list is considered strictly increasing if each element after the first is greater than (but not equal to) the preceding element. The following table shows the results of several calls to `isStrictlyIncreasing`"
   ]
  },
  {
   "cell_type": "markdown",
   "metadata": {},
   "source": [
    "## FRQ 1 My Solution\n",
    "\n",
    "(Outline for the Digits class given, added code - constructor for Digits and isStrictlyIncreasing method)"
   ]
  },
  {
   "cell_type": "code",
   "execution_count": 1,
   "metadata": {},
   "outputs": [],
   "source": [
    "public class Digits \n",
    "\n",
    "{ \n",
    "\n",
    "/** The list of digits from the number used to construct this object. \n",
    "\n",
    "* The digits appear in the list in the same order in which they appear in the original number.\n",
    " */ \n",
    "\n",
    "    private ArrayList<Integer> digitList; \n",
    "\n",
    "    /** Constructs a Digits object that represents num.\n",
    "     * Precondition: num >= 0\n",
    "    */ \n",
    "\n",
    "    public Digits(int num) { \n",
    "        // create the array list of integers \n",
    "        digitList = new ArrayList<Integer> ();\n",
    "        // take what is passed into the constructor and convert it to a string\n",
    "        String number = String.valueOf(num);\n",
    "        // Loop through the string and add each character converted integer into the integer array list\n",
    "        for (int i = 0; i < number.length(); i++) {\n",
    "            digitList.add(Integer.parseInt(String.valueOf(number.charAt(i))));\n",
    "        }\n",
    "        // print out the array list\n",
    "        System.out.println(digitList);\n",
    "     }\n",
    "\n",
    "    /** Returns true if the digits in this Digits object are in strictly increasing order;\n",
    "     * false otherwise.\n",
    "     */ \n",
    "\n",
    "    public boolean isStrictlyIncreasing() \n",
    "    {   // loop through the entire array list of integers\n",
    "         for (int i = 0; i < digitList.size(); i++) {\n",
    "            // if the term is not less than (so greater than or equal to) the next term, return false\n",
    "            if (digitList.get(i) >= digitList.get(i+1)) {\n",
    "                return false;\n",
    "            }\n",
    "         }\n",
    "         // if every number is greater than the next and so the prev if statement is false, return true\n",
    "         return true;\n",
    "    } \n",
    "\n",
    "} "
   ]
  },
  {
   "cell_type": "markdown",
   "metadata": {},
   "source": [
    "## Testing the code"
   ]
  },
  {
   "cell_type": "code",
   "execution_count": 41,
   "metadata": {},
   "outputs": [
    {
     "name": "stdout",
     "output_type": "stream",
     "text": [
      "[1, 2, 3, 4, 5]\n",
      "true\n"
     ]
    }
   ],
   "source": [
    "private ArrayList<Integer> digitList; \n",
    "digitList = new ArrayList<Integer> ();\n",
    "\n",
    "//expect to get an out put of a list of 12345 and true since the numbers are increasing\n",
    "String number = String.valueOf(12345);\n",
    "\n",
    "for (int i = 0; i < number.length(); i++) {\n",
    "    digitList.add(Integer.parseInt(String.valueOf(number.charAt(i))));\n",
    "}\n",
    "System.out.println(digitList); \n",
    "\n",
    "for (int i = 0; i < digitList.size() - 1; i++) {\n",
    "    if (digitList.get(i) >= digitList.get(i+1)) {\n",
    "        System.out.println(\"false\"); \n",
    "        //note: would be a return statement so would exit out of the loop\n",
    "    }\n",
    " }\n",
    " System.out.println(\"true\");\n",
    " \n",
    " "
   ]
  },
  {
   "cell_type": "markdown",
   "metadata": {},
   "source": [
    "## Scoring Notes\n",
    "\n",
    "- For part A, solution guide didn't use casting to solve the question. Instead, takes the number passed and performs modulus by 10. So for example if 12345 was passed in, 12345 % 10 is 5, the last integer in the number. Then `num` was divided by 10 for the next iteration of the loop and was still an integer not a double so 12345 became 1234 for the next iteration. Code below. (5/5 ?)\n",
    "\n",
    "- Part b was correct (4/4)"
   ]
  },
  {
   "cell_type": "code",
   "execution_count": null,
   "metadata": {},
   "outputs": [],
   "source": [
    "public Digits(int num)\n",
    "{\n",
    "    digitList = new ArrayList<Integer>();\n",
    "    if (num == 0)\n",
    "        {\n",
    "            digitList.add(new Integer(0));\n",
    "        }\n",
    "    while (num > 0)\n",
    "        {\n",
    "            digitList.add(0, new Integer(num % 10));\n",
    "            num /= 10;\n",
    "        }\n",
    "}"
   ]
  }
 ],
 "metadata": {
  "kernelspec": {
   "display_name": "Java",
   "language": "java",
   "name": "java"
  },
  "language_info": {
   "codemirror_mode": "java",
   "file_extension": ".jshell",
   "mimetype": "text/x-java-source",
   "name": "java",
   "pygments_lexer": "java",
   "version": "11.0.16+8-post-Ubuntu-0ubuntu120.04"
  },
  "orig_nbformat": 4,
  "vscode": {
   "interpreter": {
    "hash": "916dbcbb3f70747c44a77c7bcd40155683ae19c65e1c03b4aa3499c5328201f1"
   }
  }
 },
 "nbformat": 4,
 "nbformat_minor": 2
}
