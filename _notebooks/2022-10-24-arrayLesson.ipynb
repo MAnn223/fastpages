{
 "cells": [
  {
   "cell_type": "markdown",
   "metadata": {},
   "source": [
    "# Traversing Arrays\n",
    "> 6.2 Arrays\n",
    "\n",
    "- toc: true \n",
    "- badges: true\n",
    "- comments: true\n",
    "- categories: [jupyter]\n",
    "- image: images/bashPreview.jpg"
   ]
  },
  {
   "cell_type": "markdown",
   "metadata": {},
   "source": [
    "- **Traversing** is accessing every value in the array\n",
    "- Can be done using a loop like a `for` loop or `while` loop\n",
    "- Below is an example - using a for loop, we can iterate through each fruit in the array of Strings and print it out"
   ]
  },
  {
   "cell_type": "code",
   "execution_count": 4,
   "metadata": {},
   "outputs": [
    {
     "name": "stdout",
     "output_type": "stream",
     "text": [
      "Fruit number 0 is Apple\n",
      "Fruit number 1 is Strawberry\n",
      "Fruit number 2 is Watermelon\n",
      "Fruit number 3 is Blueberry\n"
     ]
    }
   ],
   "source": [
    "// Here is the array we will be working with\n",
    "String[] myFruits = new String[] {\"Apple\", \"Strawberry\", \"Watermelon\", \"Blueberry\"};\n",
    "\n",
    "for (int i = 0; i < myFruits.length; i++) {\n",
    "    System.out.println(\"Fruit number \" + i + \" is \" + myFruits[i]);\n",
    "}"
   ]
  },
  {
   "cell_type": "markdown",
   "metadata": {},
   "source": [
    "- Can also loop through an array in reverse"
   ]
  },
  {
   "cell_type": "code",
   "execution_count": 6,
   "metadata": {},
   "outputs": [
    {
     "name": "stdout",
     "output_type": "stream",
     "text": [
      "Fruit number 3 is Blueberry\n",
      "Fruit number 2 is Watermelon\n",
      "Fruit number 1 is Strawberry\n",
      "Fruit number 0 is Apple\n"
     ]
    }
   ],
   "source": [
    "for (int i = myFruits.length - 1; i >= 0 ; i--) {\n",
    "    System.out.println(\"Fruit number \" + i + \" is \" + myFruits[i]);\n",
    "}"
   ]
  },
  {
   "cell_type": "markdown",
   "metadata": {},
   "source": [
    "- If we have a list of numbers, we could change each value in the array by a certain amount "
   ]
  },
  {
   "cell_type": "code",
   "execution_count": 7,
   "metadata": {},
   "outputs": [
    {
     "name": "stdout",
     "output_type": "stream",
     "text": [
      "New element 0 is 11\n",
      "New element 1 is 13\n",
      "New element 2 is 15\n",
      "New element 3 is 17\n",
      "New element 4 is 19\n"
     ]
    }
   ],
   "source": [
    "// Here is the array we will be working with\n",
    "int[] myNumbers = new int[] {1, 3, 5, 7, 9};\n",
    "\n",
    "for (int i = 0; i < myNumbers.length; i++) {\n",
    "    // add 10 to each element in the array\n",
    "    myNumbers[i] += 10;\n",
    "    System.out.println(\"New element \" + i + \" is \" + myNumbers[i]);\n",
    "}"
   ]
  },
  {
   "cell_type": "markdown",
   "metadata": {},
   "source": [
    "- We can also traverse an array using a while loop"
   ]
  },
  {
   "cell_type": "code",
   "execution_count": 3,
   "metadata": {},
   "outputs": [
    {
     "name": "stdout",
     "output_type": "stream",
     "text": [
      "Fruit number 0 is Apple\n",
      "Fruit number 1 is Strawberry\n",
      "Fruit number 2 is Watermelon\n",
      "Fruit number 3 is Blueberry\n"
     ]
    }
   ],
   "source": [
    "// Here is the array we will be working with\n",
    "String[] myFruits = new String[] {\"Apple\", \"Strawberry\", \"Watermelon\", \"Blueberry\"};\n",
    "\n",
    "int i = 0; \n",
    "while (i < myFruits.length) {\n",
    "    System.out.println(\"Fruit number \" + i + \" is \" + myFruits[i]);\n",
    "    i++;\n",
    "}"
   ]
  },
  {
   "cell_type": "markdown",
   "metadata": {},
   "source": [
    "## Bound Errors\n",
    "- `ArrayIndexOutOfBoundsException` thrown, can happen when using loops to access array elements\n",
    "- In the example below instead of the condition being while the index is less than the length of the array, the condition is less than or equal too\n",
    "- This mean the loop will try to run when i = 4 (since the length of the list is 4). However since array index starts from 0, the last item in the array will have an index of 3. So, index of 4 will be out of bounds, resulting in the error."
   ]
  },
  {
   "cell_type": "code",
   "execution_count": 4,
   "metadata": {},
   "outputs": [
    {
     "name": "stdout",
     "output_type": "stream",
     "text": [
      "Fruit number 0 is Apple\n",
      "Fruit number 1 is Strawberry\n",
      "Fruit number 2 is Watermelon\n",
      "Fruit number 3 is Blueberry\n"
     ]
    },
    {
     "ename": "EvalException",
     "evalue": "Index 4 out of bounds for length 4",
     "output_type": "error",
     "traceback": [
      "\u001b[1m\u001b[31m---------------------------------------------------------------------------\u001b[0m",
      "\u001b[1m\u001b[31mjava.lang.ArrayIndexOutOfBoundsException: Index 4 out of bounds for length 4\u001b[0m",
      "\u001b[1m\u001b[31m\tat .(#17:3)\u001b[0m"
     ]
    }
   ],
   "source": [
    "int i = 0; \n",
    "\n",
    "while (i <= myFruits.length) {\n",
    "    System.out.println(\"Fruit number \" + i + \" is \" + myFruits[i]);\n",
    "    i++;\n",
    "}"
   ]
  },
  {
   "cell_type": "markdown",
   "metadata": {},
   "source": [
    "## Traversing Arrays Hacks"
   ]
  },
  {
   "cell_type": "markdown",
   "metadata": {},
   "source": [
    "### Hack 1\n",
    "- Create a function that takes in a list of integers and returns the list with the integers in ascending order. Print every element in this list \n",
    "- Example\n",
    "    - `int[] myNumbers = new int[] {5, 3, 4, 1, 2};`\n",
    "    - `arraySorter(myNumbers);`\n",
    "    - Expected Output\n",
    "        - 1\n",
    "        - 2\n",
    "        - 3\n",
    "        - 4\n",
    "        - 5"
   ]
  },
  {
   "cell_type": "markdown",
   "metadata": {},
   "source": [
    "### Hack 2"
   ]
  },
  {
   "cell_type": "markdown",
   "metadata": {},
   "source": [
    "- Given the following code segment, which of the following will cause an infinite loop? Assume that temp is an int variable initialized to be greater than zero and that a is an array of integers."
   ]
  },
  {
   "cell_type": "code",
   "execution_count": null,
   "metadata": {},
   "outputs": [],
   "source": [
    "for ( int k = 0; k < a.length; k++ )\n",
    "{\n",
    "   while ( a[ k ] < temp )\n",
    "   {\n",
    "      a[ k ] *= 2;\n",
    "   }\n",
    "}"
   ]
  },
  {
   "cell_type": "markdown",
   "metadata": {},
   "source": [
    "- A. The values don't matter this will always cause an infinite loop.\n",
    "- B. Whenever a includes a value that is less than or equal to zero.\n",
    "- C. Whenever a has values larger then temp.\n",
    "- D. When all values in a are larger than temp.\n",
    "- E. Whenever a includes a value equal to temp."
   ]
  }
 ],
 "metadata": {
  "kernelspec": {
   "display_name": "Java",
   "language": "java",
   "name": "java"
  },
  "language_info": {
   "codemirror_mode": "java",
   "file_extension": ".jshell",
   "mimetype": "text/x-java-source",
   "name": "java",
   "pygments_lexer": "java",
   "version": "11.0.16+8-post-Ubuntu-0ubuntu120.04"
  },
  "orig_nbformat": 4
 },
 "nbformat": 4,
 "nbformat_minor": 2
}
