{
 "cells": [
  {
   "cell_type": "markdown",
   "metadata": {},
   "source": [
    "# Bash Checks\n",
    "> Week 1 Installation Checks\n",
    "\n",
    "- toc: true \n",
    "- badges: true\n",
    "- comments: true\n",
    "- categories: [jupyter]\n",
    "- image: images/bashPreview.jpg"
   ]
  },
  {
   "cell_type": "markdown",
   "metadata": {},
   "source": [
    "# Looking inside Fastpages/Github page project checks - from Bash Tutorial Tech Talk"
   ]
  },
  {
   "cell_type": "code",
   "execution_count": 5,
   "metadata": {},
   "outputs": [
    {
     "name": "stdout",
     "output_type": "stream",
     "text": [
      "Navigate to project, then navigate to area wwhere files were cloned\n",
      "/home/user1\n",
      "\n",
      "list top level or root of files with project pulled from github\n",
      "\u001b[0m\u001b[01;32mAnaconda3-2022.05-Linux-x86_64.sh\u001b[0m    \u001b[01;34manaconda3\u001b[0m        \u001b[01;34mjava\u001b[0m\n",
      "Anaconda3-2022.05-Linux-x86_64.sh.1  \u001b[01;31mijava-1.3.0.zip\u001b[0m  \u001b[01;34mnewAnaconda\u001b[0m\n",
      "Anaconda3-2022.05-Linux-x86_64.sh.2  install.py       \u001b[01;34mvscode\u001b[0m\n",
      "\n",
      "list again with hidden files pulled from github\n",
      "\u001b[0m\u001b[01;34m.\u001b[0m              \u001b[01;34m.landscape\u001b[0m                 \u001b[01;32mAnaconda3-2022.05-Linux-x86_64.sh\u001b[0m\n",
      "\u001b[01;34m..\u001b[0m             \u001b[01;34m.local\u001b[0m                     Anaconda3-2022.05-Linux-x86_64.sh.1\n",
      ".bash_history  \u001b[01;34m.m2\u001b[0m                        Anaconda3-2022.05-Linux-x86_64.sh.2\n",
      ".bash_logout   .motd_shown                \u001b[01;34manaconda3\u001b[0m\n",
      ".bashrc        \u001b[01;34m.node-gyp\u001b[0m                  \u001b[01;31mijava-1.3.0.zip\u001b[0m\n",
      "\u001b[01;34m.cache\u001b[0m         \u001b[01;34m.npm\u001b[0m                       install.py\n",
      "\u001b[01;34m.conda\u001b[0m         .profile                   \u001b[01;34mjava\u001b[0m\n",
      "\u001b[01;34m.config\u001b[0m        \u001b[01;34m.sts4\u001b[0m                      \u001b[01;34mnewAnaconda\u001b[0m\n",
      ".gitconfig     .sudo_as_admin_successful  \u001b[01;34mvscode\u001b[0m\n",
      "\u001b[01;34m.ipython\u001b[0m       \u001b[01;34m.vscode-server\u001b[0m\n",
      "\u001b[01;34m.jupyter\u001b[0m       .wget-hsts\n",
      "\n",
      "list all files in long format\n",
      "total 2027388\n",
      "drwxr-xr-x 18 user1 user1      4096 Aug 23 10:19 \u001b[0m\u001b[01;34m.\u001b[0m\n",
      "drwxr-xr-x  3 root  root       4096 Aug 17 21:18 \u001b[01;34m..\u001b[0m\n",
      "-rw-------  1 user1 user1      3619 Aug 26 20:07 .bash_history\n",
      "-rw-r--r--  1 user1 user1       220 Aug 17 21:18 .bash_logout\n",
      "-rw-r--r--  1 user1 user1      4246 Aug 18 20:48 .bashrc\n",
      "drwxr-xr-x  6 user1 user1      4096 Aug 20 17:09 \u001b[01;34m.cache\u001b[0m\n",
      "drwxr-xr-x  2 user1 user1      4096 Aug 18 20:48 \u001b[01;34m.conda\u001b[0m\n",
      "drwxr-xr-x  3 user1 user1      4096 Aug 23 10:19 \u001b[01;34m.config\u001b[0m\n",
      "-rw-r--r--  1 user1 user1        49 Aug 17 21:28 .gitconfig\n",
      "drwxr-xr-x  3 user1 user1      4096 Aug 19 20:50 \u001b[01;34m.ipython\u001b[0m\n",
      "drwxr-xr-x  2 user1 user1      4096 Aug 18 21:18 \u001b[01;34m.jupyter\u001b[0m\n",
      "drwxr-xr-x  2 user1 user1      4096 Aug 17 21:19 \u001b[01;34m.landscape\u001b[0m\n",
      "drwxr-xr-x  5 user1 user1      4096 Aug 19 20:50 \u001b[01;34m.local\u001b[0m\n",
      "drwxr-xr-x  3 user1 user1      4096 Aug 20 17:09 \u001b[01;34m.m2\u001b[0m\n",
      "-rw-r--r--  1 user1 user1         0 Aug 27 10:20 .motd_shown\n",
      "drwxr-xr-x  3 user1 user1      4096 Aug 18 21:19 \u001b[01;34m.node-gyp\u001b[0m\n",
      "drwxr-xr-x 12 user1 user1      4096 Aug 18 21:19 \u001b[01;34m.npm\u001b[0m\n",
      "-rw-r--r--  1 user1 user1       807 Aug 17 21:18 .profile\n",
      "drwxr-xr-x  3 user1 user1      4096 Aug 20 17:10 \u001b[01;34m.sts4\u001b[0m\n",
      "-rw-r--r--  1 user1 user1         0 Aug 17 21:31 .sudo_as_admin_successful\n",
      "drwxr-xr-x  5 user1 user1      4096 Aug 17 21:28 \u001b[01;34m.vscode-server\u001b[0m\n",
      "-rw-r--r--  1 user1 user1       218 Aug 18 21:21 .wget-hsts\n",
      "-rwxr-xr-x  1 user1 user1 690850711 May 10 11:35 \u001b[01;32mAnaconda3-2022.05-Linux-x86_64.sh\u001b[0m\n",
      "-rw-r--r--  1 user1 user1 690850711 May 10 11:35 Anaconda3-2022.05-Linux-x86_64.sh.1\n",
      "-rw-r--r--  1 user1 user1 690850711 May 10 11:35 Anaconda3-2022.05-Linux-x86_64.sh.2\n",
      "drwxr-xr-x 28 user1 user1      4096 Aug 18 21:18 \u001b[01;34manaconda3\u001b[0m\n",
      "-rw-r--r--  1 user1 user1   3366077 Dec  6  2021 \u001b[01;31mijava-1.3.0.zip\u001b[0m\n",
      "-rw-r--r--  1 user1 user1      7471 May  5  2019 install.py\n",
      "drwxr-xr-x  3 user1 user1      4096 May  5  2019 \u001b[01;34mjava\u001b[0m\n",
      "drwxr-xr-x  2 user1 user1      4096 Aug 18 19:17 \u001b[01;34mnewAnaconda\u001b[0m\n",
      "drwxr-xr-x  6 user1 user1      4096 Aug 25 10:00 \u001b[01;34mvscode\u001b[0m\n"
     ]
    }
   ],
   "source": [
    "echo \"Navigate to project, then navigate to area wwhere files were cloned\"\n",
    "cd $project\n",
    "pwd\n",
    "\n",
    "echo \"\"\n",
    "echo \"list top level or root of files with project pulled from github\"\n",
    "ls\n",
    "\n",
    "echo \"\"\n",
    "echo \"list again with hidden files pulled from github\"\n",
    "ls -a   # hidden files flag, many shell commands have flags\n",
    "\n",
    "echo \"\"\n",
    "echo \"list all files in long format\"\n",
    "ls -al   # all files and long listing"
   ]
  },
  {
   "cell_type": "code",
   "execution_count": 4,
   "metadata": {},
   "outputs": [
    {
     "name": "stdout",
     "output_type": "stream",
     "text": [
      "Look for posts\n",
      "bash: cd: /_posts: No such file or directory\n",
      "/mnt/c/Users/User/vscode/mySite/fastpages/_notebooks\n",
      "total 3116\n",
      "-rwxrwxrwx 1 user1 user1 3162384 Aug 25 10:30 \u001b[0m\u001b[01;32m2020-02-20-test.ipynb\u001b[0m\n",
      "-rwxrwxrwx 1 user1 user1    1484 Aug 25 10:30 \u001b[01;32m2022-08-19-javaNB.ipynb\u001b[0m\n",
      "-rwxrwxrwx 1 user1 user1    1481 Aug 25 10:30 \u001b[01;32m2022-08-19-python.ipynb\u001b[0m\n",
      "-rwxrwxrwx 1 user1 user1    6809 Aug 27 16:06 \u001b[01;32m2022-08-25-primitiveHacks.ipynb\u001b[0m\n",
      "-rwxrwxrwx 1 user1 user1     799 Aug 27 11:32 \u001b[01;32m2022-08-27-bashChecks.ipynb\u001b[0m\n",
      "-rwxrwxrwx 1 user1 user1     771 Aug 25 10:30 \u001b[01;32mREADME.md\u001b[0m\n",
      "drwxrwxrwx 1 user1 user1     512 Aug 25 10:30 \u001b[34;42mghtop_images\u001b[0m\n",
      "drwxrwxrwx 1 user1 user1     512 Aug 25 10:30 \u001b[34;42mmy_icons\u001b[0m\n",
      "\n",
      "Look for notebooks\n",
      "bash: cd: /_notebooks: No such file or directory\n",
      "/mnt/c/Users/User/vscode/mySite/fastpages/_notebooks\n",
      "total 3116\n",
      "-rwxrwxrwx 1 user1 user1 3162384 Aug 25 10:30 \u001b[0m\u001b[01;32m2020-02-20-test.ipynb\u001b[0m\n",
      "-rwxrwxrwx 1 user1 user1    1484 Aug 25 10:30 \u001b[01;32m2022-08-19-javaNB.ipynb\u001b[0m\n",
      "-rwxrwxrwx 1 user1 user1    1481 Aug 25 10:30 \u001b[01;32m2022-08-19-python.ipynb\u001b[0m\n",
      "-rwxrwxrwx 1 user1 user1    6809 Aug 27 16:06 \u001b[01;32m2022-08-25-primitiveHacks.ipynb\u001b[0m\n",
      "-rwxrwxrwx 1 user1 user1     799 Aug 27 11:32 \u001b[01;32m2022-08-27-bashChecks.ipynb\u001b[0m\n",
      "-rwxrwxrwx 1 user1 user1     771 Aug 25 10:30 \u001b[01;32mREADME.md\u001b[0m\n",
      "drwxrwxrwx 1 user1 user1     512 Aug 25 10:30 \u001b[34;42mghtop_images\u001b[0m\n",
      "drwxrwxrwx 1 user1 user1     512 Aug 25 10:30 \u001b[34;42mmy_icons\u001b[0m\n"
     ]
    }
   ],
   "source": [
    "echo \"Look for posts\"\n",
    "export posts=$project/_posts  # _posts inside project\n",
    "cd $posts  # this should exist per fastpages\n",
    "pwd  # present working directory\n",
    "ls -l  # list posts\n",
    "\n",
    "echo \"\"\n",
    "\n",
    "echo \"Look for notebooks\"\n",
    "export notebooks=$project/_notebooks  # _notebooks is inside project\n",
    "cd $notebooks   # this should exist per fastpages\n",
    "pwd  # present working directory\n",
    "ls -l  # list notebooks"
   ]
  },
  {
   "cell_type": "markdown",
   "metadata": {},
   "source": [
    "## Env\n",
    "- Env(ironement): used to show path to directories\n",
    "- \"env\": shows shell setting"
   ]
  },
  {
   "cell_type": "code",
   "execution_count": 8,
   "metadata": {},
   "outputs": [
    {
     "name": "stdout",
     "output_type": "stream",
     "text": [
      "Show the shell environment variables, key on left of equal value on right\n",
      "\n",
      "SHELL=/bin/bash\n",
      "PYTHONUNBUFFERED=1\n",
      "CONDA_EXE=/home/user1/anaconda3/bin/conda\n",
      "_CE_M=\n",
      "APPLICATION_INSIGHTS_NO_DIAGNOSTIC_CHANNEL=1\n",
      "WSL_DISTRO_NAME=Ubuntu\n",
      "ELECTRON_RUN_AS_NODE=1\n",
      "VSCODE_AMD_ENTRYPOINT=vs/workbench/api/node/extensionHostProcess\n",
      "NAME=DESKTOP-DS0GMEB\n",
      "PWD=/home/user1\n",
      "LOGNAME=user1\n",
      "CONDA_PREFIX=/home/user1/anaconda3\n",
      "HOME=/home/user1\n",
      "LANG=C.UTF-8\n",
      "WSL_INTEROP=/run/WSL/11_interop\n",
      "LS_COLORS=rs=0:di=01;34:ln=01;36:mh=00:pi=40;33:so=01;35:do=01;35:bd=40;33;01:cd=40;33;01:or=40;31;01:mi=00:su=37;41:sg=30;43:ca=30;41:tw=30;42:ow=34;42:st=37;44:ex=01;32:*.tar=01;31:*.tgz=01;31:*.arc=01;31:*.arj=01;31:*.taz=01;31:*.lha=01;31:*.lz4=01;31:*.lzh=01;31:*.lzma=01;31:*.tlz=01;31:*.txz=01;31:*.tzo=01;31:*.t7z=01;31:*.zip=01;31:*.z=01;31:*.dz=01;31:*.gz=01;31:*.lrz=01;31:*.lz=01;31:*.lzo=01;31:*.xz=01;31:*.zst=01;31:*.tzst=01;31:*.bz2=01;31:*.bz=01;31:*.tbz=01;31:*.tbz2=01;31:*.tz=01;31:*.deb=01;31:*.rpm=01;31:*.jar=01;31:*.war=01;31:*.ear=01;31:*.sar=01;31:*.rar=01;31:*.alz=01;31:*.ace=01;31:*.zoo=01;31:*.cpio=01;31:*.7z=01;31:*.rz=01;31:*.cab=01;31:*.wim=01;31:*.swm=01;31:*.dwm=01;31:*.esd=01;31:*.jpg=01;35:*.jpeg=01;35:*.mjpg=01;35:*.mjpeg=01;35:*.gif=01;35:*.bmp=01;35:*.pbm=01;35:*.pgm=01;35:*.ppm=01;35:*.tga=01;35:*.xbm=01;35:*.xpm=01;35:*.tif=01;35:*.tiff=01;35:*.png=01;35:*.svg=01;35:*.svgz=01;35:*.mng=01;35:*.pcx=01;35:*.mov=01;35:*.mpg=01;35:*.mpeg=01;35:*.m2v=01;35:*.mkv=01;35:*.webm=01;35:*.ogm=01;35:*.mp4=01;35:*.m4v=01;35:*.mp4v=01;35:*.vob=01;35:*.qt=01;35:*.nuv=01;35:*.wmv=01;35:*.asf=01;35:*.rm=01;35:*.rmvb=01;35:*.flc=01;35:*.avi=01;35:*.fli=01;35:*.flv=01;35:*.gl=01;35:*.dl=01;35:*.xcf=01;35:*.xwd=01;35:*.yuv=01;35:*.cgm=01;35:*.emf=01;35:*.ogv=01;35:*.ogx=01;35:*.aac=00;36:*.au=00;36:*.flac=00;36:*.m4a=00;36:*.mid=00;36:*.midi=00;36:*.mka=00;36:*.mp3=00;36:*.mpc=00;36:*.ogg=00;36:*.ra=00;36:*.wav=00;36:*.oga=00;36:*.opus=00;36:*.spx=00;36:*.xspf=00;36:\n",
      "CONDA_PROMPT_MODIFIER=(base) \n",
      "PYDEVD_USE_FRAME_EVAL=NO\n",
      "posts=/_posts\n",
      "LESSCLOSE=/usr/bin/lesspipe %s %s\n",
      "VSCODE_HANDLES_SIGPIPE=true\n",
      "TERM=xterm-256color\n",
      "_CE_CONDA=\n",
      "LESSOPEN=| /usr/bin/lesspipe %s\n",
      "USER=user1\n",
      "PYTHONIOENCODING=utf-8\n",
      "notebooks=/_notebooks\n",
      "CONDA_SHLVL=1\n",
      "SHLVL=1\n",
      "PAGER=cat\n",
      "VSCODE_CWD=/mnt/c/Users/User/AppData/Local/Programs/Microsoft VS Code\n",
      "CONDA_PYTHON_EXE=/home/user1/anaconda3/bin/python\n",
      "PS1=[PEXP\\[\\]ECT_PROMPT>\n",
      "CONDA_DEFAULT_ENV=base\n",
      "WSLENV=VSCODE_WSL_EXT_LOCATION/up\n",
      "VSCODE_WSL_EXT_LOCATION=/mnt/c/Users/User/.vscode/extensions/ms-vscode-remote.remote-wsl-0.66.3\n",
      "PATH=/home/user1/anaconda3/bin:/home/user1/anaconda3/condabin:/home/user1/.vscode-server/bin/e4503b30fc78200f846c62cf8091b76ff5547662/bin/remote-cli:/usr/local/sbin:/usr/local/bin:/usr/sbin:/usr/bin:/sbin:/bin:/usr/games:/usr/local/games:/usr/lib/wsl/lib:/mnt/c/Program Files (x86)/VMware/VMware Workstation/bin:/mnt/c/WINDOWS/system32:/mnt/c/WINDOWS:/mnt/c/WINDOWS/System32/Wbem:/mnt/c/WINDOWS/System32/WindowsPowerShell/v1.0:/mnt/c/WINDOWS/System32/OpenSSH:/mnt/c/Program Files/Git/cmd:/mnt/c/Users/User/.conda:/mnt/c/Users/username/Anaconda3:/mnt/c/Users/User/AppData/Local/Programs/Python/Python38-32/Scripts:/mnt/c/Users/User/AppData/Local/Programs/Python/Python38-32:/mnt/c/Users/User/AppData/Local/Microsoft/WindowsApps:/mnt/c/Users/User/AppData/Local/Programs/Microsoft VS Code/bin:/mnt/c/Users/User/Documents/flutter/bin:/mnt/c/Users/User/AppData/Local/GitHubDesktop/bin:/mnt/c/Users/User/AppData/Local/atom/bin\n",
      "VSCODE_NLS_CONFIG={\"locale\":\"en\",\"availableLanguages\":{}}\n",
      "HOSTTYPE=x86_64\n",
      "VSCODE_HANDLES_UNCAUGHT_ERRORS=true\n",
      "VSCODE_IPC_HOOK_CLI=/tmp/vscode-ipc-513e3e18-9649-4849-973e-06eebf91614c.sock\n",
      "_=/usr/bin/env\n",
      "OLDPWD=/home/user1\n"
     ]
    }
   ],
   "source": [
    "echo \"Show the shell environment variables, key on left of equal value on right\"\n",
    "echo \"\"\n",
    "\n",
    "env"
   ]
  },
  {
   "cell_type": "markdown",
   "metadata": {},
   "source": [
    "# Installation Checks"
   ]
  },
  {
   "cell_type": "markdown",
   "metadata": {},
   "source": [
    "## Python and Java Checks"
   ]
  },
  {
   "cell_type": "code",
   "execution_count": 9,
   "metadata": {},
   "outputs": [
    {
     "name": "stdout",
     "output_type": "stream",
     "text": [
      "Python 3.9.12\n",
      "Python 2.7.18\n",
      "Python 3.9.12\n",
      "openjdk 11.0.16 2022-07-19\n",
      "OpenJDK Runtime Environment (build 11.0.16+8-post-Ubuntu-0ubuntu120.04)\n",
      "OpenJDK 64-Bit Server VM (build 11.0.16+8-post-Ubuntu-0ubuntu120.04, mixed mode, sharing)\n"
     ]
    }
   ],
   "source": [
    "python --version\n",
    "\n",
    "python2 --version\n",
    "python3 --version\n",
    "\n",
    "java --version\n"
   ]
  },
  {
   "cell_type": "markdown",
   "metadata": {},
   "source": [
    "## Anaconda Checks"
   ]
  },
  {
   "cell_type": "code",
   "execution_count": 10,
   "metadata": {},
   "outputs": [
    {
     "name": "stdout",
     "output_type": "stream",
     "text": [
      "conda 4.13.0\n"
     ]
    }
   ],
   "source": [
    "conda --version"
   ]
  },
  {
   "cell_type": "markdown",
   "metadata": {},
   "source": [
    "## Jupyter and Kernel Checks"
   ]
  },
  {
   "cell_type": "code",
   "execution_count": 13,
   "metadata": {},
   "outputs": [
    {
     "name": "stdout",
     "output_type": "stream",
     "text": [
      "Selected Jupyter core packages...\n",
      "IPython          : 8.2.0\n",
      "ipykernel        : 6.9.1\n",
      "ipywidgets       : 7.6.5\n",
      "jupyter_client   : 6.1.12\n",
      "jupyter_core     : 4.9.2\n",
      "jupyter_server   : 1.13.5\n",
      "jupyterlab       : 3.3.2\n",
      "nbclient         : 0.5.13\n",
      "nbconvert        : 6.4.4\n",
      "nbformat         : 5.3.0\n",
      "notebook         : 6.4.8\n",
      "qtconsole        : 5.3.0\n",
      "traitlets        : 5.1.1\n",
      "Available kernels:\n",
      "  bash          /home/user1/.local/share/jupyter/kernels/bash\n",
      "  java          /home/user1/.local/share/jupyter/kernels/java\n",
      "  javascript    /home/user1/.local/share/jupyter/kernels/javascript\n",
      "  python3       /home/user1/.local/share/jupyter/kernels/python3\n"
     ]
    }
   ],
   "source": [
    "jupyter --version\n",
    "jupyter kernelspec list"
   ]
  },
  {
   "cell_type": "markdown",
   "metadata": {},
   "source": [
    "## Project File Checks"
   ]
  },
  {
   "cell_type": "code",
   "execution_count": 24,
   "metadata": {},
   "outputs": [
    {
     "name": "stdout",
     "output_type": "stream",
     "text": [
      "files\n",
      "\n",
      "\u001b[0m\u001b[01;32mAnaconda3-2022.05-Linux-x86_64.sh\u001b[0m    \u001b[01;34manaconda3\u001b[0m        \u001b[01;34mjava\u001b[0m\n",
      "Anaconda3-2022.05-Linux-x86_64.sh.1  \u001b[01;31mijava-1.3.0.zip\u001b[0m  \u001b[01;34mnewAnaconda\u001b[0m\n",
      "Anaconda3-2022.05-Linux-x86_64.sh.2  install.py       \u001b[01;34mvscode\u001b[0m\n",
      "\n",
      "files in vscode directory\n",
      "\n",
      "\u001b[0m\u001b[01;34mAPCSA\u001b[0m  \u001b[01;34mAPCSP\u001b[0m  \u001b[01;34mfastpages\u001b[0m  \u001b[01;34mspringJavaProject\u001b[0m\n"
     ]
    }
   ],
   "source": [
    "cd ~\n",
    "echo \"files\"\n",
    "echo \"\"\n",
    "ls\n",
    "\n",
    "cd vscode\n",
    "echo \"\"\n",
    "echo \"files in vscode directory\"\n",
    "echo \"\"\n",
    "ls\n"
   ]
  }
 ],
 "metadata": {
  "kernelspec": {
   "display_name": "Java",
   "language": "java",
   "name": "java"
  },
  "language_info": {
   "codemirror_mode": "shell",
   "file_extension": ".sh",
   "mimetype": "text/x-sh",
   "name": "java"
  },
  "orig_nbformat": 4,
  "vscode": {
   "interpreter": {
    "hash": "916dbcbb3f70747c44a77c7bcd40155683ae19c65e1c03b4aa3499c5328201f1"
   }
  }
 },
 "nbformat": 4,
 "nbformat_minor": 2
}
