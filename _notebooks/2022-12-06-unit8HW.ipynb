{
 "cells": [
  {
   "cell_type": "markdown",
   "metadata": {},
   "source": [
    "# Unit 8 2D Array HW - Meena Annamalai\n",
    "> HW for Unit 8\n",
    "\n",
    "- toc: true \n",
    "- badges: true\n",
    "- comments: true\n",
    "- categories: [jupyter]\n",
    "- image: images/acorn.png"
   ]
  },
  {
   "cell_type": "markdown",
   "metadata": {},
   "source": [
    "- Create a class for 2D array learning.\n",
    "- Create a method to initialize a 2D array with arbitrary values\n",
    "- Create a method to reverse the 2D array and print out the values\n",
    "- Create a method that asks for the input of a position and it returns the corresponding value\n",
    "- Create a method that multiplies each value in a row and then adds all the products together\n",
    "- Create a new object to test out each method in the main function"
   ]
  },
  {
   "cell_type": "code",
   "execution_count": 12,
   "metadata": {},
   "outputs": [],
   "source": [
    "public class myArray {\n",
    "\n",
    "    \n",
    "    private int[][] numbers;\n",
    "\n",
    "    public myArray(){\n",
    "        numbers = new int [5][5];\n",
    "        this.numbers = numbers; \n",
    "    } \n",
    "\n",
    "    public void initializeValues(){\n",
    "        System.out.println(\"\\n\\nArray\");\n",
    "        Random random = new Random();\n",
    "        for(int i = 0; i < numbers.length;i++){\n",
    "        for(int j = 0; j <numbers[i].length;j++){ \n",
    "            numbers[i][j] = random.nextInt(11 - 1) + 1;\n",
    "            System.out.print(numbers[i][j]+\" \");\n",
    "        }\n",
    "        System.out.println(\" \");\n",
    "        }\n",
    "    }\n",
    "\n",
    "    public void reverseArray() {\n",
    "        System.out.println(\"\\n\\nReverse Array\");\n",
    "        for(int i = numbers.length-1;i>=0;i--){\n",
    "        for(int j = 0; j <numbers[i].length;j++){ \n",
    "            System.out.print(numbers[i][j]+\" \");\n",
    "        }\n",
    "        System.out.println(\" \");\n",
    "        }\n",
    "        System.out.println(\"\\n\");\n",
    "        \n",
    "    }\n",
    "\n",
    "    public void outputArrayValue() {\n",
    "                // Create a method that asks for the input of a position and it returns the corresponding value\n",
    "\n",
    "        Scanner myObj = new Scanner(System.in);  // Create a Scanner object\n",
    "        System.out.println(\"Enter row\");\n",
    "\n",
    "        String arrayValue1 = myObj.nextLine();  // Read user input\n",
    "        System.out.println(arrayValue1);\n",
    "        int numArrayValue1 = Integer.parseInt(arrayValue1); \n",
    "\n",
    "        System.out.println(\"Enter column\");\n",
    "\n",
    "        String arrayValue2 = myObj.nextLine();  // Read user input\n",
    "        System.out.println(arrayValue2);\n",
    "        int numArrayValue2 = Integer.parseInt(arrayValue2); \n",
    "\n",
    "        System.out.println(\"The value in that positions is \" + numbers[numArrayValue1][numArrayValue2]);\n",
    "        System.out.println(\"\\n\");\n",
    "            }\n",
    "\n",
    "    public void sumOfProducts() {\n",
    "        // Create a method that multiplies each value in a row and then adds all the products together\n",
    "        int finalProduct = 1;\n",
    "        for(int i = 0;i<numbers.length;i++){\n",
    "            int product = 1; \n",
    "            for(int j = 0; j < numbers[i].length;j++){ \n",
    "                product = product * numbers[i][j];\n",
    "                \n",
    "            }\n",
    "            System.out.print(\"row \" + i + \": product is \" + product);\n",
    "            System.out.println(\" \");\n",
    "            finalProduct += product; \n",
    "        }\n",
    "\n",
    "        System.out.print(\"Sum of all products is \" + finalProduct);\n",
    "        System.out.println(\"\\n\");\n",
    "\n",
    "    }\n",
    "}"
   ]
  },
  {
   "cell_type": "code",
   "execution_count": 13,
   "metadata": {},
   "outputs": [
    {
     "name": "stdout",
     "output_type": "stream",
     "text": [
      "\n",
      "\n",
      "Array\n",
      "8 4 7 5 7  \n",
      "8 6 7 8 1  \n",
      "8 10 5 4 10  \n",
      "6 6 4 6 10  \n",
      "7 7 3 7 5  \n",
      "\n",
      "\n",
      "Reverse Array\n",
      "7 7 3 7 5  \n",
      "6 6 4 6 10  \n",
      "8 10 5 4 10  \n",
      "8 6 7 8 1  \n",
      "8 4 7 5 7  \n",
      "\n",
      "\n",
      "Enter row\n",
      "1\n",
      "Enter column\n",
      "2\n",
      "The value in that positions is 7\n",
      "\n",
      "\n",
      "row 0: product is 7840 \n",
      "row 1: product is 2688 \n",
      "row 2: product is 16000 \n",
      "row 3: product is 8640 \n",
      "row 4: product is 5145 \n",
      "Sum of all products is 40314\n",
      "\n"
     ]
    }
   ],
   "source": [
    "//Create a new object to test out each method in the main function\n",
    "myArray anArray = new myArray(); \n",
    "anArray.initializeValues();\n",
    "anArray.reverseArray();\n",
    "anArray.outputArrayValue(); \n",
    "anArray.sumOfProducts();\n"
   ]
  }
 ],
 "metadata": {
  "kernelspec": {
   "display_name": "Java",
   "language": "java",
   "name": "java"
  },
  "language_info": {
   "codemirror_mode": "java",
   "file_extension": ".jshell",
   "mimetype": "text/x-java-source",
   "name": "java",
   "pygments_lexer": "java",
   "version": "11.0.16+8-post-Ubuntu-0ubuntu120.04"
  },
  "orig_nbformat": 4,
  "vscode": {
   "interpreter": {
    "hash": "31f2aee4e71d21fbe5cf8b01ff0e069b9275f58929596ceb00d14d90e3e16cd6"
   }
  }
 },
 "nbformat": 4,
 "nbformat_minor": 2
}
