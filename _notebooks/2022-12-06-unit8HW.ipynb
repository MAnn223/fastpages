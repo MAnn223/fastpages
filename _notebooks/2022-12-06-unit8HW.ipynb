{
 "cells": [
  {
   "cell_type": "markdown",
   "metadata": {},
   "source": [
    "# Unit 8 2D Array HW - Meena Annamalai\n",
    "> HW for Unit 8\n",
    "\n",
    "- toc: true \n",
    "- badges: true\n",
    "- comments: true\n",
    "- categories: [jupyter]\n",
    "- image: images/acorn.png"
   ]
  },
  {
   "cell_type": "markdown",
   "metadata": {},
   "source": [
    "- Create a class for 2D array learning.\n",
    "- Create a method too initialize a 2D array with arbitrary values\n",
    "- Create a method to reverse the 2D array and print out the values\n",
    "- Create a method that asks for the input of a position and it returns the corresponding value\n",
    "- Create a method that multiplies each value in a row and then adds all the products together\n",
    "- Create a new object to test out each method in the main function"
   ]
  },
  {
   "cell_type": "code",
   "execution_count": 40,
   "metadata": {
    "vscode": {
     "languageId": "java"
    }
   },
   "outputs": [],
   "source": [
    "public class myArray {\n",
    "\n",
    "    private int[][] numbers;\n",
    "\n",
    "    public myArray(int[][] numbers){\n",
    "        this.numbers = numbers; \n",
    "    } \n",
    "    public void reverseArray() {\n",
    "        System.out.println(\"\\n\\nReverse Array\");\n",
    "        for(int i = numbers.length-1;i>=0;i--){\n",
    "        for(int j = 0; j <numbers[i].length;j++){ \n",
    "            System.out.print(numbers[i][j]+\" \");\n",
    "        }\n",
    "        System.out.println(\" \");\n",
    "        }\n",
    "        System.out.println(\"\\n\");\n",
    "        \n",
    "    }\n",
    "\n",
    "    public void outputArrayValue() {\n",
    "                // Create a method that asks for the input of a position and it returns the corresponding value\n",
    "\n",
    "        Scanner myObj = new Scanner(System.in);  // Create a Scanner object\n",
    "        System.out.println(\"Enter row\");\n",
    "\n",
    "        String arrayValue1 = myObj.nextLine();  // Read user input\n",
    "        System.out.println(arrayValue1);\n",
    "        int numArrayValue1 = Integer.parseInt(arrayValue1); \n",
    "\n",
    "        System.out.println(\"Enter column\");\n",
    "\n",
    "        String arrayValue2 = myObj.nextLine();  // Read user input\n",
    "        System.out.println(arrayValue2);\n",
    "        int numArrayValue2 = Integer.parseInt(arrayValue2); \n",
    "\n",
    "        System.out.println(\"The value in that positions is \" + numbers[numArrayValue1][numArrayValue2]);\n",
    "        System.out.println(\"\\n\");\n",
    "            }\n",
    "\n",
    "    public void sumOfProducts() {\n",
    "        // Create a method that multiplies each value in a row and then adds all the products together\n",
    "        int finalProduct = 1;\n",
    "        for(int i = 0;i<numbers.length;i++){\n",
    "            int product = 1; \n",
    "            for(int j = 0; j < numbers[i].length;j++){ \n",
    "                product = product * numbers[i][j];\n",
    "                \n",
    "            }\n",
    "            System.out.print(\"row \" + i + \": product is \" + product);\n",
    "            System.out.println(\" \");\n",
    "            finalProduct += product; \n",
    "        }\n",
    "\n",
    "        System.out.print(\"Sum of all products is \" + finalProduct);\n",
    "        System.out.println(\"\\n\");\n",
    "\n",
    "    }\n",
    "}"
   ]
  },
  {
   "cell_type": "code",
   "execution_count": 41,
   "metadata": {
    "vscode": {
     "languageId": "java"
    }
   },
   "outputs": [
    {
     "name": "stdout",
     "output_type": "stream",
     "text": [
      "\n",
      "\n",
      "Reverse Array\n",
      "13 14 15 16  \n",
      "9 10 11 12  \n",
      "5 6 7 8  \n",
      "1 2 3 4  \n",
      "\n",
      "\n",
      "Enter row\n",
      "1\n",
      "Enter column\n",
      "2\n",
      "The value in that positions is 7\n",
      "\n",
      "\n",
      "row 0: product is 24 \n",
      "row 1: product is 1680 \n",
      "row 2: product is 11880 \n",
      "row 3: product is 43680 \n",
      "Sum of all products is 57265\n",
      "\n"
     ]
    }
   ],
   "source": [
    "int[][] myNumbers = {{1,2,3,4},{5,6,7,8},{9,10,11,12},{13,14,15,16}};\n",
    "myArray anArray = new myArray(myNumbers); \n",
    "anArray.reverseArray();\n",
    "anArray.outputArrayValue(); \n",
    "anArray.sumOfProducts();\n"
   ]
  }
 ],
 "metadata": {
  "kernelspec": {
   "display_name": "Java",
   "language": "java",
   "name": "java"
  },
  "language_info": {
   "codemirror_mode": "java",
   "file_extension": ".jshell",
   "mimetype": "text/x-java-source",
   "name": "Java",
   "pygments_lexer": "java",
   "version": "11.0.16+8-post-Ubuntu-0ubuntu120.04"
  },
  "orig_nbformat": 4,
  "vscode": {
   "interpreter": {
    "hash": "31f2aee4e71d21fbe5cf8b01ff0e069b9275f58929596ceb00d14d90e3e16cd6"
   }
  }
 },
 "nbformat": 4,
 "nbformat_minor": 2
}
